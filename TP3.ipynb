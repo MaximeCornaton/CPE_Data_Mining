{
 "cells": [
  {
   "cell_type": "code",
   "execution_count": 2,
   "id": "ed74f05b-a3ad-46c6-a078-bd3c72e8ecea",
   "metadata": {},
   "outputs": [
    {
     "name": "stdout",
     "output_type": "stream",
     "text": [
      "Collecting matplotlib\n",
      "  Downloading https://files.pythonhosted.org/packages/09/03/b7b30fa81cb687d1178e085d0f01111ceaea3bf81f9330c937fb6f6c8ca0/matplotlib-3.3.4-cp36-cp36m-manylinux1_x86_64.whl (11.5MB)\n",
      "\u001b[K    100% |████████████████████████████████| 11.5MB 195kB/s eta 0:00:011\n",
      "\u001b[?25hRequirement already satisfied: pillow>=6.2.0 in ./env/lib/python3.6/site-packages (from matplotlib)\n",
      "Requirement already satisfied: cycler>=0.10 in ./env/lib/python3.6/site-packages (from matplotlib)\n",
      "Requirement already satisfied: numpy>=1.15 in ./env/lib/python3.6/site-packages (from matplotlib)\n",
      "Requirement already satisfied: python-dateutil>=2.1 in ./env/lib/python3.6/site-packages (from matplotlib)\n",
      "Requirement already satisfied: pyparsing!=2.0.4,!=2.1.2,!=2.1.6,>=2.0.3 in ./env/lib/python3.6/site-packages (from matplotlib)\n",
      "Collecting kiwisolver>=1.0.1 (from matplotlib)\n",
      "  Downloading https://files.pythonhosted.org/packages/a7/1b/cbd8ae738719b5f41592a12057ef5442e2ed5f5cb5451f8fc7e9f8875a1a/kiwisolver-1.3.1-cp36-cp36m-manylinux1_x86_64.whl (1.1MB)\n",
      "\u001b[K    100% |████████████████████████████████| 1.1MB 2.0MB/s  eta 0:00:01\n",
      "\u001b[?25hRequirement already satisfied: six>=1.5 in ./env/lib/python3.6/site-packages (from python-dateutil>=2.1->matplotlib)\n",
      "Installing collected packages: kiwisolver, matplotlib\n",
      "Successfully installed kiwisolver-1.3.1 matplotlib-3.3.4\n",
      "[4.4408921e-16] [[1.]]\n",
      "[[ 6.]\n",
      " [ 7.]\n",
      " [ 8.]\n",
      " [ 9.]\n",
      " [10.]]\n"
     ]
    }
   ],
   "source": [
    "!pip install matplotlib\n",
    "\n",
    "import numpy as np\n",
    "import matplotlib.pyplot as plot\n",
    "from sklearn.linear_model import LinearRegression\n",
    "\n",
    "numarray = np.array([[0, 0], [1, 1], [2, 2], [3, 3], [4, 4], [5, 5]])\n",
    "\n",
    "lr = LinearRegression()\n",
    "lr.fit(numarray[:, 0].reshape(-1, 1), numarray[:, 1].reshape(-1, 1))\n",
    "\n",
    "# printing coefficients\n",
    "print(lr.intercept_, lr.coef_)\n",
    "\n",
    "x_predict = np.array([6, 7, 8, 9, 10])\n",
    "\n",
    "y_predict = lr.predict(x_predict.reshape(-1, 1))\n",
    "print(y_predict)\n"
   ]
  },
  {
   "cell_type": "code",
   "execution_count": 3,
   "id": "6b6fd382-f00b-4fc7-ba97-f149e5a0eec6",
   "metadata": {},
   "outputs": [
    {
     "name": "stdout",
     "output_type": "stream",
     "text": [
      "[1.] [[1.]]\n",
      "[[ 7.]\n",
      " [ 8.]\n",
      " [ 9.]\n",
      " [10.]\n",
      " [11.]]\n"
     ]
    }
   ],
   "source": [
    "import numpy as np\n",
    "import matplotlib.pyplot as plot\n",
    "from sklearn.linear_model import LinearRegression\n",
    "\n",
    "numarray = np.array([[0, 1], [1, 2], [2, 3], [3, 4], [4, 5], [5, 6]])\n",
    "\n",
    "lr = LinearRegression()\n",
    "lr.fit(numarray[:, 0].reshape(-1, 1), numarray[:, 1].reshape(-1, 1))\n",
    "\n",
    "# printing coefficients\n",
    "print(lr.intercept_, lr.coef_)\n",
    "\n",
    "x_predict = np.array([6, 7, 8, 9, 10])\n",
    "\n",
    "y_predict = lr.predict(x_predict.reshape(-1, 1))\n",
    "print(y_predict)"
   ]
  },
  {
   "cell_type": "code",
   "execution_count": 4,
   "id": "b6253189-ffc6-4dde-b217-49d638f36739",
   "metadata": {},
   "outputs": [
    {
     "name": "stdout",
     "output_type": "stream",
     "text": [
      "[-3.33333333] [[5.]]\n",
      "[[26.66666667]\n",
      " [31.66666667]\n",
      " [36.66666667]\n",
      " [41.66666667]\n",
      " [46.66666667]]\n"
     ]
    }
   ],
   "source": [
    "import numpy as np\n",
    "import matplotlib.pyplot as plot\n",
    "from sklearn.linear_model import LinearRegression\n",
    "\n",
    "numarray = np.array([[0, 0], [1, 1], [2, 4], [3, 9], [4, 16], [5, 25]])\n",
    "\n",
    "lr = LinearRegression()\n",
    "lr.fit(numarray[:, 0].reshape(-1, 1), numarray[:, 1].reshape(-1, 1))\n",
    "\n",
    "# printing coefficients\n",
    "print(lr.intercept_, lr.coef_)\n",
    "\n",
    "x_predict = np.array([6, 7, 8, 9, 10])\n",
    "\n",
    "y_predict = lr.predict(x_predict.reshape(-1, 1))\n",
    "print(y_predict)\n"
   ]
  },
  {
   "cell_type": "code",
   "execution_count": 5,
   "id": "c7e0599f-ddda-4e26-96a9-7e064ebde362",
   "metadata": {},
   "outputs": [
    {
     "name": "stdout",
     "output_type": "stream",
     "text": [
      "[1.77635684e-15] [[ 0.00000000e+00 -1.55431223e-15  1.00000000e+00]]\n",
      "[[ 36.]\n",
      " [ 49.]\n",
      " [ 64.]\n",
      " [ 81.]\n",
      " [100.]]\n"
     ]
    }
   ],
   "source": [
    "import numpy as np\n",
    "import matplotlib.pyplot as plot\n",
    "from sklearn.linear_model import LinearRegression\n",
    "from sklearn.preprocessing import PolynomialFeatures\n",
    "\n",
    "numarray = np.array([[0, 0], [1, 1], [2, 4], [3, 9], [4, 16], [5, 25]])\n",
    "\n",
    "# using polynomial features\n",
    "pf = PolynomialFeatures(degree=2)\n",
    "x_poly = pf.fit_transform(numarray[:, 0].reshape(-1, 1))\n",
    "lr = LinearRegression()\n",
    "lr.fit(x_poly, numarray[:, 1].reshape(-1, 1))\n",
    "\n",
    "# printing coefficients\n",
    "print(lr.intercept_, lr.coef_)\n",
    "\n",
    "x_predict = np.array([6, 7, 8, 9, 10])\n",
    "\n",
    "y_predict = lr.predict(pf.fit_transform(x_predict.reshape(-1, 1)))\n",
    "print(y_predict)\n"
   ]
  },
  {
   "cell_type": "code",
   "execution_count": 6,
   "id": "5780d91d-7d63-4ff4-bf52-42301f1a2a9a",
   "metadata": {},
   "outputs": [
    {
     "name": "stdout",
     "output_type": "stream",
     "text": [
      "[2.13162821e-14] [[ 0.00000000e+00 -2.44249065e-15  2.63677968e-15  1.00000000e+00]]\n",
      "[[ 216.]\n",
      " [ 343.]\n",
      " [ 512.]\n",
      " [ 729.]\n",
      " [1000.]]\n"
     ]
    }
   ],
   "source": [
    "\n",
    "\n",
    "import numpy as np\n",
    "import matplotlib.pyplot as plot\n",
    "from sklearn.linear_model import LinearRegression\n",
    "from sklearn.preprocessing import PolynomialFeatures\n",
    "\n",
    "numarray = np.array([[0, 0], [1, 1], [2, 8], [3, 27], [4, 64], [5, 125]])\n",
    "\n",
    "# using polynomial features\n",
    "pf = PolynomialFeatures(degree=3)\n",
    "x_poly = pf.fit_transform(numarray[:, 0].reshape(-1, 1))\n",
    "lr = LinearRegression()\n",
    "lr.fit(x_poly, numarray[:, 1].reshape(-1, 1))\n",
    "\n",
    "# printing coefficients\n",
    "print(lr.intercept_, lr.coef_)\n",
    "\n",
    "x_predict = np.array([6, 7, 8, 9, 10])\n",
    "\n",
    "y_predict = lr.predict(pf.fit_transform(x_predict.reshape(-1, 1)))\n",
    "print(y_predict)\n",
    "\n"
   ]
  },
  {
   "cell_type": "code",
   "execution_count": 14,
   "id": "12efaf24-7cc5-403b-b0d0-12a2dcfb9456",
   "metadata": {},
   "outputs": [
    {
     "name": "stdout",
     "output_type": "stream",
     "text": [
      "Requirement already satisfied: pandas in ./env/lib/python3.6/site-packages\n",
      "Requirement already satisfied: numpy>=1.15.4 in ./env/lib/python3.6/site-packages (from pandas)\n",
      "Requirement already satisfied: python-dateutil>=2.7.3 in ./env/lib/python3.6/site-packages (from pandas)\n",
      "Requirement already satisfied: pytz>=2017.2 in ./env/lib/python3.6/site-packages (from pandas)\n",
      "Requirement already satisfied: six>=1.5 in ./env/lib/python3.6/site-packages (from python-dateutil>=2.7.3->pandas)\n"
     ]
    },
    {
     "data": {
      "text/plain": [
       "<AxesSubplot:xlabel='year', ylabel='population'>"
      ]
     },
     "execution_count": 14,
     "metadata": {},
     "output_type": "execute_result"
    },
    {
     "data": {
      "image/png": "[encoded data removed]",
      "text/plain": [
       "<Figure size 432x288 with 1 Axes>"
      ]
     },
     "metadata": {
      "needs_background": "light"
     },
     "output_type": "display_data"
    }
   ],
   "source": [
    "!pip install pandas\n",
    "\n",
    "import numpy as np\n",
    "import matplotlib.pyplot as plot\n",
    "import pandas as pd\n",
    "\n",
    "dataset = np.loadtxt(\n",
    "    \"data/population.csv\",\n",
    "    dtype={\"names\": (\"year\", \"population\"), \"formats\": (\"i4\", \"i\")},\n",
    "    skiprows=1,\n",
    "    delimiter=\",\",\n",
    "    encoding=\"UTF-8\",\n",
    ")\n",
    "\n",
    "df = pd.DataFrame(dataset)\n",
    "df.plot(x=\"year\", y=\"population\", kind=\"scatter\")"
   ]
  },
  {
   "cell_type": "code",
   "execution_count": 15,
   "id": "51e9745f-4c55-48df-b537-b55c65e40bdc",
   "metadata": {},
   "outputs": [
    {
     "name": "stdout",
     "output_type": "stream",
     "text": [
      "[-5.86674085e+08] [[324065.22138837]]\n"
     ]
    },
    {
     "data": {
      "image/png": "[encoded data removed]",
      "text/plain": [
       "<Figure size 432x288 with 1 Axes>"
      ]
     },
     "metadata": {
      "needs_background": "light"
     },
     "output_type": "display_data"
    }
   ],
   "source": [
    "import numpy as np\n",
    "import matplotlib.pyplot as plot\n",
    "import pandas as pd\n",
    "from sklearn.linear_model import LinearRegression\n",
    "\n",
    "dataset = np.loadtxt(\n",
    "    \"data/population.csv\",\n",
    "    dtype={\"names\": (\"year\", \"population\"), \"formats\": (\"i4\", \"i\")},\n",
    "    skiprows=1,\n",
    "    delimiter=\",\",\n",
    "    encoding=\"UTF-8\",\n",
    ")\n",
    "\n",
    "df = pd.DataFrame(dataset[4:])\n",
    "\n",
    "# training data\n",
    "x_train = df[\"year\"][:40].values.reshape(-1, 1)\n",
    "y_train = df[\"population\"][:40].values.reshape(-1, 1)\n",
    "\n",
    "# training\n",
    "lr = LinearRegression()\n",
    "lr.fit(x_train, y_train)\n",
    "\n",
    "# printing coefficients\n",
    "print(lr.intercept_, lr.coef_)\n",
    "\n",
    "# prediction\n",
    "x_predict = x_train = df[\"year\"][41:].values.reshape(-1, 1)\n",
    "y_actual = df[\"population\"][41:].values.reshape(-1, 1)\n",
    "y_predict = lr.predict(x_predict)\n",
    "\n",
    "plot.scatter(x_predict, y_actual)\n",
    "plot.plot(x_predict, y_predict, color=\"red\", linewidth=2)\n",
    "plot.show()\n"
   ]
  },
  {
   "cell_type": "code",
   "execution_count": 16,
   "id": "5da60a0c-50ec-4a70-aded-9b8810934921",
   "metadata": {},
   "outputs": [
    {
     "name": "stdout",
     "output_type": "stream",
     "text": [
      "[-4.30491266e+09] [[ 0.00000000e+00  4.06776344e+06 -9.42279929e+02]]\n"
     ]
    },
    {
     "data": {
      "image/png": "[encoded data removed]",
      "text/plain": [
       "<Figure size 432x288 with 1 Axes>"
      ]
     },
     "metadata": {
      "needs_background": "light"
     },
     "output_type": "display_data"
    }
   ],
   "source": [
    "import numpy as np\n",
    "import matplotlib.pyplot as plot\n",
    "import pandas as pd\n",
    "from sklearn.linear_model import LinearRegression\n",
    "from sklearn.preprocessing import PolynomialFeatures\n",
    "\n",
    "dataset = np.loadtxt(\n",
    "    \"data/population.csv\",\n",
    "    dtype={\"names\": (\"year\", \"population\"), \"formats\": (\"i4\", \"i\")},\n",
    "    skiprows=1,\n",
    "    delimiter=\",\",\n",
    "    encoding=\"UTF-8\",\n",
    ")\n",
    "\n",
    "df = pd.DataFrame(dataset[4:])\n",
    "\n",
    "# training data\n",
    "\n",
    "x_train = df[\"year\"][:50].values.reshape(-1, 1)\n",
    "y_train = df[\"population\"][:50].values.reshape(-1, 1)\n",
    "\n",
    "pf = PolynomialFeatures(degree=2)\n",
    "x_poly = pf.fit_transform(x_train)\n",
    "\n",
    "# training\n",
    "lr = LinearRegression()\n",
    "lr.fit(x_poly, y_train)\n",
    "\n",
    "# printing coefficients\n",
    "print(lr.intercept_, lr.coef_)\n",
    "\n",
    "# prediction\n",
    "x_predict = x_train = df[\"year\"][41:].values.reshape(-1, 1)\n",
    "y_actual = df[\"population\"][41:].values.reshape(-1, 1)\n",
    "y_predict = lr.predict(pf.fit_transform(x_predict))\n",
    "\n",
    "plot.scatter(x_predict, y_actual)\n",
    "plot.plot(x_predict, y_predict, color=\"red\", linewidth=2)\n",
    "plot.show()"
   ]
  },
  {
   "cell_type": "code",
   "execution_count": 19,
   "id": "717d4b15-4c90-4085-966c-af8e986b725e",
   "metadata": {},
   "outputs": [
    {
     "name": "stdout",
     "output_type": "stream",
     "text": [
      "[7.53637479e+09] [[ 0.00000000e+00 -7.89980194e+06  2.08142727e+03]]\n"
     ]
    },
    {
     "data": {
      "image/png": "[encoded data removed]",
      "text/plain": [
       "<Figure size 432x288 with 1 Axes>"
      ]
     },
     "metadata": {
      "needs_background": "light"
     },
     "output_type": "display_data"
    }
   ],
   "source": [
    "import numpy as np\n",
    "import matplotlib.pyplot as plot\n",
    "import pandas as pd\n",
    "from sklearn.linear_model import LinearRegression\n",
    "from sklearn.preprocessing import PolynomialFeatures\n",
    "\n",
    "dataset = np.loadtxt(\n",
    "    \"data/population.csv\",\n",
    "    dtype={\"names\": (\"year\", \"population\"), \"formats\": (\"i4\", \"i\")},\n",
    "    skiprows=1,\n",
    "    delimiter=\",\",\n",
    "    encoding=\"UTF-8\",\n",
    ")\n",
    "\n",
    "df = pd.DataFrame(dataset)\n",
    "\n",
    "# training data\n",
    "\n",
    "x_train = df[\"year\"][:40].values.reshape(-1, 1)\n",
    "y_train = df[\"population\"][:40].values.reshape(-1, 1)\n",
    "\n",
    "pf = PolynomialFeatures(degree=2)\n",
    "x_poly = pf.fit_transform(x_train)\n",
    "\n",
    "# training\n",
    "lr = LinearRegression()\n",
    "lr.fit(x_poly, y_train)\n",
    "\n",
    "# printing coefficients\n",
    "print(lr.intercept_, lr.coef_)\n",
    "\n",
    "# prediction\n",
    "x_predict = x_train = df[\"year\"][41:].values.reshape(-1, 1)\n",
    "\n",
    "# Let's add some more years\n",
    "x_predict = np.append(range(1900, 1959), x_predict)\n",
    "x_predict = x_predict.reshape(-1, 1)\n",
    "\n",
    "y_actual = df[\"population\"][41:].values.reshape(-1, 1)\n",
    "y_predict = lr.predict(pf.fit_transform(x_predict))\n",
    "\n",
    "plot.scatter(df[\"year\"], df[\"population\"])\n",
    "plot.plot(x_predict, y_predict, color=\"red\", linewidth=2)\n",
    "plot.show()\n"
   ]
  },
  {
   "cell_type": "code",
   "execution_count": 20,
   "id": "c09aba22-4d0d-45d1-9a91-ec040a5bdc92",
   "metadata": {},
   "outputs": [
    {
     "name": "stdout",
     "output_type": "stream",
     "text": [
      "[0 1]\n"
     ]
    }
   ],
   "source": [
    "import numpy as np\n",
    "import matplotlib.pyplot as plot\n",
    "from sklearn.linear_model import Perceptron\n",
    "\n",
    "numarray = np.array(\n",
    "    [\n",
    "        [0, 0, 0, 0],\n",
    "        [0, 0, 0, 1],\n",
    "        [0, 0, 1, 0],\n",
    "        [0, 0, 1, 1],\n",
    "        [0, 1, 0, 0],\n",
    "        [0, 1, 0, 1],\n",
    "        [0, 1, 1, 0],\n",
    "        [0, 1, 1, 1],\n",
    "        [1, 0, 0, 0],\n",
    "        [1, 0, 0, 1],\n",
    "        [1, 0, 1, 0],\n",
    "        [1, 0, 1, 1],\n",
    "        [1, 1, 0, 0],\n",
    "        [1, 1, 0, 1],\n",
    "        [1, 1, 1, 0],\n",
    "        [1, 1, 1, 1],\n",
    "    ]\n",
    ")\n",
    "result = np.array([0, 0, 0, 0, 0, 0, 0, 0, 1, 1, 1, 1, 1, 1, 1, 1])\n",
    "\n",
    "perceptron = Perceptron(max_iter=1000)\n",
    "perceptron.fit(numarray, result)\n",
    "\n",
    "x_predict = np.array([[0, 1, 0, 1], [1, 0, 1, 1]])\n",
    "\n",
    "y_predict = perceptron.predict(x_predict)\n",
    "print(y_predict)"
   ]
  },
  {
   "cell_type": "code",
   "execution_count": null,
   "id": "9e9cdd6b-a1f3-4a7d-862f-edeed4b070b3",
   "metadata": {},
   "outputs": [],
   "source": []
  }
 ],
 "metadata": {
  "kernelspec": {
   "display_name": "Python 3",
   "language": "python",
   "name": "python3"
  },
  "language_info": {
   "codemirror_mode": {
    "name": "ipython",
    "version": 3
   },
   "file_extension": ".py",
   "mimetype": "text/x-python",
   "name": "python",
   "nbconvert_exporter": "python",
   "pygments_lexer": "ipython3",
   "version": "3.6.9"
  }
 },
 "nbformat": 4,
 "nbformat_minor": 5
}
