{
 "cells": [
  {
   "cell_type": "code",
   "execution_count": 84,
   "id": "2fefd903-d032-4031-9484-b9cc65282d4d",
   "metadata": {},
   "outputs": [
    {
     "name": "stdout",
     "output_type": "stream",
     "text": [
      "Images déjà téléchargées !\n",
      "Dossier images déjà exitant !\n",
      "{'http://www.wikidata.org/entity/Q86516809': ['http://commons.wikimedia.org/wiki/Special:FilePath/DetailofTheImperialPrinceandhisdogNerobyJean-BaptisteCarpeaux1865MarbleMuseed%27Orsaymharrsch.jpg'], 'http://www.wikidata.org/entity/Q87783199': ['http://commons.wikimedia.org/wiki/Special:FilePath/Photograph%20of%20Thunder%2C%20dog%20star%20of%20the%20silent%20era%2C.jpeg'], 'http://www.wikidata.org/entity/Q96176417': ['http://commons.wikimedia.org/wiki/Special:FilePath/Wasao.jpg'], 'http://www.wikidata.org/entity/Q96372991': ['http://commons.wikimedia.org/wiki/Special:FilePath/20190727-DSC00957%20%2848391674722%29.jpg'], 'http://www.wikidata.org/entity/Q97280926': ['http://commons.wikimedia.org/wiki/Special:FilePath/Dylan%20%28perro%29.jpg'], 'http://www.wikidata.org/entity/Q97356971': ['http://commons.wikimedia.org/wiki/Special:FilePath/Max%20II%20with%20medal%2C%2011.24.13.jpg'], 'http://www.wikidata.org/entity/Q104870725': ['http://commons.wikimedia.org/wiki/Special:FilePath/Kratu%202020.jpg'], 'http://www.wikidata.org/entity/Q106090830': ['http://commons.wikimedia.org/wiki/Special:FilePath/Wild%20Justice%20poster.jpg'], 'http://www.wikidata.org/entity/Q107804694': ['http://commons.wikimedia.org/wiki/Special:FilePath/Sarail%20Hound%20dog.jpg'], 'http://www.wikidata.org/entity/Q108853286': ['http://commons.wikimedia.org/wiki/Special:FilePath/Boji%20toplu%20ta%C5%9F%C4%B1ma%20arac%C4%B1nda%2C%20%C4%B0stanbul.jpg'], 'http://www.wikidata.org/entity/Q109336136': ['http://commons.wikimedia.org/wiki/Special:FilePath/M%C3%A9dor%20le%20chien%20fid%C3%A8le%20LCCN2003665071.jpg'], 'http://www.wikidata.org/entity/Q110238062': ['http://commons.wikimedia.org/wiki/Special:FilePath/Commander%20%28Biden%20dog%29%20in%20February%202022.jpg'], 'http://www.wikidata.org/entity/Q111671657': ['http://commons.wikimedia.org/wiki/Special:FilePath/Patron%20with%20Golden%20Paw%20award.jpg'], 'http://www.wikidata.org/entity/Q115131871': ['http://commons.wikimedia.org/wiki/Special:FilePath/Resist%C3%AAncia%20%2852621903154%29%20%28cropped%29.jpg'], 'http://www.wikidata.org/entity/Q115260606': ['http://commons.wikimedia.org/wiki/Special:FilePath/Madsen-143152.jpg'], 'http://www.wikidata.org/entity/Q155695': ['http://commons.wikimedia.org/wiki/Special:FilePath/Bundesarchiv%20B%20145%20Bild-F051673-0059%2C%20Adolf%20Hitler%20und%20Blondi%20auf%20dem%20Berghof%20%28cropped%29.jpg'], 'http://www.wikidata.org/entity/Q186486': ['http://commons.wikimedia.org/wiki/Special:FilePath/Faithful%20Dog%20Hachiko%20Photo.png'], 'http://www.wikidata.org/entity/Q384348': ['http://commons.wikimedia.org/wiki/Special:FilePath/Sculpture%20mancsdog%20miskolc.jpg'], 'http://www.wikidata.org/entity/Q641561': ['http://commons.wikimedia.org/wiki/Special:FilePath/Red%20Dog%20Statue%20Front%20View.jpg'], 'http://www.wikidata.org/entity/Q687727': ['http://commons.wikimedia.org/wiki/Special:FilePath/Sergeant%20Stubby.jpg'], 'http://www.wikidata.org/entity/Q697098': ['http://commons.wikimedia.org/wiki/Special:FilePath/Strongheart-Rice-1921-cropped.jpg'], 'http://www.wikidata.org/entity/Q805807': ['http://commons.wikimedia.org/wiki/Special:FilePath/Gunnar%20Kaasen%20with%20Balto.jpg'], 'http://www.wikidata.org/entity/Q958201': ['http://commons.wikimedia.org/wiki/Special:FilePath/Justnuisance.png'], 'http://www.wikidata.org/entity/Q1060353': ['http://commons.wikimedia.org/wiki/Special:FilePath/Buddy%20Clinton%20dog.jpg'], 'http://www.wikidata.org/entity/Q1171851': ['http://commons.wikimedia.org/wiki/Special:FilePath/James%20Ward%20-%20Portrait%20of%20Dash%2C%20a%20Favourite%20Spaniel%2C%20the%20Property%20of%20Lady%20Frances%20Vane-Tempest%20-%20Google%20Art%20Project.jpg'], 'http://www.wikidata.org/entity/Q1320354': ['http://commons.wikimedia.org/wiki/Special:FilePath/Koni%20crop.jpg'], 'http://www.wikidata.org/entity/Q1360835': ['http://commons.wikimedia.org/wiki/Special:FilePath/Greyfriars-bobby-edin.jpg'], 'http://www.wikidata.org/entity/Q1393864': ['http://commons.wikimedia.org/wiki/Special:FilePath/FDR-Fala-1940-crop.jpg'], 'http://www.wikidata.org/entity/Q1502051': ['http://commons.wikimedia.org/wiki/Special:FilePath/Rin%20Tin%20Tin%201929.JPG'], 'http://www.wikidata.org/entity/Q1554131': ['http://commons.wikimedia.org/wiki/Special:FilePath/St%20Guinefort.jpg'], 'http://www.wikidata.org/entity/Q1752846': ['http://commons.wikimedia.org/wiki/Special:FilePath/RCA%20Nipper.jpg'], 'http://www.wikidata.org/entity/Q2171565': ['http://commons.wikimedia.org/wiki/Special:FilePath/Rubia%20auf%20Aconcagua.jpg'], 'http://www.wikidata.org/entity/Q2415309': ['http://commons.wikimedia.org/wiki/Special:FilePath/Strelka%20at%20essendon.jpg'], 'http://www.wikidata.org/entity/Q2479095': ['http://commons.wikimedia.org/wiki/Special:FilePath/Miss%20Beazley.jpg'], 'http://www.wikidata.org/entity/Q2501596': ['http://commons.wikimedia.org/wiki/Special:FilePath/Louk%20dog%20attacked%20by%20mat.jpg'], 'http://www.wikidata.org/entity/Q2602471': ['http://commons.wikimedia.org/wiki/Special:FilePath/Faith%20the%20biped%20dog%20%282422125130%29%20%283%29.jpg'], 'http://www.wikidata.org/entity/Q2907373': ['http://commons.wikimedia.org/wiki/Special:FilePath/Dog%20Bluey.jpg'], 'http://www.wikidata.org/entity/Q2927425': ['http://commons.wikimedia.org/wiki/Special:FilePath/Buccleuch%20Avon%20%281885%29.png'], 'http://www.wikidata.org/entity/Q2988585': ['http://commons.wikimedia.org/wiki/Special:FilePath/Barney-20040908.jpg'], 'http://www.wikidata.org/entity/Q3355490': ['http://commons.wikimedia.org/wiki/Special:FilePath/Bamsestatue%20Honningsvag.jpg'], 'http://www.wikidata.org/entity/Q3608249': ['http://commons.wikimedia.org/wiki/Special:FilePath/Koko-dog.jpg'], 'http://www.wikidata.org/entity/Q3744562': ['http://commons.wikimedia.org/wiki/Special:FilePath/Piazza%20Dante%20e%20Monumento%20a%20Fido.jpg'], 'http://www.wikidata.org/entity/Q3937879': ['http://commons.wikimedia.org/wiki/Special:FilePath/Rivana.monte.alago.jpg'], 'http://www.wikidata.org/entity/Q3959384': ['http://commons.wikimedia.org/wiki/Special:FilePath/ShepDogFortBenton.jpg'], 'http://www.wikidata.org/entity/Q4293354': ['http://commons.wikimedia.org/wiki/Special:FilePath/Millie%20%28dog%29.jpg'], 'http://www.wikidata.org/entity/Q4483493': ['http://commons.wikimedia.org/wiki/Special:FilePath/Fido%20the%20dog.jpg'], 'http://www.wikidata.org/entity/Q4673047': ['http://commons.wikimedia.org/wiki/Special:FilePath/Ace%20The%20Wonder%20Dog.jpg'], 'http://www.wikidata.org/entity/Q4952431': ['http://commons.wikimedia.org/wiki/Special:FilePath/Wenceslas%20Hollar%20-%20A%20poodle%2C%20after%20Matham.jpg'], 'http://www.wikidata.org/entity/Q4985986': ['http://commons.wikimedia.org/wiki/Special:FilePath/Buffy%20dog.jpeg'], 'http://www.wikidata.org/entity/Q4997048': ['http://commons.wikimedia.org/wiki/Special:FilePath/Target%20dog.jpg'], 'http://www.wikidata.org/entity/Q5002574': ['http://commons.wikimedia.org/wiki/Special:FilePath/Butler%20Blue%20II.jpg'], 'http://www.wikidata.org/entity/Q5016963': ['http://commons.wikimedia.org/wiki/Special:FilePath/Caesar%20the%20Kings%20Dog.jpg'], 'http://www.wikidata.org/entity/Q5087246': ['http://commons.wikimedia.org/wiki/Special:FilePath/Chaser%20the%20BC%2C%20snow%20full%20body.jpg'], 'http://www.wikidata.org/entity/Q5101730': ['http://commons.wikimedia.org/wiki/Special:FilePath/Chips%20the%20war%20dog%20%2837223130705%29.png'], 'http://www.wikidata.org/entity/Q5189562': ['http://commons.wikimedia.org/wiki/Special:FilePath/AuldHemp.jpg'], 'http://www.wikidata.org/entity/Q7650148': ['http://commons.wikimedia.org/wiki/Special:FilePath/Sutter%20Brown.jpg'], 'http://www.wikidata.org/entity/Q7660509': ['http://commons.wikimedia.org/wiki/Special:FilePath/Sykes%20Dog%20Actor.JPG'], 'http://www.wikidata.org/entity/Q7704028': ['http://commons.wikimedia.org/wiki/Special:FilePath/Judy%20Garland%20Over%20the%20Rainbow%202.jpg'], 'http://www.wikidata.org/entity/Q7802871': ['http://commons.wikimedia.org/wiki/Special:FilePath/Tillman%20the%20dog.jpg'], 'http://www.wikidata.org/entity/Q7809730': ['http://commons.wikimedia.org/wiki/Special:FilePath/Titan%20and%20Diana%20Taylor.jpg'], 'http://www.wikidata.org/entity/Q9049682': ['http://commons.wikimedia.org/wiki/Special:FilePath/Nevado%20%26%20Tinjaca%20Simon%20Bolivar%27s%20companions.jpg'], 'http://www.wikidata.org/entity/Q12065066': ['http://commons.wikimedia.org/wiki/Special:FilePath/Owney%20with%20tags.jpg'], 'http://www.wikidata.org/entity/Q16069677': ['http://commons.wikimedia.org/wiki/Special:FilePath/Couperus%20en%20Brinio%20in%20de%20tuin%20van%20Van%20Leeuwen%20achter%20het%20Noordeinde.jpg'], 'http://www.wikidata.org/entity/Q16844922': ['http://commons.wikimedia.org/wiki/Special:FilePath/Bosco%20the%20Dog%20Mayor%20of%20Sunol.jpg'], 'http://www.wikidata.org/entity/Q18392844': ['http://commons.wikimedia.org/wiki/Special:FilePath/Star%20the%20Dog.jpg'], 'http://www.wikidata.org/entity/Q18408091': ['http://commons.wikimedia.org/wiki/Special:FilePath/Rus-Stamp-Zvezdochka-1961.jpg'], 'http://www.wikidata.org/entity/Q19362107': ['http://commons.wikimedia.org/wiki/Special:FilePath/Bummer.jpg'], 'http://www.wikidata.org/entity/Q19362108': ['http://commons.wikimedia.org/wiki/Special:FilePath/Dog%20Lazarus.jpg'], 'http://www.wikidata.org/entity/Q5375926': ['http://commons.wikimedia.org/wiki/Special:FilePath/Endal%20Dickin.jpg'], 'http://www.wikidata.org/entity/Q5515388': ['http://commons.wikimedia.org/wiki/Special:FilePath/Gabi.jpg'], 'http://www.wikidata.org/entity/Q5619202': ['http://commons.wikimedia.org/wiki/Special:FilePath/Gunner%20%28dog%29.jpg'], 'http://www.wikidata.org/entity/Q5686986': ['http://commons.wikimedia.org/wiki/Special:FilePath/Faultless.jpg'], 'http://www.wikidata.org/entity/Q5859102': ['http://commons.wikimedia.org/wiki/Special:FilePath/Perro%20Fernando.jpg'], 'http://www.wikidata.org/entity/Q5902587': ['http://commons.wikimedia.org/wiki/Special:FilePath/Horand%20von%20Grafrath%20SZ1%20aka%20Hektor%20Linksrheim.jpg'], 'http://www.wikidata.org/entity/Q5905086': ['http://commons.wikimedia.org/wiki/Special:FilePath/Horrie%20Dog.jpg'], 'http://www.wikidata.org/entity/Q5970618': ['http://commons.wikimedia.org/wiki/Special:FilePath/IMG%207373%20%E0%B8%A3%E0%B8%B9%E0%B8%9B%E0%B8%9B%E0%B8%B1%E0%B9%89%E0%B8%99%E0%B8%AA%E0%B8%B8%E0%B8%99%E0%B8%B1%E0%B8%82%E0%B8%97%E0%B8%A3%E0%B8%87%E0%B9%80%E0%B8%A5%E0%B8%B5%E0%B9%89%E0%B8%A2%E0%B8%87%20Dogs%20of%20King%20Rama%209%20Photographed%20by%20Trisorn%20Triboon.jpg'], 'http://www.wikidata.org/entity/Q6072863': ['http://commons.wikimedia.org/wiki/Special:FilePath/Perro-Paco.jpg'], 'http://www.wikidata.org/entity/Q6104495': ['http://commons.wikimedia.org/wiki/Special:FilePath/1930%20Yalova%20visit.jpg'], 'http://www.wikidata.org/entity/Q6155312': ['http://commons.wikimedia.org/wiki/Special:FilePath/Arturo%20Alessandri-decada%201930.jpg'], 'http://www.wikidata.org/entity/Q6188949': ['http://commons.wikimedia.org/wiki/Special:FilePath/Jet%20of%20Iada.jpg'], 'http://www.wikidata.org/entity/Q6304312': ['http://commons.wikimedia.org/wiki/Special:FilePath/Judy%20hu%2042990.jpg'], 'http://www.wikidata.org/entity/Q6417173': ['http://commons.wikimedia.org/wiki/Special:FilePath/Premios%20Goya%202018%20-%20Pancho.jpg'], 'http://www.wikidata.org/entity/Q6469343': ['http://commons.wikimedia.org/wiki/Special:FilePath/Laddie%20Boy%20portrait%20crop.jpg'], 'http://www.wikidata.org/entity/Q6537509': ['http://commons.wikimedia.org/wiki/Special:FilePath/Dustin%20J.%20Lee%20with%20Lex%20in%20Iraq.jpg'], 'http://www.wikidata.org/entity/Q6819212': ['http://commons.wikimedia.org/wiki/Special:FilePath/Asta%20in%20After%20the%20Thin%20Man%20trailer.jpg'], 'http://www.wikidata.org/entity/Q6962578': ['http://commons.wikimedia.org/wiki/Special:FilePath/Spot%20Fetcher%202.jpg'], 'http://www.wikidata.org/entity/Q7126106': ['http://commons.wikimedia.org/wiki/Special:FilePath/Pal%20as%20Lassie%201942.JPG'], 'http://www.wikidata.org/entity/Q7172369': ['http://commons.wikimedia.org/wiki/Special:FilePath/Schools-out-our-gang-1930.jpg'], 'http://www.wikidata.org/entity/Q7294175': ['http://commons.wikimedia.org/wiki/Special:FilePath/Rapid-ranger-gideon-hart.jpg'], 'http://www.wikidata.org/entity/Q7319126': ['http://commons.wikimedia.org/wiki/Special:FilePath/Rex%20Cavalier%20King%20Charles%20Spaniel.jpg'], 'http://www.wikidata.org/entity/Q7335484': ['http://commons.wikimedia.org/wiki/Special:FilePath/Rip%20Dicken%20Medal%20Dog%20IWM%20D%205937crop.jpg'], 'http://www.wikidata.org/entity/Q7356030': ['http://commons.wikimedia.org/wiki/Special:FilePath/Loz%20rocky2.JPG'], 'http://www.wikidata.org/entity/Q7396181': ['http://commons.wikimedia.org/wiki/Special:FilePath/Sabinerarebit.jpg'], 'http://www.wikidata.org/entity/Q7440695': ['http://commons.wikimedia.org/wiki/Special:FilePath/Dog%20Statue%20%28Columbia%20County%2C%20Oregon%20scenic%20images%29%20%28colDA0060a%29.jpg'], 'http://www.wikidata.org/entity/Q7521862': ['http://commons.wikimedia.org/wiki/Special:FilePath/Sinbad%20USCG%20publicity%20still.jpg']}\n"
     ]
    }
   ],
   "source": [
    "import os\n",
    "import urllib\n",
    "import sys\n",
    "from SPARQLWrapper import SPARQLWrapper, JSON\n",
    "\n",
    "endpoint_url = \"https://query.wikidata.org/sparql\"\n",
    "\n",
    "img_data = {}\n",
    "\n",
    "#Requete pour recuperer les infos de l'entité donnée - Q144/Chien par defaut\n",
    "def query(wd='Q144'):\n",
    "     return \"\"\"SELECT ?item ?itemLabel ?pic{?item wdt:P31 wd:\"\"\"+wd+\"\"\".?item wdt:P18 ?pic}limit 100\"\"\"\n",
    "\n",
    "def get_results(endpoint_url, query):\n",
    "    user_agent = \"WDQS-example Python/%s.%s\" % (sys.version_info[0], sys.version_info[1])\n",
    "    sparql = SPARQLWrapper(endpoint_url, agent=user_agent)\n",
    "    sparql.setQuery(query)\n",
    "    sparql.setReturnFormat(JSON)\n",
    "    return sparql.query().convert()\n",
    "\n",
    "#Pour creer le fichier des images s'il existe pas\n",
    "def createFolder(name='images'):\n",
    "    if name not in os.listdir():\n",
    "        os.mkdir(name)\n",
    "    else:\n",
    "        print('Dossier '+name+' déjà exitant !')\n",
    "\n",
    "#Pour verifier si un dossier est vide - evitons de retélécharger des images inutilement.\n",
    "def isEmpty(name='images'):\n",
    "    if len(os.listdir(name)) == 0:\n",
    "        return True\n",
    "    return False\n",
    "\n",
    "#Pour ajouter des elements a la bdd\n",
    "def addImg(wd):\n",
    "    results = get_results(endpoint_url, query(wd))\n",
    "    for result in results['results']['bindings']:\n",
    "        img_data[result['item']['value']] = [result['pic']['value']]\n",
    "    print(img_data)\n",
    "\n",
    "#Pour telecharger l'image d'un element de la bd\n",
    "def downloadImage(url='https://upload.wikimedia.org/wikipedia/commons/a/ac/Bundesarchiv_B_145_Bild-F051673-0059%2C_Adolf_Hitler_und_Blondi_auf_dem_Berghof_%28cropped%29.jpg', name_img='img0'):\n",
    "    full_path = 'images/'+name_img+'.jpg'\n",
    "    urllib.request.urlretrieve(url, full_path)\n",
    "\n",
    "#Pour télécharger toutes les images\n",
    "def downloadAllImages(wd=['Q144']):\n",
    "    if isEmpty() == False:\n",
    "        print('Images déjà téléchargées !')\n",
    "    createFolder()\n",
    "    for w in wd:\n",
    "        addImg(w)\n",
    "    \n",
    "    \n",
    "    \n",
    "\n",
    "downloadAllImages()\n"
   ]
  },
  {
   "cell_type": "code",
   "execution_count": null,
   "id": "940d2f60-1846-4663-be22-0ef2fa7eb7ae",
   "metadata": {},
   "outputs": [],
   "source": []
  }
 ],
 "metadata": {
  "kernelspec": {
   "display_name": "Python 3",
   "language": "python",
   "name": "python3"
  },
  "language_info": {
   "codemirror_mode": {
    "name": "ipython",
    "version": 3
   },
   "file_extension": ".py",
   "mimetype": "text/x-python",
   "name": "python",
   "nbconvert_exporter": "python",
   "pygments_lexer": "ipython3",
   "version": "3.6.9"
  },
  "toc-showtags": false
 },
 "nbformat": 4,
 "nbformat_minor": 5
}
