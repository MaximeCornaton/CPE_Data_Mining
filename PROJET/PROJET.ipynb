{
 "cells": [
  {
   "cell_type": "markdown",
   "id": "c8831037-2a16-46ab-8e57-1476504dafcb",
   "metadata": {},
   "source": [
    "# **Installation of Packages**\n",
    "\n",
    "First install packages like numpy, scikit-learn, matplotlib"
   ]
  },
  {
   "cell_type": "code",
   "execution_count": 1,
   "id": "799ba749-b7c1-4022-90c2-ca85423c6d72",
   "metadata": {},
   "outputs": [
    {
     "name": "stdout",
     "output_type": "stream",
     "text": [
      "Requirement already satisfied: numpy in /home/cpe/CPE_Data_Mining/env/lib/python3.10/site-packages (1.24.2)\n",
      "Requirement already satisfied: SPARQLWrapper in /home/cpe/CPE_Data_Mining/env/lib/python3.10/site-packages (2.0.0)\n",
      "Requirement already satisfied: rdflib>=6.1.1 in /home/cpe/CPE_Data_Mining/env/lib/python3.10/site-packages (from SPARQLWrapper) (6.2.0)\n",
      "Requirement already satisfied: setuptools in /home/cpe/CPE_Data_Mining/env/lib/python3.10/site-packages (from rdflib>=6.1.1->SPARQLWrapper) (59.6.0)\n",
      "Requirement already satisfied: isodate in /home/cpe/CPE_Data_Mining/env/lib/python3.10/site-packages (from rdflib>=6.1.1->SPARQLWrapper) (0.6.1)\n",
      "Requirement already satisfied: pyparsing in /home/cpe/CPE_Data_Mining/env/lib/python3.10/site-packages (from rdflib>=6.1.1->SPARQLWrapper) (3.0.9)\n",
      "Requirement already satisfied: six in /home/cpe/CPE_Data_Mining/env/lib/python3.10/site-packages (from isodate->rdflib>=6.1.1->SPARQLWrapper) (1.16.0)\n",
      "Requirement already satisfied: scikit-learn in /home/cpe/CPE_Data_Mining/env/lib/python3.10/site-packages (1.2.1)\n",
      "Requirement already satisfied: scipy>=1.3.2 in /home/cpe/CPE_Data_Mining/env/lib/python3.10/site-packages (from scikit-learn) (1.10.1)\n",
      "Requirement already satisfied: threadpoolctl>=2.0.0 in /home/cpe/CPE_Data_Mining/env/lib/python3.10/site-packages (from scikit-learn) (3.1.0)\n",
      "Requirement already satisfied: joblib>=1.1.1 in /home/cpe/CPE_Data_Mining/env/lib/python3.10/site-packages (from scikit-learn) (1.2.0)\n",
      "Requirement already satisfied: numpy>=1.17.3 in /home/cpe/CPE_Data_Mining/env/lib/python3.10/site-packages (from scikit-learn) (1.24.2)\n",
      "\u001b[31mERROR: Could not find a version that satisfies the requirement PIL (from versions: none)\u001b[0m\u001b[31m\n",
      "\u001b[0m\u001b[31mERROR: No matching distribution found for PIL\u001b[0m\u001b[31m\n",
      "\u001b[0mRequirement already satisfied: pandas in /home/cpe/CPE_Data_Mining/env/lib/python3.10/site-packages (1.5.3)\n",
      "Requirement already satisfied: pytz>=2020.1 in /home/cpe/CPE_Data_Mining/env/lib/python3.10/site-packages (from pandas) (2022.7.1)\n",
      "Requirement already satisfied: python-dateutil>=2.8.1 in /home/cpe/CPE_Data_Mining/env/lib/python3.10/site-packages (from pandas) (2.8.2)\n",
      "Requirement already satisfied: numpy>=1.21.0 in /home/cpe/CPE_Data_Mining/env/lib/python3.10/site-packages (from pandas) (1.24.2)\n",
      "Requirement already satisfied: six>=1.5 in /home/cpe/CPE_Data_Mining/env/lib/python3.10/site-packages (from python-dateutil>=2.8.1->pandas) (1.16.0)\n",
      "Requirement already satisfied: webcolors in /home/cpe/CPE_Data_Mining/env/lib/python3.10/site-packages (1.12)\n",
      "Requirement already satisfied: matplotlib in /home/cpe/CPE_Data_Mining/env/lib/python3.10/site-packages (3.7.0)\n",
      "Requirement already satisfied: numpy>=1.20 in /home/cpe/CPE_Data_Mining/env/lib/python3.10/site-packages (from matplotlib) (1.24.2)\n",
      "Requirement already satisfied: fonttools>=4.22.0 in /home/cpe/CPE_Data_Mining/env/lib/python3.10/site-packages (from matplotlib) (4.38.0)\n",
      "Requirement already satisfied: pyparsing>=2.3.1 in /home/cpe/CPE_Data_Mining/env/lib/python3.10/site-packages (from matplotlib) (3.0.9)\n",
      "Requirement already satisfied: kiwisolver>=1.0.1 in /home/cpe/CPE_Data_Mining/env/lib/python3.10/site-packages (from matplotlib) (1.4.4)\n",
      "Requirement already satisfied: cycler>=0.10 in /home/cpe/CPE_Data_Mining/env/lib/python3.10/site-packages (from matplotlib) (0.11.0)\n",
      "Requirement already satisfied: packaging>=20.0 in /home/cpe/CPE_Data_Mining/env/lib/python3.10/site-packages (from matplotlib) (23.0)\n",
      "Requirement already satisfied: pillow>=6.2.0 in /home/cpe/CPE_Data_Mining/env/lib/python3.10/site-packages (from matplotlib) (9.4.0)\n",
      "Requirement already satisfied: python-dateutil>=2.7 in /home/cpe/CPE_Data_Mining/env/lib/python3.10/site-packages (from matplotlib) (2.8.2)\n",
      "Requirement already satisfied: contourpy>=1.0.1 in /home/cpe/CPE_Data_Mining/env/lib/python3.10/site-packages (from matplotlib) (1.0.7)\n",
      "Requirement already satisfied: six>=1.5 in /home/cpe/CPE_Data_Mining/env/lib/python3.10/site-packages (from python-dateutil>=2.7->matplotlib) (1.16.0)\n"
     ]
    }
   ],
   "source": [
    "!pip3 install numpy \n",
    "!pip3 install SPARQLWrapper\n",
    "!pip3 install scikit-learn\n",
    "!pip3 install PIL\n",
    "!pip3 install pandas\n",
    "!pip3 install webcolors\n",
    "!pip3 install matplotlib"
   ]
  },
  {
   "cell_type": "markdown",
   "id": "b9e3f465-472a-4b8d-be2d-34a06b69b18d",
   "metadata": {},
   "source": [
    "# **Importation of packages**\n",
    "\n",
    "We import the necessary packages"
   ]
  },
  {
   "cell_type": "code",
   "execution_count": 2,
   "id": "47128905-6837-4900-83e4-ebf0756c19f1",
   "metadata": {
    "tags": []
   },
   "outputs": [],
   "source": [
    "import os, sys, json\n",
    "import urllib, shutil\n",
    "import random, time, webcolors, numpy\n",
    "import requests\n",
    "import matplotlib.pyplot as plt\n",
    "from SPARQLWrapper import SPARQLWrapper, JSON\n",
    "from PIL import Image\n",
    "from sklearn.cluster import KMeans, MiniBatchKMeans\n",
    "import pandas as pd\n"
   ]
  },
  {
   "cell_type": "markdown",
   "id": "4fad4a30-8856-4088-82fd-032801640336",
   "metadata": {},
   "source": [
    "# **Load Dataset**"
   ]
  },
  {
   "cell_type": "code",
   "execution_count": 3,
   "id": "867a4edf-0862-4e9b-a179-9c0e60900d12",
   "metadata": {
    "tags": []
   },
   "outputs": [
    {
     "name": "stdout",
     "output_type": "stream",
     "text": [
      "Dossier images déjà existant !\n",
      "Images déjà téléchargées !\n",
      "{'Q86516809-Q144': {}, 'Q97356971-Q144': {}, 'Q958201-Q144': {}, 'Q783490-Q14660': {}, 'Q87783199-Q144': {}, 'Q96176417-Q144': {}, 'Q96372991-Q144': {}, 'Q97280926-Q144': {}, 'Q697098-Q144': {}, 'Q805807-Q144': {}, 'Q73521760-Q144': {}}\n"
     ]
    }
   ],
   "source": [
    "endpoint_url = \"https://query.wikidata.org/sparql\"\n",
    "img_data = {}\n",
    "\n",
    "# Requête pour récupérer les infos de l'entité donnée - Q144/Chien par défaut\n",
    "def query(wd='Q144', limit=5):\n",
    "    return f\"\"\"SELECT ?item ?itemLabel ?pic\n",
    "                WHERE {{\n",
    "                  ?item wdt:P31 wd:{wd}.\n",
    "                  ?item wdt:P18 ?pic.\n",
    "                  SERVICE wikibase:label {{ bd:serviceParam wikibase:language \"[AUTO_LANGUAGE],en\". }}\n",
    "                }}\n",
    "                LIMIT {limit}\"\"\"\n",
    "\n",
    "def get_results(endpoint_url, query):\n",
    "    user_agent = 'MaximeCornaton/0.0 (https://github.com/MaximeCornaton/CPE_Data_Mining; maxime.cornaton@cpe.fr)'\n",
    "    sparql = SPARQLWrapper(endpoint_url, agent=user_agent)\n",
    "    sparql.setQuery(query)\n",
    "    sparql.setReturnFormat(JSON)\n",
    "    \n",
    "    # Boucle de tentative en cas d'erreur 429 Too Many Requests\n",
    "    for i in range(3):\n",
    "        try:\n",
    "            return sparql.query().convert()\n",
    "        except HTTPError as e:\n",
    "            if e.response.status_code == 429:\n",
    "                retry_after = int(e.response.headers.get('Retry-After', '60'))\n",
    "                print(f\"Too Many Requests. Tentative dans {retry_after} secondes.\")\n",
    "                sleep(retry_after)\n",
    "            else:\n",
    "                raise e\n",
    "    \n",
    "    raise Exception(\"Nombre maximum de tentatives pour atteindre Wikidata atteint.\")\n",
    "\n",
    "# Pour créer le dossier des images s'il n'existe pas\n",
    "def createFolder(name='images'):\n",
    "    if name not in os.listdir():\n",
    "        os.mkdir(name)\n",
    "    else:\n",
    "        print('Dossier '+name+' déjà existant !')\n",
    "\n",
    "# Pour vérifier si un dossier est vide - évitons de retélécharger des images inutilement.\n",
    "def isEmpty(name='images'):\n",
    "    if len(os.listdir(name)) == 0:\n",
    "        return True\n",
    "    return False\n",
    "\n",
    "# Pour ajouter des éléments à la bdd\n",
    "def addImg(wd, limit):\n",
    "    results = get_results(endpoint_url, query(wd, limit))\n",
    "    for result in results['results']['bindings']:\n",
    "        name_img = result['item']['value'].split(\"/\")[-1] + \"-\" + wd # nom donné aux images téléchargées \"numéro d'image - numéro de catégorie\"\n",
    "        \n",
    "        #img_data[name_img] = {'image': result['pic']['value']}\n",
    "        \n",
    "        img_data[name_img] = {}\n",
    "        downloadImage(result['pic']['value'], name_img)\n",
    "\n",
    "# Ajoute les images de toutes les entités spécifiées\n",
    "def addAllImg(wd, limit):\n",
    "    for w in wd:\n",
    "        addImg(w, limit)\n",
    "\n",
    "# Pour télécharger l'image d'un élément de la bdd\n",
    "def downloadImage(url, name_img='img0'):\n",
    "    full_path = 'images/' + name_img + '.jpg'\n",
    "    urllib.request.urlretrieve(url, full_path)\n",
    "\n",
    "# Si les images sont déjà téléchargées on initialise le tableau\n",
    "def initAlreadyDownload(namefolder='images'):\n",
    "    for image in os.listdir(namefolder):\n",
    "        #img_data[image.split(\".\")[0]] = {'image': \"\"}\n",
    "        img_data[image.split(\".\")[0]] = {}\n",
    "\n",
    "\n",
    "# Pour télécharger toutes les images - limit par query\n",
    "def downloadAllImages(wd=['Q144'], limit=5):\n",
    "    createFolder()\n",
    "    if not isEmpty():\n",
    "       \n",
    "\n",
    "        print('Images déjà téléchargées !')\n",
    "        initAlreadyDownload()\n",
    "        return False\n",
    "    addAllImg(wd, limit)\n",
    "    return True \n",
    "\n",
    "#Supprimer une image du dossier \n",
    "def removeImage(image):\n",
    "    if os.path.isfile('images/'+image):\n",
    "        os.remove('images/'+image)\n",
    "        img_data.pop(image.split(\".\")[0])\n",
    "    else:\n",
    "        shutil.rmtree('images/'+image)\n",
    "\n",
    "bdd = ['Q144','Q14660','Q23442','Q28803','Q3305213', 'Q16521', 'Q146', 'Q5', 'Q4022'] #Chien, drapeau, ile, sandwich, peinture, taxon, chat, être humain, riviere\n",
    "downloadAllImages(wd=bdd,limit=50)\n",
    "print(img_data)\n"
   ]
  },
  {
   "cell_type": "markdown",
   "id": "e951e480-50b2-4eba-bac8-60c5c9a7837b",
   "metadata": {},
   "source": [
    "# **Adding Meta to the Dataset**"
   ]
  },
  {
   "cell_type": "markdown",
   "id": "2c495e1c-1d48-45db-9591-9d7e0dd4866c",
   "metadata": {},
   "source": [
    "## *1. Exif* "
   ]
  },
  {
   "cell_type": "code",
   "execution_count": 4,
   "id": "79f4ef6f-e2ca-4d53-bdb0-fde6b1d00282",
   "metadata": {
    "tags": []
   },
   "outputs": [],
   "source": [
    "#Obtenir les metas d'une image\n",
    "def getMetaImg(name, imgfile):\n",
    "    #clés Exif\n",
    "    DATE_KEY = 36867\n",
    "    MODEL_KEY = 272\n",
    "    \n",
    "    img_data[name].update({\n",
    "        #'size': [getSizeImg(imgfile.size), imgfile.size],\n",
    "        'size': getSizeImg(imgfile.size),\n",
    "        'orientation': getOrientationImg(imgfile.size),\n",
    "        'format': imgfile.format,\n",
    "    })\n",
    "    \n",
    "    getColorsImg(name, imgfile)\n",
    "    \n",
    "    exif_data = imgfile._getexif()\n",
    "    if exif_data is not None:\n",
    "        if DATE_KEY in exif_data:\n",
    "            img_data[name]['date'] = exif_data[DATE_KEY]\n",
    "        if MODEL_KEY in exif_data:\n",
    "            img_data[name]['model'] = exif_data[MODEL_KEY]\n",
    "\n",
    "def getOrientationImg(size): #(largeur,hauteur)\n",
    "    width,height = size\n",
    "    return \"landscape\" if width > height else \"portrait\" if height > width else \"squared\"\n",
    "    \n",
    "def getSizeImg(size): #(largeur,hauteur)\n",
    "    width,height = size\n",
    "    return \"large\" if width*height>1920*1080 else \"small\" if width*height<640*480 else \"medium\"\n",
    "    \n"
   ]
  },
  {
   "cell_type": "markdown",
   "id": "bd1d3ed5-bee1-40c5-9655-478f211ba2d1",
   "metadata": {},
   "source": [
    "## *2. Main Color* "
   ]
  },
  {
   "cell_type": "code",
   "execution_count": 5,
   "id": "b171d862-0a09-463c-8e53-51901d18a160",
   "metadata": {},
   "outputs": [],
   "source": [
    "def getColorsImg(name, imgfile, cluster_nbr=2, n_init=1):\n",
    "    \n",
    "    img_data[name]['colors'] = []\n",
    "    \n",
    "    # Redimensionner l'image pour accélérer le traitement\n",
    "    imgfile = imgfile.resize((int(imgfile.size[0]/2), int(imgfile.size[1]/2)))\n",
    "\n",
    "    # Convertir l'image en un tableau numpy\n",
    "    img_array = numpy.array(imgfile)\n",
    "    \n",
    "    try:\n",
    "        img_vector = img_array.reshape(-1, 3)\n",
    "\n",
    "        clusters = MiniBatchKMeans(n_clusters=cluster_nbr, n_init=n_init, random_state=0).fit(img_vector) #Random state pour garder la meme seed ppour toutes les images\n",
    "\n",
    "        for i, center in enumerate(clusters.cluster_centers_):\n",
    "            rgb = tuple(map(int, center))\n",
    "        \n",
    "\n",
    "            img_data[name]['colors'].append(rgb)\n",
    "            \n",
    "    except Exception as e:\n",
    "        print('Pas de couleur : {}'.format(e))\n",
    "        #img_data[name]['colors'] = [-1]\n",
    "\n",
    "        \n",
    "def RGBtoName(rgb):\n",
    "    # chercher le nom de couleur correspondant au code RGB\n",
    "    try:\n",
    "        color_name = webcolors.rgb_to_name(rgb)\n",
    "    except ValueError:\n",
    "        # si le nom exact n'est pas trouvé, trouver le nom le plus proche\n",
    "        min_colors = {}\n",
    "        for key, name_ in webcolors.CSS3_HEX_TO_NAMES.items():\n",
    "            r_c, g_c, b_c = webcolors.hex_to_rgb(key)\n",
    "            rd = (r_c - rgb[0]) ** 2\n",
    "            gd = (g_c - rgb[1]) ** 2\n",
    "            bd = (b_c - rgb[2]) ** 2\n",
    "            min_colors[(rd + gd + bd)] = name_\n",
    "        color_name = min_colors[min(min_colors.keys())]\n",
    "    return color_name"
   ]
  },
  {
   "cell_type": "markdown",
   "id": "f498394c-af02-4b6f-bc62-b65d24a175a2",
   "metadata": {},
   "source": [
    "## *3. All Meta* "
   ]
  },
  {
   "cell_type": "code",
   "execution_count": 6,
   "id": "69250fd9-f23f-4c54-9385-8960ae2a69aa",
   "metadata": {
    "tags": []
   },
   "outputs": [
    {
     "name": "stdout",
     "output_type": "stream",
     "text": [
      "Pas de couleur : cannot reshape array of size 67760 into shape (3)\n"
     ]
    }
   ],
   "source": [
    "def openImgGetMeta(name): #name = 'img.jpg'\n",
    "    try:\n",
    "        with Image.open(\"images/\"+name) as imgfile:\n",
    "            #print(imgfile.size, imgfile.format)\n",
    "            name = name.split(\".\")[0]\n",
    "            getMetaImg(name, imgfile)\n",
    "\n",
    "        imgfile.close()\n",
    "        return True\n",
    "    except FileNotFoundError as e:\n",
    "        print('Impossible de trouver le fichier {}: {}'.format(\"images/\"+name, e))\n",
    "        return False\n",
    "    except Exception as e:\n",
    "        print('Erreur lors de l\\'ouverture de l\\'image {}: {}'.format(\"images/\"+name, e))\n",
    "        removeImage(name)\n",
    "        return False\n",
    "        \n",
    "#Obtenir les metas de toutes nos images    \n",
    "def openGetMetaAllImg(namefolder='images'):\n",
    "    for image in os.listdir(namefolder):\n",
    "        openImgGetMeta(image)\n",
    "\n",
    "openGetMetaAllImg()"
   ]
  },
  {
   "cell_type": "markdown",
   "id": "bbaf2bcb-997a-40b0-8f1f-c1dc733f004c",
   "metadata": {},
   "source": [
    "## *4. Export to JSON* "
   ]
  },
  {
   "cell_type": "code",
   "execution_count": 7,
   "id": "ebcaf4e1-a319-499b-89fe-0c889705c89b",
   "metadata": {
    "tags": []
   },
   "outputs": [
    {
     "name": "stdout",
     "output_type": "stream",
     "text": [
      "done\n"
     ]
    }
   ],
   "source": [
    "#Enregistre les metadonnées des images dans un JSON\n",
    "def exportToJSON(data,name='img_data.json'):\n",
    "    with open(name, 'w', encoding='utf-8') as f:\n",
    "        json.dump(data, f, ensure_ascii=False, indent=4)\n",
    "    print(\"done\")\n",
    "        \n",
    "exportToJSON(data=img_data)"
   ]
  },
  {
   "cell_type": "markdown",
   "id": "aed00cd7-cee7-41f7-8dde-00b9dd8bb303",
   "metadata": {},
   "source": [
    "## *5. Open JSON* "
   ]
  },
  {
   "cell_type": "code",
   "execution_count": 8,
   "id": "2781acfe-157f-4dea-b33e-b953cfa3ffed",
   "metadata": {},
   "outputs": [],
   "source": [
    "\n",
    "def openJSON(file=\"img_data.json\"):\n",
    "    # Ouvrir le fichier JSON en mode lecture (fermé automatiquement)\n",
    "    with open(file, 'r') as f:\n",
    "        data = json.load(f)\n",
    "    return data\n",
    "    "
   ]
  },
  {
   "cell_type": "markdown",
   "id": "0935a14c-e11d-468e-90d4-902f509740d5",
   "metadata": {},
   "source": [
    "## *6. Add categories* "
   ]
  },
  {
   "cell_type": "code",
   "execution_count": 9,
   "id": "73430ae5-a71b-4036-b20a-cffc85b784f5",
   "metadata": {
    "tags": []
   },
   "outputs": [
    {
     "name": "stdout",
     "output_type": "stream",
     "text": [
      "done\n"
     ]
    }
   ],
   "source": [
    "# Requête API à Wikidata pour récupérer les catégories de l'image\n",
    "def wikidataAPI(_id,lang):\n",
    "    url = f\"https://www.wikidata.org/w/api.php?action=wbgetentities&ids={_id}&props=labels|claims&languages={lang}&format=json\"\n",
    "    #if lang != \"\":\n",
    "    #    #categorie\n",
    "    #    url = f\"https://www.wikidata.org/w/api.php?action=wbgetentities&ids={_id}&props=labels&languages={lang}&format=json\"\n",
    "    #else:\n",
    "    #    #image\n",
    "    #    url = f\"https://www.wikidata.org/w/api.php?action=wbgetentities&ids={_id}&props=claims&format=json\"\n",
    "    response = requests.get(url)\n",
    "    return json.loads(response.text)\n",
    "\n",
    "\n",
    "def findTagsImg(_id, lang='en'): #\"Q7704028-Q144\"\n",
    "    \n",
    "    image_id, cat_id = _id.split(\"-\")\n",
    "    \n",
    "    # Requête API à Wikidata pour récupérer les catégories de l'image\n",
    "    img_data = wikidataAPI(image_id,lang)\n",
    "    cat_data = wikidataAPI(cat_id,lang)\n",
    "    \n",
    "    # Extraire le libellé de la catégorie dans la langue souhaitée\n",
    "    main_tag = cat_data.get('entities', {}).get(cat_id, {}).get('labels', {}).get(lang, {}).get('value', '')\n",
    "    \n",
    "    # Trouver les catégories dans la réponse de la requête API sur l'image\n",
    "    claims = img_data.get(\"entities\", {}).get(image_id, {}).get(\"claims\", {})\n",
    "    #print([x['mainsnak']['datavalue']['value'] for prop in [\"P910\", \"P373\"] for x in claims.get(prop, [])])\n",
    "    categories = formatCategory([x['mainsnak']['datavalue']['value'] for prop in [\"P910\", \"P373\"] for x in claims.get(prop, [])])\n",
    "            \n",
    "    if main_tag not in categories:\n",
    "        categories.append(main_tag)\n",
    "    \n",
    "    return categories\n",
    "\n",
    "\n",
    "def formatCategory(categories):\n",
    "    categories_ = []\n",
    "    \n",
    "    removeCar = ['(', ')']\n",
    "    splitCar = [',', ' ']\n",
    "    \n",
    "    for category in categories:\n",
    "        if isinstance(category, str):\n",
    "            for car in removeCar:\n",
    "                category = category.replace(car, '')\n",
    "            for car in splitCar:\n",
    "                parts = category.split(car)\n",
    "                if len(parts) > 1:\n",
    "                    categories_.extend(parts[1:])\n",
    "                    category = parts[0]\n",
    "            categories_.append(category.lower())\n",
    "    \n",
    "    return categories_\n",
    "\n",
    "\n",
    "def addTagsJSON(image_id = \"Q7704028\", categories=[]):\n",
    "    data = openJSON(file=\"img_data.json\")\n",
    "    data[image_id]['tags'] = categories\n",
    "\n",
    "\n",
    "def addAllTagsJSON():\n",
    "    data = openJSON(file=\"img_data.json\")\n",
    "    for _id in data:\n",
    "        data[_id]['tags'] = findTagsImg(_id)\n",
    "    return data\n",
    "\n",
    "\n",
    "data = addAllTagsJSON()\n",
    "exportToJSON(data)\n"
   ]
  },
  {
   "cell_type": "markdown",
   "id": "5fbc4519-c030-45e4-899a-1add2956594c",
   "metadata": {},
   "source": [
    "# **Data Analyses**"
   ]
  },
  {
   "cell_type": "markdown",
   "id": "bd883c81-b71a-48e1-9863-c6ea9ef42822",
   "metadata": {},
   "source": [
    "## *1. Class User* "
   ]
  },
  {
   "cell_type": "code",
   "execution_count": 142,
   "id": "7f3a0514-784a-46b2-a3d8-b79b12710839",
   "metadata": {
    "tags": []
   },
   "outputs": [],
   "source": [
    "class User:\n",
    "    def __init__(self, favorite_pictures=None):\n",
    "        self._favorite_colors = []\n",
    "        self._favorite_orientations = []\n",
    "        self._favorite_sizes = []\n",
    "        self._favorite_tags = []\n",
    "        self._favorite_pictures = favorite_pictures\n",
    "        \n",
    "        self.init_user()\n",
    "\n",
    "    def get_favorite_pictures(self):\n",
    "        return self._favorite_pictures\n",
    "\n",
    "    def __str__(self):\n",
    "        return f\"User with favorite color {self._favorite_colors}, orientation {self._favorite_orientations}, size {self._favorite_sizes}, tags {self._favorite_tags} and favorite pictures {self._favorite_pictures}\"\n",
    "    \n",
    "    \n",
    "    def init_user(self):\n",
    "        for img in self._favorite_pictures:\n",
    "            img = img.split(\".\")[0]\n",
    "            self._favorite_colors += [data[img][\"colors\"]]\n",
    "            #self._favorite_colors.append([c/255 for c in data[img][\"colors\"][0]] if len(data[img][\"colors\"])>0 else -1)\n",
    "            self._favorite_orientations.append(data[img][\"orientation\"])\n",
    "            self._favorite_tags += [data[img][\"tags\"]]\n",
    "            #self._favorite_tags.append(data[img][\"tags\"][0])\n",
    "            self._favorite_sizes.append(data[img][\"size\"])\n",
    "            \n",
    "    def get_favorite_tags(self):\n",
    "        return self._favorite_tags\n",
    "    \n",
    "    def get_favorite_orientations(self):\n",
    "        return self._favorite_orientations\n",
    "    \n",
    "    def get_favorite_colors(self):\n",
    "        return self._favorite_colors\n",
    "    \n",
    "    def get_favorite_sizes(self):\n",
    "        return self._favorite_sizes\n"
   ]
  },
  {
   "cell_type": "markdown",
   "id": "34ddf135-bb53-4cad-b77b-60578df4ea95",
   "metadata": {
    "tags": []
   },
   "source": [
    "## *2. Creation of random Users* "
   ]
  },
  {
   "cell_type": "code",
   "execution_count": 163,
   "id": "bce636c0-78f9-48a4-a17b-d77d149c786e",
   "metadata": {},
   "outputs": [],
   "source": [
    "number_users = 10\n",
    "users = []\n",
    "\n",
    "for i in range(number_users):\n",
    "    \n",
    "    number_pictures_liked = random.randint(3, 10)\n",
    "    \n",
    "    user = User(favorite_pictures=random.sample(os.listdir(\"images\"), k=number_pictures_liked))\n",
    "    users.append(user)\n",
    "    #print(str(i+1)+\"- \"+str(user.get_favorite_pictures()))\n",
    "    \n",
    "    #print(str(i+1)+\"- \"+str(user._favorite_colors))\n",
    "    #print(str(i+1)+\"- \"+str(user._favorite_orientations))\n"
   ]
  },
  {
   "cell_type": "markdown",
   "id": "22e75ef5-7486-4276-be6c-1667d1764ccb",
   "metadata": {},
   "source": [
    "## *3. Analyse Users* "
   ]
  },
  {
   "cell_type": "markdown",
   "id": "c0b97858-815c-403d-86f9-0e3617e5084a",
   "metadata": {
    "tags": []
   },
   "source": [
    "### *Nos données* "
   ]
  },
  {
   "cell_type": "code",
   "execution_count": 202,
   "id": "567e73b7-cf5b-46ea-9dab-a56df5f00e9c",
   "metadata": {
    "tags": []
   },
   "outputs": [
    {
     "data": {
      "text/html": [
       "<div>\n",
       "<style scoped>\n",
       "    .dataframe tbody tr th:only-of-type {\n",
       "        vertical-align: middle;\n",
       "    }\n",
       "\n",
       "    .dataframe tbody tr th {\n",
       "        vertical-align: top;\n",
       "    }\n",
       "\n",
       "    .dataframe thead th {\n",
       "        text-align: right;\n",
       "    }\n",
       "</style>\n",
       "<table border=\"1\" class=\"dataframe\">\n",
       "  <thead>\n",
       "    <tr style=\"text-align: right;\">\n",
       "      <th></th>\n",
       "      <th>taille</th>\n",
       "      <th>orientation</th>\n",
       "      <th>couleur_1</th>\n",
       "      <th>couleur_2</th>\n",
       "      <th>tags</th>\n",
       "    </tr>\n",
       "  </thead>\n",
       "  <tbody>\n",
       "    <tr>\n",
       "      <th>0</th>\n",
       "      <td>large</td>\n",
       "      <td>landscape</td>\n",
       "      <td>[197, 168, 121]</td>\n",
       "      <td>[60, 47, 26]</td>\n",
       "      <td>[dog]</td>\n",
       "    </tr>\n",
       "    <tr>\n",
       "      <th>1</th>\n",
       "      <td>small</td>\n",
       "      <td>portrait</td>\n",
       "      <td>[75, 75, 55]</td>\n",
       "      <td>[187, 179, 171]</td>\n",
       "      <td>[dog]</td>\n",
       "    </tr>\n",
       "    <tr>\n",
       "      <th>2</th>\n",
       "      <td>small</td>\n",
       "      <td>portrait</td>\n",
       "      <td>[113, 100, 79]</td>\n",
       "      <td>[207, 195, 167]</td>\n",
       "      <td>[dog, thunder]</td>\n",
       "    </tr>\n",
       "    <tr>\n",
       "      <th>3</th>\n",
       "      <td>small</td>\n",
       "      <td>landscape</td>\n",
       "      <td>-1</td>\n",
       "      <td>-1</td>\n",
       "      <td>[Nuisance, just, dog]</td>\n",
       "    </tr>\n",
       "    <tr>\n",
       "      <th>4</th>\n",
       "      <td>large</td>\n",
       "      <td>portrait</td>\n",
       "      <td>[63, 61, 69]</td>\n",
       "      <td>[142, 176, 198]</td>\n",
       "      <td>[flag]</td>\n",
       "    </tr>\n",
       "    <tr>\n",
       "      <th>5</th>\n",
       "      <td>small</td>\n",
       "      <td>portrait</td>\n",
       "      <td>[178, 178, 178]</td>\n",
       "      <td>[80, 80, 80]</td>\n",
       "      <td>[strongheart, dog]</td>\n",
       "    </tr>\n",
       "    <tr>\n",
       "      <th>6</th>\n",
       "      <td>large</td>\n",
       "      <td>landscape</td>\n",
       "      <td>[81, 57, 53]</td>\n",
       "      <td>[194, 153, 118]</td>\n",
       "      <td>[Elizabeth, Warren's, dog, bailey]</td>\n",
       "    </tr>\n",
       "  </tbody>\n",
       "</table>\n",
       "</div>"
      ],
      "text/plain": [
       "  taille orientation        couleur_1        couleur_2  \\\n",
       "0  large   landscape  [197, 168, 121]     [60, 47, 26]   \n",
       "1  small    portrait     [75, 75, 55]  [187, 179, 171]   \n",
       "2  small    portrait   [113, 100, 79]  [207, 195, 167]   \n",
       "3  small   landscape               -1               -1   \n",
       "4  large    portrait     [63, 61, 69]  [142, 176, 198]   \n",
       "5  small    portrait  [178, 178, 178]     [80, 80, 80]   \n",
       "6  large   landscape     [81, 57, 53]  [194, 153, 118]   \n",
       "\n",
       "                                 tags  \n",
       "0                               [dog]  \n",
       "1                               [dog]  \n",
       "2                      [dog, thunder]  \n",
       "3               [Nuisance, just, dog]  \n",
       "4                              [flag]  \n",
       "5                  [strongheart, dog]  \n",
       "6  [Elizabeth, Warren's, dog, bailey]  "
      ]
     },
     "execution_count": 202,
     "metadata": {},
     "output_type": "execute_result"
    }
   ],
   "source": [
    "user = users[0]\n",
    "\n",
    "colors = user.get_favorite_colors()\n",
    "\n",
    "couleur1 = [couleur[0] if couleur != [0] else -1 for couleur in colors]\n",
    "couleur2 = [couleur[1] if len(couleur) > 1 else -1 for couleur in colors]\n",
    "tags = user.get_favorite_tags()\n",
    "#print(tags)\n",
    "\n",
    "#DataFrame Utilisateur\n",
    "dataUser = pd.DataFrame({'taille': user.get_favorite_sizes(), 'orientation': user.get_favorite_orientations(), 'couleur_1':couleur1, 'couleur_2':couleur2, 'tags':user.get_favorite_tags()})\n",
    "#'couleur': user.get_favorite_colors(), 'tags': user.get_favorite_tags()\n",
    "\n",
    "dataUser"
   ]
  },
  {
   "cell_type": "markdown",
   "id": "1d8c2492-773f-4d8c-93f3-a5034019c6b9",
   "metadata": {},
   "source": [
    "### *1. Preparation des données* "
   ]
  },
  {
   "cell_type": "code",
   "execution_count": 209,
   "id": "ffcf2c00-ea28-4700-ae8f-bce311e69237",
   "metadata": {
    "tags": []
   },
   "outputs": [
    {
     "data": {
      "text/html": [
       "<div>\n",
       "<style scoped>\n",
       "    .dataframe tbody tr th:only-of-type {\n",
       "        vertical-align: middle;\n",
       "    }\n",
       "\n",
       "    .dataframe tbody tr th {\n",
       "        vertical-align: top;\n",
       "    }\n",
       "\n",
       "    .dataframe thead th {\n",
       "        text-align: right;\n",
       "    }\n",
       "</style>\n",
       "<table border=\"1\" class=\"dataframe\">\n",
       "  <thead>\n",
       "    <tr style=\"text-align: right;\">\n",
       "      <th></th>\n",
       "      <th>taille</th>\n",
       "      <th>orientation</th>\n",
       "      <th>r1</th>\n",
       "      <th>g1</th>\n",
       "      <th>b1</th>\n",
       "    </tr>\n",
       "  </thead>\n",
       "  <tbody>\n",
       "    <tr>\n",
       "      <th>0</th>\n",
       "      <td>1.0</td>\n",
       "      <td>0.0</td>\n",
       "      <td>0</td>\n",
       "      <td>0</td>\n",
       "      <td>0</td>\n",
       "    </tr>\n",
       "    <tr>\n",
       "      <th>1</th>\n",
       "      <td>0.0</td>\n",
       "      <td>1.0</td>\n",
       "      <td>0</td>\n",
       "      <td>0</td>\n",
       "      <td>0</td>\n",
       "    </tr>\n",
       "    <tr>\n",
       "      <th>2</th>\n",
       "      <td>0.0</td>\n",
       "      <td>1.0</td>\n",
       "      <td>0</td>\n",
       "      <td>0</td>\n",
       "      <td>0</td>\n",
       "    </tr>\n",
       "    <tr>\n",
       "      <th>3</th>\n",
       "      <td>0.0</td>\n",
       "      <td>0.0</td>\n",
       "      <td>0</td>\n",
       "      <td>0</td>\n",
       "      <td>0</td>\n",
       "    </tr>\n",
       "    <tr>\n",
       "      <th>4</th>\n",
       "      <td>1.0</td>\n",
       "      <td>1.0</td>\n",
       "      <td>0</td>\n",
       "      <td>0</td>\n",
       "      <td>0</td>\n",
       "    </tr>\n",
       "    <tr>\n",
       "      <th>5</th>\n",
       "      <td>0.0</td>\n",
       "      <td>1.0</td>\n",
       "      <td>0</td>\n",
       "      <td>0</td>\n",
       "      <td>0</td>\n",
       "    </tr>\n",
       "    <tr>\n",
       "      <th>6</th>\n",
       "      <td>1.0</td>\n",
       "      <td>0.0</td>\n",
       "      <td>0</td>\n",
       "      <td>0</td>\n",
       "      <td>0</td>\n",
       "    </tr>\n",
       "  </tbody>\n",
       "</table>\n",
       "</div>"
      ],
      "text/plain": [
       "   taille  orientation  r1  g1  b1\n",
       "0     1.0          0.0   0   0   0\n",
       "1     0.0          1.0   0   0   0\n",
       "2     0.0          1.0   0   0   0\n",
       "3     0.0          0.0   0   0   0\n",
       "4     1.0          1.0   0   0   0\n",
       "5     0.0          1.0   0   0   0\n",
       "6     1.0          0.0   0   0   0"
      ]
     },
     "execution_count": 209,
     "metadata": {},
     "output_type": "execute_result"
    }
   ],
   "source": [
    "dataUserPrep = pd.DataFrame()\n",
    "\n",
    "# Convertir la taille en une valeur numérique\n",
    "dataUserPrep['taille'] = dataUser['taille'].map({'small': 0, 'medium': 0.5, 'large':1})\n",
    "\n",
    "# Convertir l'orientation en une valeur numérique\n",
    "dataUserPrep['orientation'] = dataUser['orientation'].map({'landscape': 0, 'portrait': 1, 'squared':0.5})\n",
    "\n",
    "dataUserPrep[['r1','g1','b1']] = dataUser['couleur_1'],[0]dataUser['couleur_1'][1],[0]dataUser['couleur_1'][2]\n",
    "\n",
    "\n",
    "dataUserPrep"
   ]
  },
  {
   "cell_type": "markdown",
   "id": "6989ba94-8fbd-473d-9f60-51c3ca15a256",
   "metadata": {
    "tags": []
   },
   "source": [
    "### *2. Apprentissage et Test* "
   ]
  },
  {
   "cell_type": "code",
   "execution_count": null,
   "id": "dc557a85-90b1-4d1f-9bbf-69c409d663d1",
   "metadata": {
    "tags": []
   },
   "outputs": [],
   "source": [
    "\n"
   ]
  },
  {
   "cell_type": "code",
   "execution_count": null,
   "id": "c021b9cd-9974-4f12-91a2-54ca6683b27d",
   "metadata": {
    "tags": []
   },
   "outputs": [],
   "source": []
  },
  {
   "cell_type": "markdown",
   "id": "9e878f9e-c504-4b7e-b289-a2e839c1e1f5",
   "metadata": {},
   "source": [
    "# **Data Visualization**"
   ]
  },
  {
   "cell_type": "markdown",
   "id": "da22c6e7-3127-4d59-99d6-64d9a5573c07",
   "metadata": {},
   "source": [
    "## *1. Number of pictures by year* "
   ]
  },
  {
   "cell_type": "code",
   "execution_count": null,
   "id": "9a305fd3-dac1-452b-bd2d-6001086b5d3b",
   "metadata": {
    "tags": []
   },
   "outputs": [],
   "source": [
    "nb_images_year = {}\n",
    "\n",
    "for image in data:\n",
    "    date = data[image].get('date', '')[0:5] #Recupere la date de l'image\n",
    "    nb_images_year[date] = nb_images_year.get(date,0) +1\n",
    "    \n",
    "print(nb_images_year)\n",
    "\n",
    "#Si on veut retirer les images sans date:\n",
    "nb_images_year.pop('')\n",
    "\n",
    "noms = list(nb_images_year.keys())\n",
    "valeurs = list(nb_images_year.values())\n",
    "\n",
    "plt.bar(noms, valeurs)\n",
    "plt.title(\"Nombre d'images par année\")\n",
    "plt.xlabel(\"Années\")\n",
    "plt.ylabel(\"Nombre d'images\")\n",
    "plt.show()"
   ]
  },
  {
   "cell_type": "markdown",
   "id": "eb28025a-7ad2-4881-ac44-3924bbb32219",
   "metadata": {},
   "source": [
    "## *2. Number* "
   ]
  },
  {
   "cell_type": "markdown",
   "id": "abdfae49-a1b5-426b-99a2-44bd3b23052d",
   "metadata": {},
   "source": [
    "# **Recommendation System**\n"
   ]
  },
  {
   "cell_type": "code",
   "execution_count": null,
   "id": "189ea741-b840-4987-b953-46144ed58433",
   "metadata": {},
   "outputs": [],
   "source": [
    "Préparez vos données en séparant les tags en colonnes binaires (chaque tag a une colonne binaire qui indique si cette image contient le tag ou non).\n",
    "Transformez les couleurs dominantes en caractéristiques numériques en utilisant, par exemple, la moyenne de chaque canal RGB.\n",
    "Divisez les données en un ensemble d'apprentissage et un ensemble de test.\n",
    "Appliquez des algorithmes de classification et de clustering, tels que K-means, SVM ou Random Forest, sur l'ensemble d'apprentissage.\n",
    "Évaluez la performance des algorithmes en utilisant des mesures telles que l'exactitude, la précision, le rappel et la F1-score.\n",
    "Utilisez l'algorithme le plus performant pour prédire les préférences des utilisateurs sur l'ensemble de test."
   ]
  }
 ],
 "metadata": {
  "kernelspec": {
   "display_name": "Python 3 (ipykernel)",
   "language": "python",
   "name": "python3"
  },
  "language_info": {
   "codemirror_mode": {
    "name": "ipython",
    "version": 3
   },
   "file_extension": ".py",
   "mimetype": "text/x-python",
   "name": "python",
   "nbconvert_exporter": "python",
   "pygments_lexer": "ipython3",
   "version": "3.10.6"
  },
  "toc-showtags": false
 },
 "nbformat": 4,
 "nbformat_minor": 5
}
