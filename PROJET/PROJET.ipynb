{
 "cells": [
  {
   "cell_type": "markdown",
   "id": "c8831037-2a16-46ab-8e57-1476504dafcb",
   "metadata": {},
   "source": [
    "# **Installation of Packages**\n",
    "\n",
    "First install packages like numpy, scikit-learn, matplotlib"
   ]
  },
  {
   "cell_type": "code",
   "execution_count": 1,
   "id": "799ba749-b7c1-4022-90c2-ca85423c6d72",
   "metadata": {},
   "outputs": [
    {
     "name": "stdout",
     "output_type": "stream",
     "text": [
      "Requirement already satisfied: numpy in /home/cpe/CPE_Data_Mining/env/lib/python3.10/site-packages (1.24.2)\n",
      "Requirement already satisfied: SPARQLWrapper in /home/cpe/CPE_Data_Mining/env/lib/python3.10/site-packages (2.0.0)\n",
      "Requirement already satisfied: rdflib>=6.1.1 in /home/cpe/CPE_Data_Mining/env/lib/python3.10/site-packages (from SPARQLWrapper) (6.2.0)\n",
      "Requirement already satisfied: setuptools in /home/cpe/CPE_Data_Mining/env/lib/python3.10/site-packages (from rdflib>=6.1.1->SPARQLWrapper) (59.6.0)\n",
      "Requirement already satisfied: pyparsing in /home/cpe/CPE_Data_Mining/env/lib/python3.10/site-packages (from rdflib>=6.1.1->SPARQLWrapper) (3.0.9)\n",
      "Requirement already satisfied: isodate in /home/cpe/CPE_Data_Mining/env/lib/python3.10/site-packages (from rdflib>=6.1.1->SPARQLWrapper) (0.6.1)\n",
      "Requirement already satisfied: six in /home/cpe/CPE_Data_Mining/env/lib/python3.10/site-packages (from isodate->rdflib>=6.1.1->SPARQLWrapper) (1.16.0)\n",
      "Requirement already satisfied: scikit-learn in /home/cpe/CPE_Data_Mining/env/lib/python3.10/site-packages (1.2.1)\n",
      "Requirement already satisfied: scipy>=1.3.2 in /home/cpe/CPE_Data_Mining/env/lib/python3.10/site-packages (from scikit-learn) (1.10.1)\n",
      "Requirement already satisfied: threadpoolctl>=2.0.0 in /home/cpe/CPE_Data_Mining/env/lib/python3.10/site-packages (from scikit-learn) (3.1.0)\n",
      "Requirement already satisfied: joblib>=1.1.1 in /home/cpe/CPE_Data_Mining/env/lib/python3.10/site-packages (from scikit-learn) (1.2.0)\n",
      "Requirement already satisfied: numpy>=1.17.3 in /home/cpe/CPE_Data_Mining/env/lib/python3.10/site-packages (from scikit-learn) (1.24.2)\n",
      "\u001b[31mERROR: Could not find a version that satisfies the requirement PIL (from versions: none)\u001b[0m\u001b[31m\n",
      "\u001b[0m\u001b[31mERROR: No matching distribution found for PIL\u001b[0m\u001b[31m\n",
      "\u001b[0mRequirement already satisfied: pandas in /home/cpe/CPE_Data_Mining/env/lib/python3.10/site-packages (1.5.3)\n",
      "Requirement already satisfied: pytz>=2020.1 in /home/cpe/CPE_Data_Mining/env/lib/python3.10/site-packages (from pandas) (2022.7.1)\n",
      "Requirement already satisfied: python-dateutil>=2.8.1 in /home/cpe/CPE_Data_Mining/env/lib/python3.10/site-packages (from pandas) (2.8.2)\n",
      "Requirement already satisfied: numpy>=1.21.0 in /home/cpe/CPE_Data_Mining/env/lib/python3.10/site-packages (from pandas) (1.24.2)\n",
      "Requirement already satisfied: six>=1.5 in /home/cpe/CPE_Data_Mining/env/lib/python3.10/site-packages (from python-dateutil>=2.8.1->pandas) (1.16.0)\n",
      "Requirement already satisfied: webcolors in /home/cpe/CPE_Data_Mining/env/lib/python3.10/site-packages (1.12)\n"
     ]
    }
   ],
   "source": [
    "!pip3 install numpy \n",
    "!pip3 install SPARQLWrapper\n",
    "!pip3 install scikit-learn\n",
    "!pip3 install PIL\n",
    "!pip3 install pandas\n",
    "!pip3 install webcolors"
   ]
  },
  {
   "cell_type": "markdown",
   "id": "b9e3f465-472a-4b8d-be2d-34a06b69b18d",
   "metadata": {},
   "source": [
    "# **Importation of packages**\n",
    "\n",
    "We import the necessary packages"
   ]
  },
  {
   "cell_type": "code",
   "execution_count": 16,
   "id": "47128905-6837-4900-83e4-ebf0756c19f1",
   "metadata": {
    "tags": []
   },
   "outputs": [],
   "source": [
    "import os, sys, json\n",
    "import urllib \n",
    "import shutil\n",
    "import numpy\n",
    "from SPARQLWrapper import SPARQLWrapper, JSON\n",
    "from PIL import Image\n",
    "from sklearn.cluster import KMeans, MiniBatchKMeans\n",
    "import webcolors\n",
    "import random\n",
    "import time\n",
    "import requests"
   ]
  },
  {
   "cell_type": "markdown",
   "id": "4fad4a30-8856-4088-82fd-032801640336",
   "metadata": {},
   "source": [
    "# **Load Dataset**"
   ]
  },
  {
   "cell_type": "code",
   "execution_count": 3,
   "id": "867a4edf-0862-4e9b-a179-9c0e60900d12",
   "metadata": {
    "tags": []
   },
   "outputs": [
    {
     "name": "stdout",
     "output_type": "stream",
     "text": [
      "{'Q5375926-Q144': {}, 'Q5515388-Q144': {}, 'Q5619202-Q144': {}, 'Q5686986-Q144': {}, 'Q5859102-Q144': {}, 'Q5902587-Q144': {}, 'Q5905086-Q144': {}, 'Q5970618-Q144': {}, 'Q6072863-Q144': {}, 'Q6104495-Q144': {}, 'Q19010-Q14660': {}, 'Q19374-Q14660': {}, 'Q72298-Q14660': {}, 'Q122482-Q14660': {}, 'Q145637-Q14660': {}, 'Q148002-Q14660': {}, 'Q163008-Q14660': {}}\n"
     ]
    }
   ],
   "source": [
    "endpoint_url = \"https://query.wikidata.org/sparql\"\n",
    "\n",
    "img_data = {}\n",
    "\n",
    "#Requete pour recuperer les infos de l'entité donnée - Q144/Chien par defaut\n",
    "def query(wd='Q144', limit=5):\n",
    "     return \"\"\"SELECT ?item ?itemLabel ?pic{?item wdt:P31 wd:\"\"\"+wd+\"\"\".?item wdt:P18 ?pic}limit \"\"\"+str(limit)+\"\"\"\"\"\"\n",
    "\n",
    "def get_results(endpoint_url, query):\n",
    "    user_agent = \"WDQS-example Python/%s.%s\" % (sys.version_info[0], sys.version_info[1])\n",
    "    sparql = SPARQLWrapper(endpoint_url, agent=user_agent)\n",
    "    sparql.setQuery(query)\n",
    "    sparql.setReturnFormat(JSON)\n",
    "    return sparql.query().convert()\n",
    "\n",
    "#Pour creer le fichier des images s'il existe pas\n",
    "def createFolder(name='images'):\n",
    "    if name not in os.listdir():\n",
    "        os.mkdir(name)\n",
    "    else:\n",
    "        print('Dossier '+name+' déjà exitant !')\n",
    "\n",
    "#Pour verifier si un dossier est vide - evitons de retélécharger des images inutilement.\n",
    "def isEmpty(name='images'):\n",
    "    if len(os.listdir(name)) == 0:\n",
    "        return True\n",
    "    return False\n",
    "\n",
    "#Pour ajouter des elements a la bdd\n",
    "def addImg(wd,limit):\n",
    "    results = get_results(endpoint_url, query(wd,limit))\n",
    "    for result in results['results']['bindings']:\n",
    "        name_img = result['item']['value'].split(\"/\")[-1]+\"-\"+wd #nom donné aux images téléchargées \"numéro d'image - numéro de catégorie\"\n",
    "        #img_data[result['item']['value'].split(\"/\")[-1]] = {}\n",
    "        img_data[name_img] = {}\n",
    "        #img_data[result['item']['value'].split(\"/\")[-1]] = {'image': result['pic']['value'],}\n",
    "    #print(img_data)\n",
    "        downloadImage(result['pic']['value'], name_img)\n",
    "\n",
    "def addAllImg(wd,limit):\n",
    "    for w in wd:\n",
    "        addImg(w,limit)\n",
    "        time.sleep(0.01)\n",
    "\n",
    "#Pour telecharger l'image d'un element de la bd\n",
    "def downloadImage(url, name_img='img0'):\n",
    "    full_path = 'images/'+name_img+'.jpg'\n",
    "    urllib.request.urlretrieve(url, full_path)\n",
    "\n",
    "#Si les images sont deja telechargées on initialise le tableau\n",
    "def initAlreadyDownload(namefolder='images'):\n",
    "    for image in os.listdir(namefolder):\n",
    "        #img_data[image.split(\".\")[0]] = {'image': \"\",}\n",
    "        img_data[image.split(\".\")[0]] = {}\n",
    "    \n",
    "#Pour télécharger toutes les images - limit par query\n",
    "def downloadAllImages(wd=['Q144'], limit=5):\n",
    "    createFolder()\n",
    "    if isEmpty() == False:\n",
    "        print('Images déjà téléchargées !')\n",
    "        initAlreadyDownload()\n",
    "        return False\n",
    "    addAllImg(wd,limit)\n",
    "    return True \n",
    "\n",
    "\n",
    "#Supprimer une image du dossier \n",
    "def removeImage(image):\n",
    "    if os.path.isfile('images/'+image):\n",
    "        os.remove('images/'+image)\n",
    "        img_data.pop(image.split(\".\")[0])\n",
    "    else:\n",
    "        shutil.rmtree('images/'+image)\n",
    "    \n",
    "downloadAllImages(wd=['Q144','Q14660'],limit=10)\n",
    "print(img_data)\n"
   ]
  },
  {
   "cell_type": "markdown",
   "id": "e951e480-50b2-4eba-bac8-60c5c9a7837b",
   "metadata": {},
   "source": [
    "# **Adding Meta to the Dataset**"
   ]
  },
  {
   "cell_type": "markdown",
   "id": "2c495e1c-1d48-45db-9591-9d7e0dd4866c",
   "metadata": {},
   "source": [
    "## *1. Exif* "
   ]
  },
  {
   "cell_type": "code",
   "execution_count": 4,
   "id": "79f4ef6f-e2ca-4d53-bdb0-fde6b1d00282",
   "metadata": {
    "tags": []
   },
   "outputs": [],
   "source": [
    "#Obtenir les metas d'une image\n",
    "def getMetaImg(name, imgfile): #name = 'img'\n",
    "    \n",
    "    img_data[name]['size'] = imgfile.size #(largeur,hauteur)\n",
    "    img_data[name]['size_'] = getSizeImg(img_data[name]['size'])\n",
    "    img_data[name]['orientation'] = getOrientationImg(img_data[name]['size'])\n",
    "    img_data[name]['format'] = imgfile.format\n",
    "    \n",
    "    \n",
    "    getColorsImg(name, imgfile)\n",
    "    \n",
    "    exif_data = imgfile._getexif()\n",
    "    if exif_data:\n",
    "        img_data[name]['date'] = exif_data.get(36867, \"\") #Date\n",
    "        img_data[name]['model'] = exif_data.get(272, \"\") #Appareil utilisé\n",
    "    else:\n",
    "        pass\n",
    "        #print(\"Aucune donnée Exif trouvée.\")\n",
    "\n",
    "def getOrientationImg(size): #(largeur,hauteur)\n",
    "    width,height = size\n",
    "    return \"landscape\" if width > height else \"portrait\" if height > width else \"squared\"\n",
    "    \n",
    "def getSizeImg(size): #(largeur,hauteur)\n",
    "    width,height = size\n",
    "    return \"large\" if width*height>1920*1080 else \"small\" if width*height<640*480 else \"medium\"\n",
    "    \n"
   ]
  },
  {
   "cell_type": "markdown",
   "id": "bd1d3ed5-bee1-40c5-9655-478f211ba2d1",
   "metadata": {},
   "source": [
    "## *2. Main Color* "
   ]
  },
  {
   "cell_type": "code",
   "execution_count": 5,
   "id": "b171d862-0a09-463c-8e53-51901d18a160",
   "metadata": {},
   "outputs": [],
   "source": [
    "def getColorsImg(name, imgfile, cluster_nbr=3, n_init=1):\n",
    "    \n",
    "    img_data[name]['colors'] = {}\n",
    "    \n",
    "    img_array = numpy.array(imgfile)\n",
    "    \n",
    "    try:\n",
    "        img_vector = img_array.reshape(-1, 3)\n",
    "\n",
    "        clusters = MiniBatchKMeans(n_clusters=cluster_nbr, n_init=n_init, random_state=0).fit(img_vector) #Random state pour garder la meme seed ppour toutes les images\n",
    "\n",
    "        for i in range(cluster_nbr):\n",
    "            rgb = (int(clusters.cluster_centers_[i][0]),int(clusters.cluster_centers_[i][1]),int(clusters.cluster_centers_[i][2]))\n",
    "\n",
    "            # chercher le nom de couleur correspondant au code RGB\n",
    "            try:\n",
    "                color_name = webcolors.rgb_to_name(rgb)\n",
    "            except ValueError:\n",
    "                # si le nom exact n'est pas trouvé, trouver le nom le plus proche\n",
    "                min_colors = {}\n",
    "                for key, name_ in webcolors.CSS3_HEX_TO_NAMES.items():\n",
    "                    r_c, g_c, b_c = webcolors.hex_to_rgb(key)\n",
    "                    rd = (r_c - rgb[0]) ** 2\n",
    "                    gd = (g_c - rgb[1]) ** 2\n",
    "                    bd = (b_c - rgb[2]) ** 2\n",
    "                    min_colors[(rd + gd + bd)] = name_\n",
    "                color_name = min_colors[min(min_colors.keys())]\n",
    "\n",
    "\n",
    "            img_data[name]['colors'][color_name] = rgb\n",
    "            \n",
    "    except Exception as e:\n",
    "        print('Pas de couleur : {}'.format(e))\n"
   ]
  },
  {
   "cell_type": "markdown",
   "id": "f498394c-af02-4b6f-bc62-b65d24a175a2",
   "metadata": {},
   "source": [
    "## *3. All Meta* "
   ]
  },
  {
   "cell_type": "code",
   "execution_count": 6,
   "id": "69250fd9-f23f-4c54-9385-8960ae2a69aa",
   "metadata": {
    "tags": []
   },
   "outputs": [
    {
     "name": "stdout",
     "output_type": "stream",
     "text": [
      "Erreur lors de l'ouverture de l'image images/Q163008-Q14660.jpg: cannot identify image file 'images/Q163008-Q14660.jpg'\n",
      "Erreur lors de l'ouverture de l'image images/Q19010-Q14660.jpg: cannot identify image file 'images/Q19010-Q14660.jpg'\n",
      "Erreur lors de l'ouverture de l'image images/Q19374-Q14660.jpg: cannot identify image file 'images/Q19374-Q14660.jpg'\n",
      "Erreur lors de l'ouverture de l'image images/Q148002-Q14660.jpg: cannot identify image file 'images/Q148002-Q14660.jpg'\n",
      "Erreur lors de l'ouverture de l'image images/Q72298-Q14660.jpg: cannot identify image file 'images/Q72298-Q14660.jpg'\n",
      "Erreur lors de l'ouverture de l'image images/Q122482-Q14660.jpg: cannot identify image file 'images/Q122482-Q14660.jpg'\n"
     ]
    }
   ],
   "source": [
    "def openImgGetMeta(name): #name = 'img.jpg'\n",
    "    try:\n",
    "        with Image.open(\"images/\"+name) as imgfile:\n",
    "            #print(imgfile.size, imgfile.format)\n",
    "            name = name.split(\".\")[0]\n",
    "            getMetaImg(name, imgfile)\n",
    "\n",
    "        imgfile.close()\n",
    "        return True\n",
    "    except FileNotFoundError as e:\n",
    "        print('Impossible de trouver le fichier {}: {}'.format(\"images/\"+name, e))\n",
    "        return False\n",
    "    except Exception as e:\n",
    "        print('Erreur lors de l\\'ouverture de l\\'image {}: {}'.format(\"images/\"+name, e))\n",
    "        removeImage(name)\n",
    "        return False\n",
    "        \n",
    "#Obtenir les metas de toutes nos images    \n",
    "def openGetMetaAllImg(namefolder='images'):\n",
    "    for image in os.listdir(namefolder):\n",
    "        openImgGetMeta(image)\n",
    "\n",
    "openGetMetaAllImg()"
   ]
  },
  {
   "cell_type": "markdown",
   "id": "bbaf2bcb-997a-40b0-8f1f-c1dc733f004c",
   "metadata": {},
   "source": [
    "## *4. Export to JSON* "
   ]
  },
  {
   "cell_type": "code",
   "execution_count": 7,
   "id": "ebcaf4e1-a319-499b-89fe-0c889705c89b",
   "metadata": {
    "tags": []
   },
   "outputs": [
    {
     "name": "stdout",
     "output_type": "stream",
     "text": [
      "done\n"
     ]
    }
   ],
   "source": [
    "#Enregistre les metadonnées des images dans un JSON\n",
    "def exportToJSON(data,name='img_data.json'):\n",
    "    with open(name, 'w', encoding='utf-8') as f:\n",
    "        json.dump(data, f, ensure_ascii=False, indent=4)\n",
    "    print(\"done\")\n",
    "        \n",
    "exportToJSON(data=img_data)"
   ]
  },
  {
   "cell_type": "markdown",
   "id": "aed00cd7-cee7-41f7-8dde-00b9dd8bb303",
   "metadata": {},
   "source": [
    "## *5. Open JSON* "
   ]
  },
  {
   "cell_type": "code",
   "execution_count": 8,
   "id": "2781acfe-157f-4dea-b33e-b953cfa3ffed",
   "metadata": {},
   "outputs": [],
   "source": [
    "\n",
    "def openJSON(file=\"img_data.json\"):\n",
    "    # Ouvrir le fichier JSON en mode lecture (fermé automatiquement)\n",
    "    with open(file, 'r') as f:\n",
    "        data = json.load(f)\n",
    "    return data\n",
    "    "
   ]
  },
  {
   "cell_type": "markdown",
   "id": "0935a14c-e11d-468e-90d4-902f509740d5",
   "metadata": {},
   "source": [
    "## *6. Add categories* "
   ]
  },
  {
   "cell_type": "code",
   "execution_count": 64,
   "id": "73430ae5-a71b-4036-b20a-cffc85b784f5",
   "metadata": {
    "tags": []
   },
   "outputs": [
    {
     "name": "stdout",
     "output_type": "stream",
     "text": [
      "done\n"
     ]
    }
   ],
   "source": [
    "# Requête API à Wikidata pour récupérer les catégories de l'image\n",
    "def wikidataAPI(_id,lang):\n",
    "    url = f\"https://www.wikidata.org/w/api.php?action=wbgetentities&ids={_id}&props=labels|claims&languages={lang}&format=json\"\n",
    "    #if lang != \"\":\n",
    "    #    #categorie\n",
    "    #    url = f\"https://www.wikidata.org/w/api.php?action=wbgetentities&ids={_id}&props=labels&languages={lang}&format=json\"\n",
    "    #else:\n",
    "    #    #image\n",
    "    #    url = f\"https://www.wikidata.org/w/api.php?action=wbgetentities&ids={_id}&props=claims&format=json\"\n",
    "    response = requests.get(url)\n",
    "    return json.loads(response.text)\n",
    "\n",
    "\n",
    "def findTagsImg(_id, lang='en'): #\"Q7704028-Q144\"\n",
    "    \n",
    "    image_id, cat_id = _id.split(\"-\")\n",
    "    \n",
    "    # Requête API à Wikidata pour récupérer les catégories de l'image\n",
    "    img_data = wikidataAPI(image_id,lang)\n",
    "    cat_data = wikidataAPI(cat_id,lang)\n",
    "    \n",
    "    # Extraire le libellé de la catégorie dans la langue souhaitée\n",
    "    main_tag = cat_data.get('entities', {}).get(cat_id, {}).get('labels', {}).get(lang, {}).get('value', '')\n",
    "    \n",
    "    # Trouver les catégories dans la réponse de la requête API sur l'image\n",
    "    claims = img_data.get(\"entities\", {}).get(image_id, {}).get(\"claims\", {})\n",
    "    categories = formatCategory([x['mainsnak']['datavalue']['value'] for prop in [\"P910\", \"P373\"] for x in claims.get(prop, [])])\n",
    "            \n",
    "    if main_tag not in categories:\n",
    "        categories.append(main_tag)\n",
    "    \n",
    "    return categories\n",
    "\n",
    "\n",
    "def formatCategory(categories):\n",
    "    categories_ = []\n",
    "    \n",
    "    replaceCar = ['(', ')']\n",
    "    splitCar = [',', ' ']\n",
    "    \n",
    "    for category in categories:\n",
    "        for car in replaceCar:\n",
    "            category = category.replace(car, '')\n",
    "        for car in splitCar:\n",
    "            parts = category.split(car)\n",
    "            if len(parts) > 1:\n",
    "                categories_.extend(parts[1:])\n",
    "                category = parts[0]\n",
    "        categories_.append(category.lower())\n",
    "    \n",
    "    return categories_\n",
    "\n",
    "\n",
    "def addTagsJSON(image_id = \"Q7704028\", categories=[]):\n",
    "    data = openJSON(file=\"img_data.json\")\n",
    "    data[image_id]['tags'] = categories\n",
    "\n",
    "\n",
    "def addAllTagsJSON():\n",
    "    data = openJSON(file=\"img_data.json\")\n",
    "    for _id in data:\n",
    "        data[_id]['tags'] = findTagsImg(_id)\n",
    "    return data\n",
    "\n",
    "\n",
    "data = addAllTagsJSON()\n",
    "exportToJSON(data)\n"
   ]
  },
  {
   "cell_type": "markdown",
   "id": "5fbc4519-c030-45e4-899a-1add2956594c",
   "metadata": {},
   "source": [
    "# **Data Analyses**"
   ]
  },
  {
   "cell_type": "markdown",
   "id": "bd883c81-b71a-48e1-9863-c6ea9ef42822",
   "metadata": {},
   "source": [
    "## *1. Class User* "
   ]
  },
  {
   "cell_type": "code",
   "execution_count": 60,
   "id": "7f3a0514-784a-46b2-a3d8-b79b12710839",
   "metadata": {
    "tags": []
   },
   "outputs": [],
   "source": [
    "class User:\n",
    "    def __init__(self, favorite_color=None, favorite_orientation=None, favorite_size=None, favorite_tags=None, favorite_pictures=None):\n",
    "        self._favorite_color = favorite_color\n",
    "        self._favorite_orientation = favorite_orientation\n",
    "        self._favorite_size = favorite_size\n",
    "        self._favorite_tags = favorite_tags\n",
    "        self._favorite_pictures = favorite_pictures\n",
    "\n",
    "    def get_favorite_color(self):\n",
    "        return self._favorite_color\n",
    "\n",
    "    def set_favorite_color(self, new_favorite_color):\n",
    "        self._favorite_color = new_favorite_color\n",
    "\n",
    "    def get_favorite_orientation(self):\n",
    "        return self._favorite_orientation\n",
    "\n",
    "    def set_favorite_orientation(self, new_favorite_orientation):\n",
    "        self._favorite_orientation = new_favorite_orientation\n",
    "\n",
    "    def get_favorite_size(self):\n",
    "        return self._favorite_size\n",
    "\n",
    "    def set_favorite_size(self, new_favorite_size):\n",
    "        self._favorite_size = new_favorite_size\n",
    "\n",
    "    def get_favorite_tags(self):\n",
    "        return self._favorite_tags\n",
    "\n",
    "    def set_favorite_tags(self, new_favorite_tags):\n",
    "        self._favorite_tags = new_favorite_tags\n",
    "\n",
    "    def get_favorite_pictures(self):\n",
    "        return self._favorite_pictures\n",
    "\n",
    "    def set_favorite_pictures(self, new_favorite_pictures):\n",
    "        self._favorite_pictures = new_favorite_pictures\n",
    "\n",
    "    def __str__(self):\n",
    "        return f\"User with favorite color {self._favorite_color}, orientation {self._favorite_orientation}, size {self._favorite_size}, tags {self._favorite_tags} and favorite pictures {self._favorite_pictures}\"\n",
    "\n",
    "\n",
    "class RandomUser(User):\n",
    "    # possible values for each attribute\n",
    "    colors = list(webcolors.CSS3_HEX_TO_NAMES.values())\n",
    "    orientations = [\"portrait\", \"landscape\", \"square\"]\n",
    "    sizes = [\"small\", \"medium\", \"large\"]\n",
    "    tags = [\"nature\", \"food\", \"travel\", \"art\", \"music\", \"sports\"]\n",
    "\n",
    "    def __init__(self):\n",
    "        # call the parent constructor with random parameters\n",
    "        super().__init__(\n",
    "            favorite_color=random.sample(self.colors, k=2),\n",
    "            favorite_orientation=random.choice(self.orientations),\n",
    "            favorite_size=random.choice(self.sizes),\n",
    "            favorite_tags=random.sample(self.tags, k=3),\n",
    "            favorite_pictures=[]\n",
    "        )\n"
   ]
  },
  {
   "cell_type": "markdown",
   "id": "34ddf135-bb53-4cad-b77b-60578df4ea95",
   "metadata": {
    "tags": []
   },
   "source": [
    "## *2. Creation of random Users* "
   ]
  },
  {
   "cell_type": "code",
   "execution_count": 62,
   "id": "bce636c0-78f9-48a4-a17b-d77d149c786e",
   "metadata": {},
   "outputs": [
    {
     "name": "stdout",
     "output_type": "stream",
     "text": [
      "['Q5619202-Q144.jpg', 'Q5515388-Q144.jpg', 'Q6072863-Q144.jpg']\n",
      "['Q5375926-Q144.jpg', 'Q6072863-Q144.jpg', 'Q5686986-Q144.jpg']\n",
      "['Q6104495-Q144.jpg', 'Q145637-Q14660.jpg', 'Q5515388-Q144.jpg']\n",
      "['Q5375926-Q144.jpg', 'Q6104495-Q144.jpg', 'Q5686986-Q144.jpg']\n",
      "['Q5859102-Q144.jpg', 'Q6104495-Q144.jpg', 'Q5905086-Q144.jpg']\n",
      "['Q5619202-Q144.jpg', 'Q5515388-Q144.jpg', 'Q6072863-Q144.jpg']\n",
      "['Q5515388-Q144.jpg', 'Q5619202-Q144.jpg', 'Q5905086-Q144.jpg']\n",
      "['Q5375926-Q144.jpg', 'Q5902587-Q144.jpg', 'Q6072863-Q144.jpg']\n",
      "['Q6072863-Q144.jpg', 'Q6104495-Q144.jpg', 'Q5619202-Q144.jpg']\n",
      "['Q5515388-Q144.jpg', 'Q145637-Q14660.jpg', 'Q5686986-Q144.jpg']\n"
     ]
    }
   ],
   "source": [
    "#test = RandomUser()\n",
    "#print(test)\n",
    "\n",
    "number_users = 10\n",
    "number_pictures = 3\n",
    "users = []\n",
    "\n",
    "for i in range(number_users):\n",
    "    user = User(favorite_pictures=random.sample(os.listdir(\"images\"), k=number_pictures))\n",
    "    users.append(user)\n",
    "    print(user.get_favorite_pictures())\n"
   ]
  },
  {
   "cell_type": "markdown",
   "id": "22e75ef5-7486-4276-be6c-1667d1764ccb",
   "metadata": {},
   "source": [
    "## *3. Analyse Users* "
   ]
  },
  {
   "cell_type": "code",
   "execution_count": 63,
   "id": "c021b9cd-9974-4f12-91a2-54ca6683b27d",
   "metadata": {
    "tags": []
   },
   "outputs": [
    {
     "name": "stdout",
     "output_type": "stream",
     "text": [
      "{'Q5375926-Q144': {'size': [1312, 2000], 'size_': 'large', 'orientation': 'portrait', 'format': 'JPEG', 'colors': {'gray': [135, 123, 115], 'darkslategray': [40, 38, 38], 'silver': [197, 185, 170]}, 'tags': ['dog']}, 'Q5515388-Q144': {'size': [2032, 1524], 'size_': 'large', 'orientation': 'landscape', 'format': 'JPEG', 'colors': {'rosybrown': [163, 154, 145], 'gainsboro': [224, 219, 209], 'dimgray': [98, 85, 85]}, 'date': '2007:11:02 15:17:17', 'model': 'KODAK CX7330 ZOOM DIGITAL CAMERA', 'tags': ['dog']}, 'Q5619202-Q144': {'size': [300, 458], 'size_': 'small', 'orientation': 'portrait', 'format': 'JPEG', 'colors': {'gray': [136, 136, 136], 'darkslategray': [49, 49, 49], 'silver': [199, 199, 199]}, 'tags': ['dog', 'gunner']}, 'Q5686986-Q144': {'size': [180, 181], 'size_': 'small', 'orientation': 'portrait', 'format': 'JPEG', 'colors': {'rosybrown': [167, 137, 107], 'saddlebrown': [122, 76, 14], 'lightgray': [210, 206, 204]}, 'date': '', 'model': '', 'tags': ['dog']}, 'Q5859102-Q144': {'size': [294, 306], 'size_': 'small', 'orientation': 'portrait', 'format': 'JPEG', 'colors': {'whitesmoke': [236, 236, 236], 'darkslategray': [40, 40, 40], 'lightslategray': [146, 146, 146]}, 'date': '', 'model': '', 'tags': ['dog']}, 'Q5902587-Q144': {'size': [893, 729], 'size_': 'medium', 'orientation': 'landscape', 'format': 'JPEG', 'colors': {'wheat': [236, 224, 196], 'rosybrown': [162, 157, 122], 'darkolivegreen': [77, 73, 37]}, 'tags': ['dog']}, 'Q5905086-Q144': {'size': [450, 258], 'size_': 'small', 'orientation': 'landscape', 'format': 'JPEG', 'colors': {'silver': [198, 198, 198], 'darkslategray': [70, 68, 70], 'gray': [140, 140, 140]}, 'tags': ['the', 'Wog', 'Dog', 'horrie', 'dog']}, 'Q5970618-Q144': {'size': [3456, 5184], 'size_': 'large', 'orientation': 'portrait', 'format': 'JPEG', 'colors': {'brown': [153, 53, 39], 'lightslategray': [139, 144, 154], 'beige': [236, 232, 225]}, 'date': '2017:11:13 16:17:17', 'model': 'Canon EOS 550D', 'tags': ['dog']}, 'Q6072863-Q144': {'size': [1316, 1804], 'size_': 'large', 'orientation': 'portrait', 'format': 'JPEG', 'colors': {'gray': [125, 125, 125], 'whitesmoke': [242, 242, 242], 'silver': [187, 187, 187]}, 'tags': ['Paco', 'perro', 'dog']}, 'Q6104495-Q144': {'size': [142, 157], 'size_': 'small', 'orientation': 'portrait', 'format': 'JPEG', 'colors': {'gainsboro': [213, 220, 220], 'darkslategray': [39, 44, 44], 'gray': [128, 137, 137]}, 'date': '2011:05:16 14:55:22', 'model': '', 'tags': ['foks', 'dog']}, 'Q145637-Q14660': {'size': [3999, 2666], 'size_': 'large', 'orientation': 'landscape', 'format': 'JPEG', 'colors': {'indianred': [181, 115, 113], 'darkslategray': [56, 43, 34], 'royalblue': [21, 66, 200]}, 'date': '2016:06:24 20:48:45', 'model': 'Canon EOS 550D', 'tags': ['of', 'the', 'Sorbs', 'flags', 'flag']}}\n"
     ]
    }
   ],
   "source": [
    "print(data)"
   ]
  },
  {
   "cell_type": "markdown",
   "id": "9e878f9e-c504-4b7e-b289-a2e839c1e1f5",
   "metadata": {},
   "source": [
    "# **Data Visualization**"
   ]
  },
  {
   "cell_type": "markdown",
   "id": "da22c6e7-3127-4d59-99d6-64d9a5573c07",
   "metadata": {},
   "source": [
    "## *1. Number of pictures by year* "
   ]
  },
  {
   "cell_type": "code",
   "execution_count": null,
   "id": "9a305fd3-dac1-452b-bd2d-6001086b5d3b",
   "metadata": {},
   "outputs": [],
   "source": []
  },
  {
   "cell_type": "code",
   "execution_count": null,
   "id": "7c584e2b-80a7-453a-89ea-39c9a1295ed9",
   "metadata": {},
   "outputs": [],
   "source": []
  },
  {
   "cell_type": "markdown",
   "id": "abdfae49-a1b5-426b-99a2-44bd3b23052d",
   "metadata": {},
   "source": [
    "# **Recommendation System**\n"
   ]
  },
  {
   "cell_type": "code",
   "execution_count": null,
   "id": "189ea741-b840-4987-b953-46144ed58433",
   "metadata": {},
   "outputs": [],
   "source": []
  }
 ],
 "metadata": {
  "kernelspec": {
   "display_name": "Python 3 (ipykernel)",
   "language": "python",
   "name": "python3"
  },
  "language_info": {
   "codemirror_mode": {
    "name": "ipython",
    "version": 3
   },
   "file_extension": ".py",
   "mimetype": "text/x-python",
   "name": "python",
   "nbconvert_exporter": "python",
   "pygments_lexer": "ipython3",
   "version": "3.10.6"
  },
  "toc-showtags": false
 },
 "nbformat": 4,
 "nbformat_minor": 5
}
