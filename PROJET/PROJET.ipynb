{
 "cells": [
  {
   "cell_type": "markdown",
   "id": "c8831037-2a16-46ab-8e57-1476504dafcb",
   "metadata": {},
   "source": [
    "# **Installation of Packages**\n",
    "\n",
    "First install packages like numpy, scikit-learn, matplotlib"
   ]
  },
  {
   "cell_type": "code",
   "execution_count": 1,
   "id": "799ba749-b7c1-4022-90c2-ca85423c6d72",
   "metadata": {},
   "outputs": [
    {
     "name": "stdout",
     "output_type": "stream",
     "text": [
      "Requirement already satisfied: numpy in /home/cpe/CPE_Data_Mining/env/lib/python3.10/site-packages (1.24.2)\n",
      "Requirement already satisfied: scikit-learn in /home/cpe/CPE_Data_Mining/env/lib/python3.10/site-packages (1.2.1)\n",
      "Requirement already satisfied: matplotlib in /home/cpe/CPE_Data_Mining/env/lib/python3.10/site-packages (3.6.3)\n",
      "Requirement already satisfied: threadpoolctl>=2.0.0 in /home/cpe/CPE_Data_Mining/env/lib/python3.10/site-packages (from scikit-learn) (3.1.0)\n",
      "Requirement already satisfied: joblib>=1.1.1 in /home/cpe/CPE_Data_Mining/env/lib/python3.10/site-packages (from scikit-learn) (1.2.0)\n",
      "Requirement already satisfied: scipy>=1.3.2 in /home/cpe/CPE_Data_Mining/env/lib/python3.10/site-packages (from scikit-learn) (1.10.0)\n",
      "Requirement already satisfied: python-dateutil>=2.7 in /home/cpe/CPE_Data_Mining/env/lib/python3.10/site-packages (from matplotlib) (2.8.2)\n",
      "Requirement already satisfied: packaging>=20.0 in /home/cpe/CPE_Data_Mining/env/lib/python3.10/site-packages (from matplotlib) (23.0)\n",
      "Requirement already satisfied: kiwisolver>=1.0.1 in /home/cpe/CPE_Data_Mining/env/lib/python3.10/site-packages (from matplotlib) (1.4.4)\n",
      "Requirement already satisfied: cycler>=0.10 in /home/cpe/CPE_Data_Mining/env/lib/python3.10/site-packages (from matplotlib) (0.11.0)\n",
      "Requirement already satisfied: pillow>=6.2.0 in /home/cpe/CPE_Data_Mining/env/lib/python3.10/site-packages (from matplotlib) (9.4.0)\n",
      "Requirement already satisfied: pyparsing>=2.2.1 in /home/cpe/CPE_Data_Mining/env/lib/python3.10/site-packages (from matplotlib) (3.0.9)\n",
      "Requirement already satisfied: contourpy>=1.0.1 in /home/cpe/CPE_Data_Mining/env/lib/python3.10/site-packages (from matplotlib) (1.0.7)\n",
      "Requirement already satisfied: fonttools>=4.22.0 in /home/cpe/CPE_Data_Mining/env/lib/python3.10/site-packages (from matplotlib) (4.38.0)\n",
      "Requirement already satisfied: six>=1.5 in /home/cpe/CPE_Data_Mining/env/lib/python3.10/site-packages (from python-dateutil>=2.7->matplotlib) (1.16.0)\n"
     ]
    }
   ],
   "source": [
    "!pip install numpy scikit-learn matplotlib"
   ]
  },
  {
   "cell_type": "markdown",
   "id": "b9e3f465-472a-4b8d-be2d-34a06b69b18d",
   "metadata": {},
   "source": [
    "# **Importation of packages**\n",
    "\n",
    "We import the necessary packages"
   ]
  },
  {
   "cell_type": "code",
   "execution_count": 2,
   "id": "47128905-6837-4900-83e4-ebf0756c19f1",
   "metadata": {
    "tags": []
   },
   "outputs": [],
   "source": [
    "import os, sys, json\n",
    "import urllib \n",
    "import shutil\n",
    "import numpy\n",
    "from SPARQLWrapper import SPARQLWrapper, JSON\n",
    "from PIL import Image\n",
    "from sklearn.cluster import KMeans"
   ]
  },
  {
   "cell_type": "markdown",
   "id": "4fad4a30-8856-4088-82fd-032801640336",
   "metadata": {},
   "source": [
    "# **Load Dataset**"
   ]
  },
  {
   "cell_type": "code",
   "execution_count": 7,
   "id": "867a4edf-0862-4e9b-a179-9c0e60900d12",
   "metadata": {
    "tags": []
   },
   "outputs": [
    {
     "name": "stdout",
     "output_type": "stream",
     "text": [
      "Dossier images déjà exitant !\n",
      "Images déjà téléchargées !\n",
      "{'Q4485657': {'image': ''}, 'Q5515388': {'image': ''}, 'Q5859102': {'image': ''}, 'Q5375926': {'image': ''}, 'Q5619202': {'image': ''}, 'Q5686986': {'image': ''}, 'Q4485634': {'image': ''}, 'Q4485622': {'image': ''}, 'Q4485652': {'image': ''}, 'Q4485643': {'image': ''}}\n"
     ]
    }
   ],
   "source": [
    "endpoint_url = \"https://query.wikidata.org/sparql\"\n",
    "\n",
    "img_data = {}\n",
    "\n",
    "#Requete pour recuperer les infos de l'entité donnée - Q144/Chien par defaut\n",
    "def query(wd='Q144', limit=5):\n",
    "     return \"\"\"SELECT ?item ?itemLabel ?pic{?item wdt:P31 wd:\"\"\"+wd+\"\"\".?item wdt:P18 ?pic}limit \"\"\"+str(limit)+\"\"\"\"\"\"\n",
    "\n",
    "def get_results(endpoint_url, query):\n",
    "    user_agent = \"WDQS-example Python/%s.%s\" % (sys.version_info[0], sys.version_info[1])\n",
    "    sparql = SPARQLWrapper(endpoint_url, agent=user_agent)\n",
    "    sparql.setQuery(query)\n",
    "    sparql.setReturnFormat(JSON)\n",
    "    return sparql.query().convert()\n",
    "\n",
    "#Pour creer le fichier des images s'il existe pas\n",
    "def createFolder(name='images'):\n",
    "    if name not in os.listdir():\n",
    "        os.mkdir(name)\n",
    "    else:\n",
    "        print('Dossier '+name+' déjà exitant !')\n",
    "\n",
    "#Pour verifier si un dossier est vide - evitons de retélécharger des images inutilement.\n",
    "def isEmpty(name='images'):\n",
    "    if len(os.listdir(name)) == 0:\n",
    "        return True\n",
    "    return False\n",
    "\n",
    "#Pour ajouter des elements a la bdd\n",
    "def addImg(wd,limit):\n",
    "    results = get_results(endpoint_url, query(wd,limit))\n",
    "    for result in results['results']['bindings']:\n",
    "        img_data[result['item']['value'].split(\"/\")[-1]] = {'image': result['pic']['value'],}\n",
    "    #print(img_data)\n",
    "\n",
    "def addAllImg(wd,limit):\n",
    "    for w in wd:\n",
    "        addImg(w,limit)\n",
    "\n",
    "#Pour telecharger l'image d'un element de la bd\n",
    "def downloadImage(url, name_img='img0'):\n",
    "    full_path = 'images/'+name_img+'.jpg'\n",
    "    urllib.request.urlretrieve(url, full_path)\n",
    "\n",
    "#Si les images sont deja telechargées on initialise le tableau\n",
    "def initAlreadyDownload(namefolder='images'):\n",
    "    for image in os.listdir(namefolder):\n",
    "        img_data[image.split(\".\")[0]] = {'image': \"\",}\n",
    "    \n",
    "#Pour télécharger toutes les images - limit par query\n",
    "def downloadAllImages(wd=['Q144'], limit=5):\n",
    "    createFolder()\n",
    "    if isEmpty() == False:\n",
    "        print('Images déjà téléchargées !')\n",
    "        initAlreadyDownload()\n",
    "        return False\n",
    "    addAllImg(wd,limit)\n",
    "    for i,img in enumerate(img_data):\n",
    "        downloadImage(img_data[img]['image'], list(img_data.keys())[i])\n",
    "    return True \n",
    "\n",
    "\n",
    "#Supprimer une image du dossier \n",
    "def removeImage(image):\n",
    "    if os.path.isfile('images/'+image):\n",
    "        os.remove('images/'+image)\n",
    "        img_data.pop(image.split(\".\")[0])\n",
    "    else:\n",
    "        shutil.rmtree('images/'+image)\n",
    "    \n",
    "\n",
    "        \n",
    "downloadAllImages(wd=['Q144','Q14660'],limit=5)\n",
    "print(img_data)\n"
   ]
  },
  {
   "cell_type": "markdown",
   "id": "e951e480-50b2-4eba-bac8-60c5c9a7837b",
   "metadata": {},
   "source": [
    "# **Adding Meta to the Dataset**"
   ]
  },
  {
   "cell_type": "markdown",
   "id": "2c495e1c-1d48-45db-9591-9d7e0dd4866c",
   "metadata": {},
   "source": [
    "## *1. Exif* "
   ]
  },
  {
   "cell_type": "code",
   "execution_count": 8,
   "id": "79f4ef6f-e2ca-4d53-bdb0-fde6b1d00282",
   "metadata": {
    "tags": []
   },
   "outputs": [],
   "source": [
    "#Obtenir les metas d'une image\n",
    "def getMetaImg(name, imgfile): #name = 'img'\n",
    "    img_data[name]['taille'] = imgfile.size\n",
    "    img_data[name]['format'] = imgfile.format\n",
    "    getColorsImg(name, imgfile)\n",
    "    \n",
    "    exif_data = imgfile._getexif()\n",
    "    if exif_data:\n",
    "        img_data[name]['orientation'] = exif_data.get(274, None) #Orientation de l'image\n",
    "        \"\"\"\n",
    "        1: l'image est en orientation normale (pas de rotation nécessaire).\n",
    "        2: l'image est miroir horizontale (il faut la tourner de 180 degrés).\n",
    "        3: l'image est en orientation 180 degrés (il faut la tourner de 180 degrés).\n",
    "        4: l'image est miroir verticale (il faut la tourner de 270 degrés).\n",
    "        5: l'image est en orientation 90 degrés dans le sens horaire et miroir horizontale (il faut la tourner de 90 degrés dans le sens horaire).\n",
    "        6: l'image est en orientation 90 degrés dans le sens horaire (il faut la tourner de 90 degrés dans le sens horaire).\n",
    "        7: l'image est en orientation 90 degrés dans le sens anti-horaire et miroir horizontale (il faut la tourner de 90 degrés dans le sens anti-horaire).\n",
    "        8: l'image est en orientation 90 degrés dans le sens anti-horaire (il faut la tourner de 90 degrés dans le sens anti-horaire).\n",
    "        \"\"\"\n",
    "        img_data[name]['date'] = exif_data.get(36867, \"\") #Date\n",
    "        img_data[name]['model'] = exif_data.get(272, \"\") #Appareil utilisé\n",
    "    else:\n",
    "        print(\"Aucune donnée Exif trouvée.\")\n",
    "\n"
   ]
  },
  {
   "cell_type": "markdown",
   "id": "bd1d3ed5-bee1-40c5-9655-478f211ba2d1",
   "metadata": {},
   "source": [
    "## *2. Main Color* "
   ]
  },
  {
   "cell_type": "code",
   "execution_count": 9,
   "id": "b171d862-0a09-463c-8e53-51901d18a160",
   "metadata": {},
   "outputs": [],
   "source": [
    "def getColorsImg(name, imgfile, cluster_number=4, n_init=5):\n",
    "    colors = []\n",
    "    numarray = numpy.array(imgfile.getdata(), numpy.uint8)\n",
    "    numarray = numarray.reshape(-1, 3)\n",
    "    clusters = KMeans(n_clusters=cluster_number, n_init=n_init)\n",
    "    clusters.fit(numarray)\n",
    "    for i in range(cluster_number):\n",
    "        colors.append((clusters.cluster_centers_[i][0],\n",
    "                        clusters.cluster_centers_[i][1],\n",
    "                        clusters.cluster_centers_[i][2]))\n",
    "    img_data[name]['colors'] = {i:colors[i] for i in range(len(colors))}\n"
   ]
  },
  {
   "cell_type": "markdown",
   "id": "f498394c-af02-4b6f-bc62-b65d24a175a2",
   "metadata": {},
   "source": [
    "## *3. Export to JSON* "
   ]
  },
  {
   "cell_type": "code",
   "execution_count": 10,
   "id": "69250fd9-f23f-4c54-9385-8960ae2a69aa",
   "metadata": {
    "tags": []
   },
   "outputs": [
    {
     "name": "stdout",
     "output_type": "stream",
     "text": [
      "Aucune donnée Exif trouvée.\n",
      "Aucune donnée Exif trouvée.\n",
      "Aucune donnée Exif trouvée.\n",
      "Aucune donnée Exif trouvée.\n",
      "Aucune donnée Exif trouvée.\n",
      "Aucune donnée Exif trouvée.\n",
      "Aucune donnée Exif trouvée.\n"
     ]
    }
   ],
   "source": [
    "def openImgGetMeta(name): #name = 'img.jpg'\n",
    "    try:\n",
    "        with Image.open(\"images/\"+name) as imgfile:\n",
    "            #print(imgfile.size, imgfile.format)\n",
    "            name = name.split(\".\")[0]\n",
    "            getMetaImg(name, imgfile)\n",
    "\n",
    "        imgfile.close()\n",
    "        return True\n",
    "    except FileNotFoundError as e:\n",
    "        print('Impossible de trouver le fichier {}: {}'.format(\"images/\"+name, e))\n",
    "        return False\n",
    "    except Exception as e:\n",
    "        print('Erreur lors de l\\'ouverture de l\\'image {}: {}'.format(\"images/\"+name, e))\n",
    "        removeImage(name)\n",
    "        return False\n",
    "        \n",
    "#Obtenir les metas de toutes nos images    \n",
    "def openGetMetaAllImg(namefolder='images'):\n",
    "    for image in os.listdir(namefolder):\n",
    "        openImgGetMeta(image)\n",
    "\n",
    "openGetMetaAllImg()\n",
    "\n",
    "\n",
    "\n",
    "#Enregistre les metadonnées des images dans un JSON\n",
    "def exportToJSON(name='img_data.json'):\n",
    "    with open(name, 'w', encoding='utf-8') as f:\n",
    "        json.dump(img_data, f, ensure_ascii=False, indent=4)\n",
    "        \n",
    "exportToJSON()\n",
    "  \n"
   ]
  },
  {
   "cell_type": "code",
   "execution_count": null,
   "id": "90bafc1f-c18b-4666-9115-50b9f2c95027",
   "metadata": {},
   "outputs": [],
   "source": []
  }
 ],
 "metadata": {
  "kernelspec": {
   "display_name": "Python 3 (ipykernel)",
   "language": "python",
   "name": "python3"
  },
  "language_info": {
   "codemirror_mode": {
    "name": "ipython",
    "version": 3
   },
   "file_extension": ".py",
   "mimetype": "text/x-python",
   "name": "python",
   "nbconvert_exporter": "python",
   "pygments_lexer": "ipython3",
   "version": "3.10.6"
  },
  "toc-showtags": false
 },
 "nbformat": 4,
 "nbformat_minor": 5
}
