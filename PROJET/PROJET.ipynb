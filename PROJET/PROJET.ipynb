{
 "cells": [
  {
   "cell_type": "markdown",
   "id": "c8831037-2a16-46ab-8e57-1476504dafcb",
   "metadata": {},
   "source": [
    "# **Installation of Packages**\n",
    "\n",
    "First install packages like numpy, scikit-learn, matplotlib"
   ]
  },
  {
   "cell_type": "code",
   "execution_count": 1,
   "id": "799ba749-b7c1-4022-90c2-ca85423c6d72",
   "metadata": {},
   "outputs": [
    {
     "name": "stdout",
     "output_type": "stream",
     "text": [
      "Requirement already satisfied: numpy in /home/cpe/CPE_Data_Mining/env/lib/python3.10/site-packages (1.24.2)\n",
      "Requirement already satisfied: scikit-learn in /home/cpe/CPE_Data_Mining/env/lib/python3.10/site-packages (1.2.1)\n",
      "Requirement already satisfied: SPARQLWrapper in /home/cpe/CPE_Data_Mining/env/lib/python3.10/site-packages (2.0.0)\n",
      "\u001b[31mERROR: Could not find a version that satisfies the requirement PIL (from versions: none)\u001b[0m\u001b[31m\n",
      "\u001b[0m\u001b[31mERROR: No matching distribution found for PIL\u001b[0m\u001b[31m\n",
      "\u001b[0m"
     ]
    }
   ],
   "source": [
    "!pip3 install numpy scikit-learn SPARQLWrapper PIL"
   ]
  },
  {
   "cell_type": "markdown",
   "id": "b9e3f465-472a-4b8d-be2d-34a06b69b18d",
   "metadata": {},
   "source": [
    "# **Importation of packages**\n",
    "\n",
    "We import the necessary packages"
   ]
  },
  {
   "cell_type": "code",
   "execution_count": 2,
   "id": "47128905-6837-4900-83e4-ebf0756c19f1",
   "metadata": {
    "tags": []
   },
   "outputs": [],
   "source": [
    "import os, sys, json\n",
    "import urllib \n",
    "import shutil\n",
    "import numpy\n",
    "from SPARQLWrapper import SPARQLWrapper, JSON\n",
    "from PIL import Image\n",
    "from sklearn.cluster import KMeans"
   ]
  },
  {
   "cell_type": "markdown",
   "id": "4fad4a30-8856-4088-82fd-032801640336",
   "metadata": {},
   "source": [
    "# **Load Dataset**"
   ]
  },
  {
   "cell_type": "code",
   "execution_count": 3,
   "id": "867a4edf-0862-4e9b-a179-9c0e60900d12",
   "metadata": {
    "tags": []
   },
   "outputs": [
    {
     "name": "stdout",
     "output_type": "stream",
     "text": [
      "{'Q7650148': {}, 'Q7660509': {}, 'Q7704028': {}, 'Q7802871': {}, 'Q7809730': {}, 'Q19010': {}, 'Q19374': {}, 'Q72298': {}}\n"
     ]
    }
   ],
   "source": [
    "endpoint_url = \"https://query.wikidata.org/sparql\"\n",
    "\n",
    "img_data = {}\n",
    "\n",
    "#Requete pour recuperer les infos de l'entité donnée - Q144/Chien par defaut\n",
    "def query(wd='Q144', limit=5):\n",
    "     return \"\"\"SELECT ?item ?itemLabel ?pic{?item wdt:P31 wd:\"\"\"+wd+\"\"\".?item wdt:P18 ?pic}limit \"\"\"+str(limit)+\"\"\"\"\"\"\n",
    "\n",
    "def get_results(endpoint_url, query):\n",
    "    user_agent = \"WDQS-example Python/%s.%s\" % (sys.version_info[0], sys.version_info[1])\n",
    "    sparql = SPARQLWrapper(endpoint_url, agent=user_agent)\n",
    "    sparql.setQuery(query)\n",
    "    sparql.setReturnFormat(JSON)\n",
    "    return sparql.query().convert()\n",
    "\n",
    "#Pour creer le fichier des images s'il existe pas\n",
    "def createFolder(name='images'):\n",
    "    if name not in os.listdir():\n",
    "        os.mkdir(name)\n",
    "    else:\n",
    "        print('Dossier '+name+' déjà exitant !')\n",
    "\n",
    "#Pour verifier si un dossier est vide - evitons de retélécharger des images inutilement.\n",
    "def isEmpty(name='images'):\n",
    "    if len(os.listdir(name)) == 0:\n",
    "        return True\n",
    "    return False\n",
    "\n",
    "#Pour ajouter des elements a la bdd\n",
    "def addImg(wd,limit):\n",
    "    results = get_results(endpoint_url, query(wd,limit))\n",
    "    for result in results['results']['bindings']:\n",
    "        img_data[result['item']['value'].split(\"/\")[-1]] = {}\n",
    "        #img_data[result['item']['value'].split(\"/\")[-1]] = {'image': result['pic']['value'],}\n",
    "    #print(img_data)\n",
    "        downloadImage(result['pic']['value'], result['item']['value'].split(\"/\")[-1])\n",
    "\n",
    "def addAllImg(wd,limit):\n",
    "    for w in wd:\n",
    "        addImg(w,limit)\n",
    "\n",
    "#Pour telecharger l'image d'un element de la bd\n",
    "def downloadImage(url, name_img='img0'):\n",
    "    full_path = 'images/'+name_img+'.jpg'\n",
    "    urllib.request.urlretrieve(url, full_path)\n",
    "\n",
    "#Si les images sont deja telechargées on initialise le tableau\n",
    "def initAlreadyDownload(namefolder='images'):\n",
    "    for image in os.listdir(namefolder):\n",
    "        #img_data[image.split(\".\")[0]] = {'image': \"\",}\n",
    "        img_data[image.split(\".\")[0]] = {}\n",
    "    \n",
    "#Pour télécharger toutes les images - limit par query\n",
    "def downloadAllImages(wd=['Q144'], limit=5):\n",
    "    createFolder()\n",
    "    if isEmpty() == False:\n",
    "        print('Images déjà téléchargées !')\n",
    "        initAlreadyDownload()\n",
    "        return False\n",
    "    addAllImg(wd,limit)\n",
    "    return True \n",
    "\n",
    "\n",
    "#Supprimer une image du dossier \n",
    "def removeImage(image):\n",
    "    if os.path.isfile('images/'+image):\n",
    "        os.remove('images/'+image)\n",
    "        img_data.pop(image.split(\".\")[0])\n",
    "    else:\n",
    "        shutil.rmtree('images/'+image)\n",
    "    \n",
    "downloadAllImages(wd=['Q144','Q14660'],limit=5)\n",
    "print(img_data)\n"
   ]
  },
  {
   "cell_type": "markdown",
   "id": "e951e480-50b2-4eba-bac8-60c5c9a7837b",
   "metadata": {},
   "source": [
    "# **Adding Meta to the Dataset**"
   ]
  },
  {
   "cell_type": "markdown",
   "id": "2c495e1c-1d48-45db-9591-9d7e0dd4866c",
   "metadata": {},
   "source": [
    "## *1. Exif* "
   ]
  },
  {
   "cell_type": "code",
   "execution_count": 4,
   "id": "79f4ef6f-e2ca-4d53-bdb0-fde6b1d00282",
   "metadata": {
    "tags": []
   },
   "outputs": [],
   "source": [
    "#Obtenir les metas d'une image\n",
    "def getMetaImg(name, imgfile): #name = 'img'\n",
    "    \n",
    "    img_data[name]['taille'] = imgfile.size #(largeur,hauteur)\n",
    "    img_data[name]['format'] = imgfile.format\n",
    "    img_data[name]['orientation'] = getOrientationImg(img_data[name]['taille'])\n",
    "    \n",
    "    getColorsImg(name, imgfile)\n",
    "    \n",
    "    exif_data = imgfile._getexif()\n",
    "    if exif_data:\n",
    "        img_data[name]['date'] = exif_data.get(36867, \"\") #Date\n",
    "        img_data[name]['model'] = exif_data.get(272, \"\") #Appareil utilisé\n",
    "    else:\n",
    "        pass\n",
    "        #print(\"Aucune donnée Exif trouvée.\")\n",
    "\n",
    "def getOrientationImg(size): #(largeur,hauteur)\n",
    "    width,height = size\n",
    "    return \"Paysage\" if width > height else \"Portrait\" if height > width else \"Carré\"\n",
    "    \n",
    "    \n"
   ]
  },
  {
   "cell_type": "markdown",
   "id": "bd1d3ed5-bee1-40c5-9655-478f211ba2d1",
   "metadata": {},
   "source": [
    "## *2. Main Color* "
   ]
  },
  {
   "cell_type": "code",
   "execution_count": 5,
   "id": "b171d862-0a09-463c-8e53-51901d18a160",
   "metadata": {},
   "outputs": [],
   "source": [
    "def getColorsImg(name, imgfile, cluster_nbr=2, n_init=1):\n",
    "\n",
    "    img_array = numpy.array(imgfile)\n",
    "    img_vector = img_array.reshape(-1, 3)\n",
    "    clusters = KMeans(n_clusters=cluster_nbr, n_init=n_init, random_state=0).fit(img_vector) #Random state pour garder la meme seed ppour toutes les images\n",
    "    \n",
    "    img_data[name]['couleur'] = {\"couleur_\" + str(i+1):(clusters.cluster_centers_[i][0],clusters.cluster_centers_[i][1],clusters.cluster_centers_[i][2]) for i in range(cluster_nbr)}\n"
   ]
  },
  {
   "cell_type": "markdown",
   "id": "f498394c-af02-4b6f-bc62-b65d24a175a2",
   "metadata": {},
   "source": [
    "## *3. All Meta* "
   ]
  },
  {
   "cell_type": "code",
   "execution_count": 6,
   "id": "69250fd9-f23f-4c54-9385-8960ae2a69aa",
   "metadata": {
    "tags": []
   },
   "outputs": [
    {
     "name": "stdout",
     "output_type": "stream",
     "text": [
      "Erreur lors de l'ouverture de l'image images/Q72298.jpg: cannot identify image file 'images/Q72298.jpg'\n",
      "Erreur lors de l'ouverture de l'image images/Q19374.jpg: cannot identify image file 'images/Q19374.jpg'\n",
      "Erreur lors de l'ouverture de l'image images/Q19010.jpg: cannot identify image file 'images/Q19010.jpg'\n"
     ]
    }
   ],
   "source": [
    "def openImgGetMeta(name): #name = 'img.jpg'\n",
    "    try:\n",
    "        with Image.open(\"images/\"+name) as imgfile:\n",
    "            #print(imgfile.size, imgfile.format)\n",
    "            name = name.split(\".\")[0]\n",
    "            getMetaImg(name, imgfile)\n",
    "\n",
    "        imgfile.close()\n",
    "        return True\n",
    "    except FileNotFoundError as e:\n",
    "        print('Impossible de trouver le fichier {}: {}'.format(\"images/\"+name, e))\n",
    "        return False\n",
    "    except Exception as e:\n",
    "        print('Erreur lors de l\\'ouverture de l\\'image {}: {}'.format(\"images/\"+name, e))\n",
    "        removeImage(name)\n",
    "        return False\n",
    "        \n",
    "#Obtenir les metas de toutes nos images    \n",
    "def openGetMetaAllImg(namefolder='images'):\n",
    "    for image in os.listdir(namefolder):\n",
    "        openImgGetMeta(image)\n",
    "\n",
    "openGetMetaAllImg()"
   ]
  },
  {
   "cell_type": "markdown",
   "id": "bbaf2bcb-997a-40b0-8f1f-c1dc733f004c",
   "metadata": {},
   "source": [
    "## *4. Export to JSON* "
   ]
  },
  {
   "cell_type": "code",
   "execution_count": 7,
   "id": "ebcaf4e1-a319-499b-89fe-0c889705c89b",
   "metadata": {
    "tags": []
   },
   "outputs": [
    {
     "name": "stdout",
     "output_type": "stream",
     "text": [
      "done\n"
     ]
    }
   ],
   "source": [
    "#Enregistre les metadonnées des images dans un JSON\n",
    "def exportToJSON(name='img_data.json'):\n",
    "    with open(name, 'w', encoding='utf-8') as f:\n",
    "        json.dump(img_data, f, ensure_ascii=False, indent=4)\n",
    "    print(\"done\")\n",
    "        \n",
    "exportToJSON()"
   ]
  },
  {
   "cell_type": "code",
   "execution_count": 8,
   "id": "73430ae5-a71b-4036-b20a-cffc85b784f5",
   "metadata": {
    "tags": []
   },
   "outputs": [
    {
     "name": "stdout",
     "output_type": "stream",
     "text": [
      "{'P138': [{'mainsnak': {'snaktype': 'value', 'property': 'P138', 'hash': '302f7eab1714d6644d9a551f48b0acc2bb98ffef', 'datavalue': {'value': {'entity-type': 'item', 'numeric-id': 18115751, 'id': 'Q18115751'}, 'type': 'wikibase-entityid'}, 'datatype': 'wikibase-item'}, 'type': 'statement', 'id': 'Q5859102$97b776da-4846-5d37-31c0-eae10a7b133a', 'rank': 'normal'}], 'P21': [{'mainsnak': {'snaktype': 'value', 'property': 'P21', 'hash': '0576a008261e5b2544d1ff3328c94bd529379536', 'datavalue': {'value': {'entity-type': 'item', 'numeric-id': 44148, 'id': 'Q44148'}, 'type': 'wikibase-entityid'}, 'datatype': 'wikibase-item'}, 'type': 'statement', 'id': 'Q5859102$648D4252-790A-4BD6-B724-C3C675AAEC92', 'rank': 'normal'}], 'P570': [{'mainsnak': {'snaktype': 'value', 'property': 'P570', 'hash': 'b1dd8191a553fa8079c86040b71cd42c0a62b7c3', 'datavalue': {'value': {'time': '+1963-05-27T00:00:00Z', 'timezone': 0, 'before': 0, 'after': 0, 'precision': 11, 'calendarmodel': 'http://www.wikidata.org/entity/Q1985727'}, 'type': 'time'}, 'datatype': 'time'}, 'type': 'statement', 'id': 'Q5859102$23D21655-91E7-4EB1-8B17-2418817FB95C', 'rank': 'normal', 'references': [{'hash': 'c456dc5cd2117249948c288206ff3f8b1bf574f0', 'snaks': {'P143': [{'snaktype': 'value', 'property': 'P143', 'hash': 'e17507043402fe54ae6c4d65cc51f46cec987de9', 'datavalue': {'value': {'entity-type': 'item', 'numeric-id': 8449, 'id': 'Q8449'}, 'type': 'wikibase-entityid'}, 'datatype': 'wikibase-item'}]}, 'snaks-order': ['P143']}]}], 'P31': [{'mainsnak': {'snaktype': 'value', 'property': 'P31', 'hash': '37d302927338c2887f128b1793863edfa076003d', 'datavalue': {'value': {'entity-type': 'item', 'numeric-id': 144, 'id': 'Q144'}, 'type': 'wikibase-entityid'}, 'datatype': 'wikibase-item'}, 'type': 'statement', 'id': 'Q5859102$C241E7C1-F34D-4350-9666-19DB802E239D', 'rank': 'normal'}], 'P18': [{'mainsnak': {'snaktype': 'value', 'property': 'P18', 'hash': '45a17271811d9ece3ea6c05df3adb6ece0707557', 'datavalue': {'value': 'Perro Fernando.jpg', 'type': 'string'}, 'datatype': 'commonsMedia'}, 'type': 'statement', 'id': 'Q5859102$80D0FAA2-5448-41BC-8E2E-ED7EFDC9849D', 'rank': 'normal', 'references': [{'hash': 'c456dc5cd2117249948c288206ff3f8b1bf574f0', 'snaks': {'P143': [{'snaktype': 'value', 'property': 'P143', 'hash': 'e17507043402fe54ae6c4d65cc51f46cec987de9', 'datavalue': {'value': {'entity-type': 'item', 'numeric-id': 8449, 'id': 'Q8449'}, 'type': 'wikibase-entityid'}, 'datatype': 'wikibase-item'}]}, 'snaks-order': ['P143']}]}], 'P569': [{'mainsnak': {'snaktype': 'value', 'property': 'P569', 'hash': '2e0435e568deef935a22a45fb6b62e32cbca8530', 'datavalue': {'value': {'time': '+1949-00-00T00:00:00Z', 'timezone': 0, 'before': 0, 'after': 0, 'precision': 9, 'calendarmodel': 'http://www.wikidata.org/entity/Q1985727'}, 'type': 'time'}, 'datatype': 'time'}, 'type': 'statement', 'id': 'Q5859102$98db1d56-4959-bb76-0778-7bb331366147', 'rank': 'normal'}], 'P20': [{'mainsnak': {'snaktype': 'value', 'property': 'P20', 'hash': '9aab2156625b184d7c17166423453a5bf28dc399', 'datavalue': {'value': {'entity-type': 'item', 'numeric-id': 44206, 'id': 'Q44206'}, 'type': 'wikibase-entityid'}, 'datatype': 'wikibase-item'}, 'type': 'statement', 'id': 'Q5859102$43B26876-3DF7-45E8-8DD8-28A6E7A5BF6F', 'rank': 'normal', 'references': [{'hash': 'c456dc5cd2117249948c288206ff3f8b1bf574f0', 'snaks': {'P143': [{'snaktype': 'value', 'property': 'P143', 'hash': 'e17507043402fe54ae6c4d65cc51f46cec987de9', 'datavalue': {'value': {'entity-type': 'item', 'numeric-id': 8449, 'id': 'Q8449'}, 'type': 'wikibase-entityid'}, 'datatype': 'wikibase-item'}]}, 'snaks-order': ['P143']}]}], 'P17': [{'mainsnak': {'snaktype': 'value', 'property': 'P17', 'hash': 'd06759986db6ed52e2f976b2051127431e51a8be', 'datavalue': {'value': {'entity-type': 'item', 'numeric-id': 414, 'id': 'Q414'}, 'type': 'wikibase-entityid'}, 'datatype': 'wikibase-item'}, 'type': 'statement', 'id': 'Q5859102$B2B8088F-D507-4258-ACE5-6B1859F0F87D', 'rank': 'normal'}], 'P2671': [{'mainsnak': {'snaktype': 'value', 'property': 'P2671', 'hash': '7c550ec308a917ebd6d9cc7b9e3030d55d85361a', 'datavalue': {'value': '/g/123b43ph', 'type': 'string'}, 'datatype': 'external-id'}, 'type': 'statement', 'id': 'Q5859102$948D49FB-1282-4932-87B2-B93C6AC13A23', 'rank': 'normal'}]}\n",
      "L'image n'a pas de catégorie principale définie sur Wikidata.\n"
     ]
    }
   ],
   "source": [
    "import requests\n",
    "\n",
    "# identifiant Wikidata de l'image\n",
    "image_id = \"Q5859102\"\n",
    "\n",
    "# requête pour récupérer les données de l'élément correspondant à l'image\n",
    "url = \"https://www.wikidata.org/w/api.php?action=wbgetentities&ids={}&format=json\".format(image_id)\n",
    "response = requests.get(url)\n",
    "data = response.json()\n",
    "\n",
    "print(data[\"entities\"][image_id][\"claims\"])\n",
    "\n",
    "# extraire la catégorie principale de l'élément, s'il y en a une\n",
    "if \"P180\" in data[\"entities\"][image_id][\"claims\"]:\n",
    "    categories = data[\"entities\"][image_id][\"claims\"][\"P180\"]\n",
    "    categorie_principale = categories[0][\"mainsnak\"][\"datavalue\"][\"value\"][\"id\"]\n",
    "\n",
    "    # requête pour récupérer le libellé de la catégorie\n",
    "    url2 = \"https://www.wikidata.org/w/api.php?action=wbgetentities&ids={}&format=json&props=labels&languages=fr\".format(categorie_principale)\n",
    "    response2 = requests.get(url2)\n",
    "    data2 = response2.json()\n",
    "\n",
    "    # extraire le libellé de la catégorie en français\n",
    "    libelle_categorie = data2[\"entities\"][categorie_principale][\"labels\"][\"fr\"][\"value\"]\n",
    "\n",
    "    # afficher le résultat\n",
    "    print(\"L'image correspond à la catégorie :\", libelle_categorie)\n",
    "else:\n",
    "    print(\"L'image n'a pas de catégorie principale définie sur Wikidata.\")"
   ]
  },
  {
   "cell_type": "markdown",
   "id": "5fbc4519-c030-45e4-899a-1add2956594c",
   "metadata": {},
   "source": [
    "# **Data Analyses**"
   ]
  },
  {
   "cell_type": "code",
   "execution_count": null,
   "id": "7f3a0514-784a-46b2-a3d8-b79b12710839",
   "metadata": {
    "tags": []
   },
   "outputs": [],
   "source": [
    "\n"
   ]
  },
  {
   "cell_type": "markdown",
   "id": "9e878f9e-c504-4b7e-b289-a2e839c1e1f5",
   "metadata": {},
   "source": [
    "# **Data Visualization**"
   ]
  },
  {
   "cell_type": "code",
   "execution_count": null,
   "id": "fb853080-9d42-4226-9741-ca060182275c",
   "metadata": {},
   "outputs": [],
   "source": []
  },
  {
   "cell_type": "markdown",
   "id": "abdfae49-a1b5-426b-99a2-44bd3b23052d",
   "metadata": {},
   "source": [
    "Recommendation System\n"
   ]
  },
  {
   "cell_type": "code",
   "execution_count": null,
   "id": "189ea741-b840-4987-b953-46144ed58433",
   "metadata": {},
   "outputs": [],
   "source": []
  }
 ],
 "metadata": {
  "kernelspec": {
   "display_name": "Python 3 (ipykernel)",
   "language": "python",
   "name": "python3"
  },
  "language_info": {
   "codemirror_mode": {
    "name": "ipython",
    "version": 3
   },
   "file_extension": ".py",
   "mimetype": "text/x-python",
   "name": "python",
   "nbconvert_exporter": "python",
   "pygments_lexer": "ipython3",
   "version": "3.10.6"
  },
  "toc-showtags": false
 },
 "nbformat": 4,
 "nbformat_minor": 5
}
