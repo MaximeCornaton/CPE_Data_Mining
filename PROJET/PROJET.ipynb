{
 "cells": [
  {
   "cell_type": "markdown",
   "id": "c8831037-2a16-46ab-8e57-1476504dafcb",
   "metadata": {},
   "source": [
    "# **Installation of Packages**\n",
    "\n",
    "First install packages like numpy, scikit-learn, matplotlib"
   ]
  },
  {
   "cell_type": "code",
   "execution_count": 1,
   "id": "799ba749-b7c1-4022-90c2-ca85423c6d72",
   "metadata": {},
   "outputs": [
    {
     "name": "stdout",
     "output_type": "stream",
     "text": [
      "Requirement already satisfied: numpy in /home/cpe/CPE_Data_Mining/env/lib/python3.10/site-packages (1.24.2)\n",
      "Requirement already satisfied: SPARQLWrapper in /home/cpe/CPE_Data_Mining/env/lib/python3.10/site-packages (2.0.0)\n",
      "Requirement already satisfied: rdflib>=6.1.1 in /home/cpe/CPE_Data_Mining/env/lib/python3.10/site-packages (from SPARQLWrapper) (6.2.0)\n",
      "Requirement already satisfied: pyparsing in /home/cpe/CPE_Data_Mining/env/lib/python3.10/site-packages (from rdflib>=6.1.1->SPARQLWrapper) (3.0.9)\n",
      "Requirement already satisfied: isodate in /home/cpe/CPE_Data_Mining/env/lib/python3.10/site-packages (from rdflib>=6.1.1->SPARQLWrapper) (0.6.1)\n",
      "Requirement already satisfied: setuptools in /home/cpe/CPE_Data_Mining/env/lib/python3.10/site-packages (from rdflib>=6.1.1->SPARQLWrapper) (59.6.0)\n",
      "Requirement already satisfied: six in /home/cpe/CPE_Data_Mining/env/lib/python3.10/site-packages (from isodate->rdflib>=6.1.1->SPARQLWrapper) (1.16.0)\n",
      "Requirement already satisfied: scikit-learn in /home/cpe/CPE_Data_Mining/env/lib/python3.10/site-packages (1.2.1)\n",
      "Requirement already satisfied: joblib>=1.1.1 in /home/cpe/CPE_Data_Mining/env/lib/python3.10/site-packages (from scikit-learn) (1.2.0)\n",
      "Requirement already satisfied: scipy>=1.3.2 in /home/cpe/CPE_Data_Mining/env/lib/python3.10/site-packages (from scikit-learn) (1.10.1)\n",
      "Requirement already satisfied: threadpoolctl>=2.0.0 in /home/cpe/CPE_Data_Mining/env/lib/python3.10/site-packages (from scikit-learn) (3.1.0)\n",
      "Requirement already satisfied: numpy>=1.17.3 in /home/cpe/CPE_Data_Mining/env/lib/python3.10/site-packages (from scikit-learn) (1.24.2)\n",
      "\u001b[31mERROR: Could not find a version that satisfies the requirement PIL (from versions: none)\u001b[0m\u001b[31m\n",
      "\u001b[0m\u001b[31mERROR: No matching distribution found for PIL\u001b[0m\u001b[31m\n",
      "\u001b[0mRequirement already satisfied: pandas in /home/cpe/CPE_Data_Mining/env/lib/python3.10/site-packages (1.5.3)\n",
      "Requirement already satisfied: numpy>=1.21.0 in /home/cpe/CPE_Data_Mining/env/lib/python3.10/site-packages (from pandas) (1.24.2)\n",
      "Requirement already satisfied: python-dateutil>=2.8.1 in /home/cpe/CPE_Data_Mining/env/lib/python3.10/site-packages (from pandas) (2.8.2)\n",
      "Requirement already satisfied: pytz>=2020.1 in /home/cpe/CPE_Data_Mining/env/lib/python3.10/site-packages (from pandas) (2022.7.1)\n",
      "Requirement already satisfied: six>=1.5 in /home/cpe/CPE_Data_Mining/env/lib/python3.10/site-packages (from python-dateutil>=2.8.1->pandas) (1.16.0)\n",
      "Requirement already satisfied: webcolors in /home/cpe/CPE_Data_Mining/env/lib/python3.10/site-packages (1.12)\n",
      "Requirement already satisfied: matplotlib in /home/cpe/CPE_Data_Mining/env/lib/python3.10/site-packages (3.7.0)\n",
      "Requirement already satisfied: contourpy>=1.0.1 in /home/cpe/CPE_Data_Mining/env/lib/python3.10/site-packages (from matplotlib) (1.0.7)\n",
      "Requirement already satisfied: numpy>=1.20 in /home/cpe/CPE_Data_Mining/env/lib/python3.10/site-packages (from matplotlib) (1.24.2)\n",
      "Requirement already satisfied: cycler>=0.10 in /home/cpe/CPE_Data_Mining/env/lib/python3.10/site-packages (from matplotlib) (0.11.0)\n",
      "Requirement already satisfied: pillow>=6.2.0 in /home/cpe/CPE_Data_Mining/env/lib/python3.10/site-packages (from matplotlib) (9.4.0)\n",
      "Requirement already satisfied: fonttools>=4.22.0 in /home/cpe/CPE_Data_Mining/env/lib/python3.10/site-packages (from matplotlib) (4.38.0)\n",
      "Requirement already satisfied: packaging>=20.0 in /home/cpe/CPE_Data_Mining/env/lib/python3.10/site-packages (from matplotlib) (23.0)\n",
      "Requirement already satisfied: pyparsing>=2.3.1 in /home/cpe/CPE_Data_Mining/env/lib/python3.10/site-packages (from matplotlib) (3.0.9)\n",
      "Requirement already satisfied: python-dateutil>=2.7 in /home/cpe/CPE_Data_Mining/env/lib/python3.10/site-packages (from matplotlib) (2.8.2)\n",
      "Requirement already satisfied: kiwisolver>=1.0.1 in /home/cpe/CPE_Data_Mining/env/lib/python3.10/site-packages (from matplotlib) (1.4.4)\n",
      "Requirement already satisfied: six>=1.5 in /home/cpe/CPE_Data_Mining/env/lib/python3.10/site-packages (from python-dateutil>=2.7->matplotlib) (1.16.0)\n"
     ]
    }
   ],
   "source": [
    "!pip3 install numpy \n",
    "!pip3 install SPARQLWrapper\n",
    "!pip3 install scikit-learn\n",
    "!pip3 install PIL\n",
    "!pip3 install pandas\n",
    "!pip3 install webcolors\n",
    "!pip3 install matplotlib"
   ]
  },
  {
   "cell_type": "markdown",
   "id": "b9e3f465-472a-4b8d-be2d-34a06b69b18d",
   "metadata": {},
   "source": [
    "# **Importation of packages**\n",
    "\n",
    "We import the necessary packages"
   ]
  },
  {
   "cell_type": "code",
   "execution_count": 2,
   "id": "47128905-6837-4900-83e4-ebf0756c19f1",
   "metadata": {
    "tags": []
   },
   "outputs": [],
   "source": [
    "import os, sys, json\n",
    "import urllib \n",
    "import shutil\n",
    "import numpy\n",
    "from SPARQLWrapper import SPARQLWrapper, JSON\n",
    "from PIL import Image\n",
    "from sklearn.cluster import KMeans, MiniBatchKMeans\n",
    "import webcolors\n",
    "import random\n",
    "import time\n",
    "import requests\n",
    "import matplotlib.pyplot as plt\n"
   ]
  },
  {
   "cell_type": "markdown",
   "id": "4fad4a30-8856-4088-82fd-032801640336",
   "metadata": {},
   "source": [
    "# **Load Dataset**"
   ]
  },
  {
   "cell_type": "code",
   "execution_count": 3,
   "id": "867a4edf-0862-4e9b-a179-9c0e60900d12",
   "metadata": {
    "tags": []
   },
   "outputs": [
    {
     "name": "stdout",
     "output_type": "stream",
     "text": [
      "{'Q73521760-Q144': {}, 'Q86516809-Q144': {}, 'Q87783199-Q144': {}, 'Q96176417-Q144': {}, 'Q96372991-Q144': {}, 'Q97280926-Q144': {}, 'Q97356971-Q144': {}, 'Q104870725-Q144': {}, 'Q106090830-Q144': {}, 'Q107804694-Q144': {}, 'Q2985812-Q14660': {}, 'Q3017891-Q14660': {}, 'Q3019550-Q14660': {}, 'Q3028483-Q14660': {}, 'Q3039001-Q14660': {}, 'Q3039064-Q14660': {}, 'Q3039080-Q14660': {}, 'Q3039085-Q14660': {}, 'Q3039088-Q14660': {}, 'Q3039089-Q14660': {}, 'Q28878-Q23442': {}, 'Q29030-Q23442': {}, 'Q29151-Q23442': {}, 'Q30188-Q23442': {}, 'Q30638-Q23442': {}, 'Q31063-Q23442': {}, 'Q31772-Q23442': {}, 'Q32400-Q23442': {}, 'Q32423-Q23442': {}, 'Q1408045-Q28803': {}, 'Q2919135-Q28803': {}, 'Q3303593-Q28803': {}, 'Q5056486-Q28803': {}, 'Q5613356-Q28803': {}, 'Q5643900-Q28803': {}, 'Q5736147-Q28803': {}, 'Q6799964-Q28803': {}, 'Q12418-Q3305213': {}, 'Q23898-Q3305213': {}, 'Q23904-Q3305213': {}, 'Q23908-Q3305213': {}, 'Q23912-Q3305213': {}, 'Q23915-Q3305213': {}, 'Q23922-Q3305213': {}, 'Q23946-Q3305213': {}, 'Q24011-Q3305213': {}, 'Q24066-Q3305213': {}, 'Q14334-Q16521': {}, 'Q14443-Q16521': {}, 'Q14532-Q16521': {}, 'Q14560-Q16521': {}, 'Q14677-Q16521': {}, 'Q49581026-Q146': {}, 'Q51596094-Q146': {}, 'Q53216650-Q146': {}, 'Q54087698-Q146': {}, 'Q61133276-Q146': {}, 'Q62128317-Q146': {}, 'Q66737405-Q146': {}, 'Q76974430-Q146': {}, 'Q94990539-Q146': {}, 'Q105330885-Q146': {}, 'Q42-Q5': {}, 'Q297-Q5': {}, 'Q368-Q5': {}, 'Q501-Q5': {}, 'Q946-Q5': {}, 'Q1149-Q5': {}, 'Q1151-Q5': {}, 'Q23-Q5': {}, 'Q207-Q5': {}, 'Q853-Q5': {}, 'Q15675-Q4022': {}, 'Q15676-Q4022': {}, 'Q15677-Q4022': {}, 'Q16504-Q4022': {}, 'Q16505-Q4022': {}, 'Q16507-Q4022': {}, 'Q16508-Q4022': {}, 'Q16509-Q4022': {}, 'Q16510-Q4022': {}, 'Q16511-Q4022': {}}\n"
     ]
    }
   ],
   "source": [
    "endpoint_url = \"https://query.wikidata.org/sparql\"\n",
    "\n",
    "img_data = {}\n",
    "\n",
    "#Requete pour recuperer les infos de l'entité donnée - Q144/Chien par defaut\n",
    "def query(wd='Q144', limit=5):\n",
    "     return \"\"\"SELECT ?item ?itemLabel ?pic{?item wdt:P31 wd:\"\"\"+wd+\"\"\".?item wdt:P18 ?pic}limit \"\"\"+str(limit)+\"\"\"\"\"\"\n",
    "\n",
    "def get_results(endpoint_url, query):\n",
    "    user_agent = 'MaximeCornaton/0.0 (https://github.com/MaximeCornaton/CPE_Data_Mining; maxime.cornaton@cpe.fr)'\n",
    "    sparql = SPARQLWrapper(endpoint_url, agent=user_agent)\n",
    "    sparql.setQuery(query)\n",
    "    sparql.setReturnFormat(JSON)\n",
    "    return sparql.query().convert()\n",
    "\n",
    "#Pour creer le fichier des images s'il existe pas\n",
    "def createFolder(name='images'):\n",
    "    if name not in os.listdir():\n",
    "        os.mkdir(name)\n",
    "    else:\n",
    "        print('Dossier '+name+' déjà exitant !')\n",
    "\n",
    "#Pour verifier si un dossier est vide - evitons de retélécharger des images inutilement.\n",
    "def isEmpty(name='images'):\n",
    "    if len(os.listdir(name)) == 0:\n",
    "        return True\n",
    "    return False\n",
    "\n",
    "#Pour ajouter des elements a la bdd\n",
    "def addImg(wd,limit):\n",
    "    results = get_results(endpoint_url, query(wd,limit))\n",
    "    for result in results['results']['bindings']:\n",
    "        name_img = result['item']['value'].split(\"/\")[-1]+\"-\"+wd #nom donné aux images téléchargées \"numéro d'image - numéro de catégorie\"\n",
    "        #img_data[result['item']['value'].split(\"/\")[-1]] = {}\n",
    "        img_data[name_img] = {}\n",
    "        #img_data[result['item']['value'].split(\"/\")[-1]] = {'image': result['pic']['value'],}\n",
    "    #print(img_data)\n",
    "        downloadImage(result['pic']['value'], name_img)\n",
    "        \n",
    "        #Wikidata impose un taux de requete max de 50 par seconde\n",
    "        time.sleep(0.15)\n",
    "\n",
    "def addAllImg(wd,limit):\n",
    "    for w in wd:\n",
    "        addImg(w,limit)\n",
    "        \n",
    "        #Wikidata impose un taux de requete max de 50 par seconde\n",
    "        time.sleep(1)\n",
    "\n",
    "#Pour telecharger l'image d'un element de la bd\n",
    "def downloadImage(url, name_img='img0'):\n",
    "    full_path = 'images/'+name_img+'.jpg'\n",
    "    urllib.request.urlretrieve(url, full_path)\n",
    "\n",
    "#Si les images sont deja telechargées on initialise le tableau\n",
    "def initAlreadyDownload(namefolder='images'):\n",
    "    for image in os.listdir(namefolder):\n",
    "        #img_data[image.split(\".\")[0]] = {'image': \"\",}\n",
    "        img_data[image.split(\".\")[0]] = {}\n",
    "    \n",
    "#Pour télécharger toutes les images - limit par query\n",
    "def downloadAllImages(wd=['Q144'], limit=5):\n",
    "    createFolder()\n",
    "    if isEmpty() == False:\n",
    "        print('Images déjà téléchargées !')\n",
    "        initAlreadyDownload()\n",
    "        return False\n",
    "    addAllImg(wd,limit)\n",
    "    return True \n",
    "\n",
    "\n",
    "#Supprimer une image du dossier \n",
    "def removeImage(image):\n",
    "    if os.path.isfile('images/'+image):\n",
    "        os.remove('images/'+image)\n",
    "        img_data.pop(image.split(\".\")[0])\n",
    "    else:\n",
    "        shutil.rmtree('images/'+image)\n",
    "\n",
    "bdd = ['Q144','Q14660','Q23442','Q28803','Q3305213', 'Q16521', 'Q146', 'Q5', 'Q4022'] #Chien, drapeau, ile, sandwich, peinture, taxon, chat, être humain, riviere\n",
    "downloadAllImages(wd=bdd,limit=10)\n",
    "print(img_data)\n"
   ]
  },
  {
   "cell_type": "markdown",
   "id": "e951e480-50b2-4eba-bac8-60c5c9a7837b",
   "metadata": {},
   "source": [
    "# **Adding Meta to the Dataset**"
   ]
  },
  {
   "cell_type": "markdown",
   "id": "2c495e1c-1d48-45db-9591-9d7e0dd4866c",
   "metadata": {},
   "source": [
    "## *1. Exif* "
   ]
  },
  {
   "cell_type": "code",
   "execution_count": 4,
   "id": "79f4ef6f-e2ca-4d53-bdb0-fde6b1d00282",
   "metadata": {
    "tags": []
   },
   "outputs": [],
   "source": [
    "#Obtenir les metas d'une image\n",
    "def getMetaImg(name, imgfile):\n",
    "    #clés Exif\n",
    "    DATE_KEY = 36867\n",
    "    MODEL_KEY = 272\n",
    "    \n",
    "    img_data[name].update({\n",
    "        'size': [getSizeImg(imgfile.size), imgfile.size],\n",
    "        'orientation': getOrientationImg(imgfile.size),\n",
    "        'format': imgfile.format,\n",
    "    })\n",
    "    \n",
    "    getColorsImg(name, imgfile)\n",
    "    \n",
    "    exif_data = imgfile._getexif()\n",
    "    if exif_data is not None:\n",
    "        if DATE_KEY in exif_data:\n",
    "            img_data[name]['date'] = exif_data[DATE_KEY]\n",
    "        if MODEL_KEY in exif_data:\n",
    "            img_data[name]['model'] = exif_data[MODEL_KEY]\n",
    "\n",
    "def getOrientationImg(size): #(largeur,hauteur)\n",
    "    width,height = size\n",
    "    return \"landscape\" if width > height else \"portrait\" if height > width else \"squared\"\n",
    "    \n",
    "def getSizeImg(size): #(largeur,hauteur)\n",
    "    width,height = size\n",
    "    return \"large\" if width*height>1920*1080 else \"small\" if width*height<640*480 else \"medium\"\n",
    "    \n"
   ]
  },
  {
   "cell_type": "markdown",
   "id": "bd1d3ed5-bee1-40c5-9655-478f211ba2d1",
   "metadata": {},
   "source": [
    "## *2. Main Color* "
   ]
  },
  {
   "cell_type": "code",
   "execution_count": 5,
   "id": "b171d862-0a09-463c-8e53-51901d18a160",
   "metadata": {},
   "outputs": [],
   "source": [
    "def getColorsImg(name, imgfile, cluster_nbr=3, n_init=1):\n",
    "    \n",
    "    img_data[name]['colors'] = {}\n",
    "    \n",
    "    img_array = numpy.array(imgfile)\n",
    "    \n",
    "    try:\n",
    "        img_vector = img_array.reshape(-1, 3)\n",
    "\n",
    "        clusters = MiniBatchKMeans(n_clusters=cluster_nbr, n_init=n_init, random_state=0).fit(img_vector) #Random state pour garder la meme seed ppour toutes les images\n",
    "\n",
    "        for i in range(cluster_nbr):\n",
    "            rgb = (int(clusters.cluster_centers_[i][0]),int(clusters.cluster_centers_[i][1]),int(clusters.cluster_centers_[i][2]))\n",
    "\n",
    "            # chercher le nom de couleur correspondant au code RGB\n",
    "            try:\n",
    "                color_name = webcolors.rgb_to_name(rgb)\n",
    "            except ValueError:\n",
    "                # si le nom exact n'est pas trouvé, trouver le nom le plus proche\n",
    "                min_colors = {}\n",
    "                for key, name_ in webcolors.CSS3_HEX_TO_NAMES.items():\n",
    "                    r_c, g_c, b_c = webcolors.hex_to_rgb(key)\n",
    "                    rd = (r_c - rgb[0]) ** 2\n",
    "                    gd = (g_c - rgb[1]) ** 2\n",
    "                    bd = (b_c - rgb[2]) ** 2\n",
    "                    min_colors[(rd + gd + bd)] = name_\n",
    "                color_name = min_colors[min(min_colors.keys())]\n",
    "\n",
    "\n",
    "            img_data[name]['colors'][color_name] = rgb\n",
    "            \n",
    "    except Exception as e:\n",
    "        print('Pas de couleur : {}'.format(e))\n"
   ]
  },
  {
   "cell_type": "markdown",
   "id": "f498394c-af02-4b6f-bc62-b65d24a175a2",
   "metadata": {},
   "source": [
    "## *3. All Meta* "
   ]
  },
  {
   "cell_type": "code",
   "execution_count": null,
   "id": "69250fd9-f23f-4c54-9385-8960ae2a69aa",
   "metadata": {
    "tags": []
   },
   "outputs": [
    {
     "name": "stdout",
     "output_type": "stream",
     "text": [
      "Erreur lors de l'ouverture de l'image images/Q3017891-Q14660.jpg: cannot identify image file 'images/Q3017891-Q14660.jpg'\n",
      "Erreur lors de l'ouverture de l'image images/Q3039089-Q14660.jpg: cannot identify image file 'images/Q3039089-Q14660.jpg'\n"
     ]
    }
   ],
   "source": [
    "def openImgGetMeta(name): #name = 'img.jpg'\n",
    "    try:\n",
    "        with Image.open(\"images/\"+name) as imgfile:\n",
    "            #print(imgfile.size, imgfile.format)\n",
    "            name = name.split(\".\")[0]\n",
    "            getMetaImg(name, imgfile)\n",
    "\n",
    "        imgfile.close()\n",
    "        return True\n",
    "    except FileNotFoundError as e:\n",
    "        print('Impossible de trouver le fichier {}: {}'.format(\"images/\"+name, e))\n",
    "        return False\n",
    "    except Exception as e:\n",
    "        print('Erreur lors de l\\'ouverture de l\\'image {}: {}'.format(\"images/\"+name, e))\n",
    "        removeImage(name)\n",
    "        return False\n",
    "        \n",
    "#Obtenir les metas de toutes nos images    \n",
    "def openGetMetaAllImg(namefolder='images'):\n",
    "    for image in os.listdir(namefolder):\n",
    "        openImgGetMeta(image)\n",
    "\n",
    "openGetMetaAllImg()"
   ]
  },
  {
   "cell_type": "markdown",
   "id": "bbaf2bcb-997a-40b0-8f1f-c1dc733f004c",
   "metadata": {},
   "source": [
    "## *4. Export to JSON* "
   ]
  },
  {
   "cell_type": "code",
   "execution_count": null,
   "id": "ebcaf4e1-a319-499b-89fe-0c889705c89b",
   "metadata": {
    "tags": []
   },
   "outputs": [],
   "source": [
    "#Enregistre les metadonnées des images dans un JSON\n",
    "def exportToJSON(data,name='img_data.json'):\n",
    "    with open(name, 'w', encoding='utf-8') as f:\n",
    "        json.dump(data, f, ensure_ascii=False, indent=4)\n",
    "    print(\"done\")\n",
    "        \n",
    "exportToJSON(data=img_data)"
   ]
  },
  {
   "cell_type": "markdown",
   "id": "aed00cd7-cee7-41f7-8dde-00b9dd8bb303",
   "metadata": {},
   "source": [
    "## *5. Open JSON* "
   ]
  },
  {
   "cell_type": "code",
   "execution_count": null,
   "id": "2781acfe-157f-4dea-b33e-b953cfa3ffed",
   "metadata": {},
   "outputs": [],
   "source": [
    "\n",
    "def openJSON(file=\"img_data.json\"):\n",
    "    # Ouvrir le fichier JSON en mode lecture (fermé automatiquement)\n",
    "    with open(file, 'r') as f:\n",
    "        data = json.load(f)\n",
    "    return data\n",
    "    "
   ]
  },
  {
   "cell_type": "markdown",
   "id": "0935a14c-e11d-468e-90d4-902f509740d5",
   "metadata": {},
   "source": [
    "## *6. Add categories* "
   ]
  },
  {
   "cell_type": "code",
   "execution_count": null,
   "id": "73430ae5-a71b-4036-b20a-cffc85b784f5",
   "metadata": {
    "tags": []
   },
   "outputs": [],
   "source": [
    "# Requête API à Wikidata pour récupérer les catégories de l'image\n",
    "def wikidataAPI(_id,lang):\n",
    "    url = f\"https://www.wikidata.org/w/api.php?action=wbgetentities&ids={_id}&props=labels|claims&languages={lang}&format=json\"\n",
    "    #if lang != \"\":\n",
    "    #    #categorie\n",
    "    #    url = f\"https://www.wikidata.org/w/api.php?action=wbgetentities&ids={_id}&props=labels&languages={lang}&format=json\"\n",
    "    #else:\n",
    "    #    #image\n",
    "    #    url = f\"https://www.wikidata.org/w/api.php?action=wbgetentities&ids={_id}&props=claims&format=json\"\n",
    "    response = requests.get(url)\n",
    "    return json.loads(response.text)\n",
    "\n",
    "\n",
    "def findTagsImg(_id, lang='en'): #\"Q7704028-Q144\"\n",
    "    \n",
    "    image_id, cat_id = _id.split(\"-\")\n",
    "    \n",
    "    # Requête API à Wikidata pour récupérer les catégories de l'image\n",
    "    img_data = wikidataAPI(image_id,lang)\n",
    "    cat_data = wikidataAPI(cat_id,lang)\n",
    "    \n",
    "    # Extraire le libellé de la catégorie dans la langue souhaitée\n",
    "    main_tag = cat_data.get('entities', {}).get(cat_id, {}).get('labels', {}).get(lang, {}).get('value', '')\n",
    "    \n",
    "    # Trouver les catégories dans la réponse de la requête API sur l'image\n",
    "    claims = img_data.get(\"entities\", {}).get(image_id, {}).get(\"claims\", {})\n",
    "    categories = formatCategory([x['mainsnak']['datavalue']['value'] for prop in [\"P910\", \"P373\"] for x in claims.get(prop, [])])\n",
    "            \n",
    "    if main_tag not in categories:\n",
    "        categories.append(main_tag)\n",
    "    \n",
    "    return categories\n",
    "\n",
    "\n",
    "def formatCategory(categories):\n",
    "    categories_ = []\n",
    "    \n",
    "    replaceCar = ['(', ')']\n",
    "    splitCar = [',', ' ']\n",
    "    \n",
    "    for category in categories:\n",
    "        for car in replaceCar:\n",
    "            category = category.replace(car, '')\n",
    "        for car in splitCar:\n",
    "            parts = category.split(car)\n",
    "            if len(parts) > 1:\n",
    "                categories_.extend(parts[1:])\n",
    "                category = parts[0]\n",
    "        categories_.append(category.lower())\n",
    "    \n",
    "    return categories_\n",
    "\n",
    "\n",
    "def addTagsJSON(image_id = \"Q7704028\", categories=[]):\n",
    "    data = openJSON(file=\"img_data.json\")\n",
    "    data[image_id]['tags'] = categories\n",
    "\n",
    "\n",
    "def addAllTagsJSON():\n",
    "    data = openJSON(file=\"img_data.json\")\n",
    "    for _id in data:\n",
    "        data[_id]['tags'] = findTagsImg(_id)\n",
    "    return data\n",
    "\n",
    "\n",
    "data = addAllTagsJSON()\n",
    "exportToJSON(data)\n"
   ]
  },
  {
   "cell_type": "markdown",
   "id": "5fbc4519-c030-45e4-899a-1add2956594c",
   "metadata": {},
   "source": [
    "# **Data Analyses**"
   ]
  },
  {
   "cell_type": "markdown",
   "id": "bd883c81-b71a-48e1-9863-c6ea9ef42822",
   "metadata": {},
   "source": [
    "## *1. Class User* "
   ]
  },
  {
   "cell_type": "code",
   "execution_count": null,
   "id": "7f3a0514-784a-46b2-a3d8-b79b12710839",
   "metadata": {
    "tags": []
   },
   "outputs": [],
   "source": [
    "class User:\n",
    "    def __init__(self, favorite_color=None, favorite_orientation=None, favorite_size=None, favorite_tags=None, favorite_pictures=None):\n",
    "        self._favorite_color = favorite_color\n",
    "        self._favorite_orientation = favorite_orientation\n",
    "        self._favorite_size = favorite_size\n",
    "        self._favorite_tags = favorite_tags\n",
    "        self._favorite_pictures = favorite_pictures\n",
    "\n",
    "    def get_favorite_color(self):\n",
    "        return self._favorite_color\n",
    "\n",
    "    def set_favorite_color(self, new_favorite_color):\n",
    "        self._favorite_color = new_favorite_color\n",
    "\n",
    "    def get_favorite_orientation(self):\n",
    "        return self._favorite_orientation\n",
    "\n",
    "    def set_favorite_orientation(self, new_favorite_orientation):\n",
    "        self._favorite_orientation = new_favorite_orientation\n",
    "\n",
    "    def get_favorite_size(self):\n",
    "        return self._favorite_size\n",
    "\n",
    "    def set_favorite_size(self, new_favorite_size):\n",
    "        self._favorite_size = new_favorite_size\n",
    "\n",
    "    def get_favorite_tags(self):\n",
    "        return self._favorite_tags\n",
    "\n",
    "    def set_favorite_tags(self, new_favorite_tags):\n",
    "        self._favorite_tags = new_favorite_tags\n",
    "\n",
    "    def get_favorite_pictures(self):\n",
    "        return self._favorite_pictures\n",
    "\n",
    "    def set_favorite_pictures(self, new_favorite_pictures):\n",
    "        self._favorite_pictures = new_favorite_pictures\n",
    "\n",
    "    def __str__(self):\n",
    "        return f\"User with favorite color {self._favorite_color}, orientation {self._favorite_orientation}, size {self._favorite_size}, tags {self._favorite_tags} and favorite pictures {self._favorite_pictures}\"\n",
    "\n",
    "\n",
    "class RandomUser(User):\n",
    "    # possible values for each attribute\n",
    "    colors = list(webcolors.CSS3_HEX_TO_NAMES.values())\n",
    "    orientations = [\"portrait\", \"landscape\", \"square\"]\n",
    "    sizes = [\"small\", \"medium\", \"large\"]\n",
    "    tags = [\"nature\", \"food\", \"travel\", \"art\", \"music\", \"sports\"]\n",
    "\n",
    "    def __init__(self):\n",
    "        # call the parent constructor with random parameters\n",
    "        super().__init__(\n",
    "            favorite_color=random.sample(self.colors, k=2),\n",
    "            favorite_orientation=random.choice(self.orientations),\n",
    "            favorite_size=random.choice(self.sizes),\n",
    "            favorite_tags=random.sample(self.tags, k=3),\n",
    "            favorite_pictures=[]\n",
    "        )\n"
   ]
  },
  {
   "cell_type": "markdown",
   "id": "34ddf135-bb53-4cad-b77b-60578df4ea95",
   "metadata": {
    "tags": []
   },
   "source": [
    "## *2. Creation of random Users* "
   ]
  },
  {
   "cell_type": "code",
   "execution_count": null,
   "id": "bce636c0-78f9-48a4-a17b-d77d149c786e",
   "metadata": {},
   "outputs": [],
   "source": [
    "#test = RandomUser()\n",
    "#print(test)\n",
    "\n",
    "number_users = 10\n",
    "number_pictures = 5\n",
    "users = []\n",
    "\n",
    "for i in range(number_users):\n",
    "    user = User(favorite_pictures=random.sample(os.listdir(\"images\"), k=number_pictures))\n",
    "    users.append(user)\n",
    "    print(user.get_favorite_pictures())\n"
   ]
  },
  {
   "cell_type": "markdown",
   "id": "22e75ef5-7486-4276-be6c-1667d1764ccb",
   "metadata": {},
   "source": [
    "## *3. Analyse Users* "
   ]
  },
  {
   "cell_type": "code",
   "execution_count": null,
   "id": "c021b9cd-9974-4f12-91a2-54ca6683b27d",
   "metadata": {
    "tags": []
   },
   "outputs": [],
   "source": [
    "print(data)"
   ]
  },
  {
   "cell_type": "markdown",
   "id": "9e878f9e-c504-4b7e-b289-a2e839c1e1f5",
   "metadata": {},
   "source": [
    "# **Data Visualization**"
   ]
  },
  {
   "cell_type": "markdown",
   "id": "da22c6e7-3127-4d59-99d6-64d9a5573c07",
   "metadata": {},
   "source": [
    "## *1. Number of pictures by year* "
   ]
  },
  {
   "cell_type": "code",
   "execution_count": null,
   "id": "9a305fd3-dac1-452b-bd2d-6001086b5d3b",
   "metadata": {
    "tags": []
   },
   "outputs": [],
   "source": [
    "nb_images_year = {}\n",
    "\n",
    "for image in data:\n",
    "    date = data[image].get('date', '')[0:5] #Recupere la date de l'image\n",
    "    nb_images_year[date] = nb_images_year.get(date,0) +1\n",
    "    \n",
    "print(nb_images_year)\n",
    "\n",
    "#Si on veut retirer les images sans date:\n",
    "nb_images_year.pop('')\n",
    "\n",
    "noms = list(nb_images_year.keys())\n",
    "valeurs = list(nb_images_year.values())\n",
    "\n",
    "plt.bar(noms, valeurs)\n",
    "plt.title(\"Nombre d'images par année\")\n",
    "plt.xlabel(\"Années\")\n",
    "plt.ylabel(\"Nombre d'images\")\n",
    "plt.show()"
   ]
  },
  {
   "cell_type": "markdown",
   "id": "eb28025a-7ad2-4881-ac44-3924bbb32219",
   "metadata": {},
   "source": [
    "## *2. Number* "
   ]
  },
  {
   "cell_type": "markdown",
   "id": "abdfae49-a1b5-426b-99a2-44bd3b23052d",
   "metadata": {},
   "source": [
    "# **Recommendation System**\n"
   ]
  },
  {
   "cell_type": "code",
   "execution_count": null,
   "id": "189ea741-b840-4987-b953-46144ed58433",
   "metadata": {},
   "outputs": [],
   "source": []
  }
 ],
 "metadata": {
  "kernelspec": {
   "display_name": "Python 3 (ipykernel)",
   "language": "python",
   "name": "python3"
  },
  "language_info": {
   "codemirror_mode": {
    "name": "ipython",
    "version": 3
   },
   "file_extension": ".py",
   "mimetype": "text/x-python",
   "name": "python",
   "nbconvert_exporter": "python",
   "pygments_lexer": "ipython3",
   "version": "3.10.6"
  },
  "toc-showtags": false
 },
 "nbformat": 4,
 "nbformat_minor": 5
}
