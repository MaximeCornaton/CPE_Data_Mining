{
 "cells": [
  {
   "cell_type": "markdown",
   "id": "c8831037-2a16-46ab-8e57-1476504dafcb",
   "metadata": {},
   "source": [
    "# **Installation of Packages**\n",
    "\n",
    "First install packages like numpy, scikit-learn, matplotlib"
   ]
  },
  {
   "cell_type": "code",
   "execution_count": 1,
   "id": "799ba749-b7c1-4022-90c2-ca85423c6d72",
   "metadata": {},
   "outputs": [
    {
     "name": "stdout",
     "output_type": "stream",
     "text": [
      "Requirement already satisfied: numpy in /fs03/share/users/maxime.cornaton/home/CPE_Data_Mining/env/lib/python3.6/site-packages\n",
      "Requirement already satisfied: SPARQLWrapper in /fs03/share/users/maxime.cornaton/home/CPE_Data_Mining/env/lib/python3.6/site-packages\n",
      "Requirement already satisfied: rdflib>=4.0 in /fs03/share/users/maxime.cornaton/home/CPE_Data_Mining/env/lib/python3.6/site-packages (from SPARQLWrapper)\n",
      "Requirement already satisfied: six in /fs03/share/users/maxime.cornaton/home/CPE_Data_Mining/env/lib/python3.6/site-packages (from rdflib>=4.0->SPARQLWrapper)\n",
      "Requirement already satisfied: isodate in /fs03/share/users/maxime.cornaton/home/CPE_Data_Mining/env/lib/python3.6/site-packages (from rdflib>=4.0->SPARQLWrapper)\n",
      "Requirement already satisfied: pyparsing in /fs03/share/users/maxime.cornaton/home/CPE_Data_Mining/env/lib/python3.6/site-packages (from rdflib>=4.0->SPARQLWrapper)\n",
      "Requirement already satisfied: scikit-learn in /fs03/share/users/maxime.cornaton/home/CPE_Data_Mining/env/lib/python3.6/site-packages\n",
      "Requirement already satisfied: joblib>=0.11 in /fs03/share/users/maxime.cornaton/home/CPE_Data_Mining/env/lib/python3.6/site-packages (from scikit-learn)\n",
      "Requirement already satisfied: threadpoolctl>=2.0.0 in /fs03/share/users/maxime.cornaton/home/CPE_Data_Mining/env/lib/python3.6/site-packages (from scikit-learn)\n",
      "Requirement already satisfied: scipy>=0.19.1 in /fs03/share/users/maxime.cornaton/home/CPE_Data_Mining/env/lib/python3.6/site-packages (from scikit-learn)\n",
      "Requirement already satisfied: numpy>=1.13.3 in /fs03/share/users/maxime.cornaton/home/CPE_Data_Mining/env/lib/python3.6/site-packages (from scikit-learn)\n",
      "Collecting PIL\n",
      "\u001b[31m  Could not find a version that satisfies the requirement PIL (from versions: )\u001b[0m\n",
      "\u001b[31mNo matching distribution found for PIL\u001b[0m\n",
      "Requirement already satisfied: pandas in /fs03/share/users/maxime.cornaton/home/CPE_Data_Mining/env/lib/python3.6/site-packages\n",
      "Requirement already satisfied: pytz>=2017.2 in /fs03/share/users/maxime.cornaton/home/CPE_Data_Mining/env/lib/python3.6/site-packages (from pandas)\n",
      "Requirement already satisfied: python-dateutil>=2.7.3 in /fs03/share/users/maxime.cornaton/home/CPE_Data_Mining/env/lib/python3.6/site-packages (from pandas)\n",
      "Requirement already satisfied: numpy>=1.15.4 in /fs03/share/users/maxime.cornaton/home/CPE_Data_Mining/env/lib/python3.6/site-packages (from pandas)\n",
      "Requirement already satisfied: six>=1.5 in /fs03/share/users/maxime.cornaton/home/CPE_Data_Mining/env/lib/python3.6/site-packages (from python-dateutil>=2.7.3->pandas)\n",
      "Requirement already satisfied: webcolors in /fs03/share/users/maxime.cornaton/home/CPE_Data_Mining/env/lib/python3.6/site-packages\n"
     ]
    }
   ],
   "source": [
    "!pip3 install numpy \n",
    "!pip3 install SPARQLWrapper\n",
    "!pip3 install scikit-learn\n",
    "!pip3 install PIL\n",
    "!pip3 install pandas\n",
    "!pip3 install webcolors"
   ]
  },
  {
   "cell_type": "markdown",
   "id": "b9e3f465-472a-4b8d-be2d-34a06b69b18d",
   "metadata": {},
   "source": [
    "# **Importation of packages**\n",
    "\n",
    "We import the necessary packages"
   ]
  },
  {
   "cell_type": "code",
   "execution_count": 2,
   "id": "47128905-6837-4900-83e4-ebf0756c19f1",
   "metadata": {
    "tags": []
   },
   "outputs": [],
   "source": [
    "import os, sys, json\n",
    "import urllib \n",
    "import shutil\n",
    "import numpy\n",
    "from SPARQLWrapper import SPARQLWrapper, JSON\n",
    "from PIL import Image\n",
    "from sklearn.cluster import KMeans, MiniBatchKMeans\n",
    "import webcolors\n",
    "import random"
   ]
  },
  {
   "cell_type": "markdown",
   "id": "4fad4a30-8856-4088-82fd-032801640336",
   "metadata": {},
   "source": [
    "# **Load Dataset**"
   ]
  },
  {
   "cell_type": "code",
   "execution_count": 3,
   "id": "867a4edf-0862-4e9b-a179-9c0e60900d12",
   "metadata": {
    "tags": []
   },
   "outputs": [
    {
     "name": "stdout",
     "output_type": "stream",
     "text": [
      "Dossier images déjà exitant !\n",
      "Images déjà téléchargées !\n",
      "{'Q7809730': {}, 'Q7650148': {}, 'Q7704028': {}, 'Q7802871': {}, 'Q7660509': {}}\n"
     ]
    }
   ],
   "source": [
    "endpoint_url = \"https://query.wikidata.org/sparql\"\n",
    "\n",
    "img_data = {}\n",
    "\n",
    "#Requete pour recuperer les infos de l'entité donnée - Q144/Chien par defaut\n",
    "def query(wd='Q144', limit=5):\n",
    "     return \"\"\"SELECT ?item ?itemLabel ?pic{?item wdt:P31 wd:\"\"\"+wd+\"\"\".?item wdt:P18 ?pic}limit \"\"\"+str(limit)+\"\"\"\"\"\"\n",
    "\n",
    "def get_results(endpoint_url, query):\n",
    "    user_agent = \"WDQS-example Python/%s.%s\" % (sys.version_info[0], sys.version_info[1])\n",
    "    sparql = SPARQLWrapper(endpoint_url, agent=user_agent)\n",
    "    sparql.setQuery(query)\n",
    "    sparql.setReturnFormat(JSON)\n",
    "    return sparql.query().convert()\n",
    "\n",
    "#Pour creer le fichier des images s'il existe pas\n",
    "def createFolder(name='images'):\n",
    "    if name not in os.listdir():\n",
    "        os.mkdir(name)\n",
    "    else:\n",
    "        print('Dossier '+name+' déjà exitant !')\n",
    "\n",
    "#Pour verifier si un dossier est vide - evitons de retélécharger des images inutilement.\n",
    "def isEmpty(name='images'):\n",
    "    if len(os.listdir(name)) == 0:\n",
    "        return True\n",
    "    return False\n",
    "\n",
    "#Pour ajouter des elements a la bdd\n",
    "def addImg(wd,limit):\n",
    "    results = get_results(endpoint_url, query(wd,limit))\n",
    "    for result in results['results']['bindings']:\n",
    "        img_data[result['item']['value'].split(\"/\")[-1]] = {}\n",
    "        #img_data[result['item']['value'].split(\"/\")[-1]] = {'image': result['pic']['value'],}\n",
    "    #print(img_data)\n",
    "        downloadImage(result['pic']['value'], result['item']['value'].split(\"/\")[-1])\n",
    "\n",
    "def addAllImg(wd,limit):\n",
    "    for w in wd:\n",
    "        addImg(w,limit)\n",
    "\n",
    "#Pour telecharger l'image d'un element de la bd\n",
    "def downloadImage(url, name_img='img0'):\n",
    "    full_path = 'images/'+name_img+'.jpg'\n",
    "    urllib.request.urlretrieve(url, full_path)\n",
    "\n",
    "#Si les images sont deja telechargées on initialise le tableau\n",
    "def initAlreadyDownload(namefolder='images'):\n",
    "    for image in os.listdir(namefolder):\n",
    "        #img_data[image.split(\".\")[0]] = {'image': \"\",}\n",
    "        img_data[image.split(\".\")[0]] = {}\n",
    "    \n",
    "#Pour télécharger toutes les images - limit par query\n",
    "def downloadAllImages(wd=['Q144'], limit=5):\n",
    "    createFolder()\n",
    "    if isEmpty() == False:\n",
    "        print('Images déjà téléchargées !')\n",
    "        initAlreadyDownload()\n",
    "        return False\n",
    "    addAllImg(wd,limit)\n",
    "    return True \n",
    "\n",
    "\n",
    "#Supprimer une image du dossier \n",
    "def removeImage(image):\n",
    "    if os.path.isfile('images/'+image):\n",
    "        os.remove('images/'+image)\n",
    "        img_data.pop(image.split(\".\")[0])\n",
    "    else:\n",
    "        shutil.rmtree('images/'+image)\n",
    "    \n",
    "downloadAllImages(wd=['Q144','Q14660'],limit=5)\n",
    "print(img_data)\n"
   ]
  },
  {
   "cell_type": "markdown",
   "id": "e951e480-50b2-4eba-bac8-60c5c9a7837b",
   "metadata": {},
   "source": [
    "# **Adding Meta to the Dataset**"
   ]
  },
  {
   "cell_type": "markdown",
   "id": "2c495e1c-1d48-45db-9591-9d7e0dd4866c",
   "metadata": {},
   "source": [
    "## *1. Exif* "
   ]
  },
  {
   "cell_type": "code",
   "execution_count": 4,
   "id": "79f4ef6f-e2ca-4d53-bdb0-fde6b1d00282",
   "metadata": {
    "tags": []
   },
   "outputs": [],
   "source": [
    "#Obtenir les metas d'une image\n",
    "def getMetaImg(name, imgfile): #name = 'img'\n",
    "    \n",
    "    img_data[name]['size'] = imgfile.size #(largeur,hauteur)\n",
    "    img_data[name]['format'] = imgfile.format\n",
    "    img_data[name]['orientation'] = getOrientationImg(img_data[name]['size'])\n",
    "    \n",
    "    getColorsImg(name, imgfile)\n",
    "    \n",
    "    exif_data = imgfile._getexif()\n",
    "    if exif_data:\n",
    "        img_data[name]['date'] = exif_data.get(36867, \"\") #Date\n",
    "        img_data[name]['model'] = exif_data.get(272, \"\") #Appareil utilisé\n",
    "    else:\n",
    "        pass\n",
    "        #print(\"Aucune donnée Exif trouvée.\")\n",
    "\n",
    "def getOrientationImg(size): #(largeur,hauteur)\n",
    "    width,height = size\n",
    "    return \"landscape\" if width > height else \"portrait\" if height > width else \"squared\"\n",
    "    \n",
    "    \n"
   ]
  },
  {
   "cell_type": "markdown",
   "id": "bd1d3ed5-bee1-40c5-9655-478f211ba2d1",
   "metadata": {},
   "source": [
    "## *2. Main Color* "
   ]
  },
  {
   "cell_type": "code",
   "execution_count": 5,
   "id": "b171d862-0a09-463c-8e53-51901d18a160",
   "metadata": {},
   "outputs": [],
   "source": [
    "def getColorsImg(name, imgfile, cluster_nbr=3, n_init=1):\n",
    "\n",
    "    img_array = numpy.array(imgfile)\n",
    "    img_vector = img_array.reshape(-1, 3)\n",
    "    clusters = MiniBatchKMeans(n_clusters=cluster_nbr, n_init=n_init, random_state=0).fit(img_vector) #Random state pour garder la meme seed ppour toutes les images\n",
    "    \n",
    "    img_data[name]['couleur'] = {}\n",
    "    \n",
    "    for i in range(cluster_nbr):\n",
    "        rgb = (int(clusters.cluster_centers_[i][0]),int(clusters.cluster_centers_[i][1]),int(clusters.cluster_centers_[i][2]))\n",
    "\n",
    "        # chercher le nom de couleur correspondant au code RGB\n",
    "        try:\n",
    "            color_name = webcolors.rgb_to_name(rgb)\n",
    "        except ValueError:\n",
    "            # si le nom exact n'est pas trouvé, trouver le nom le plus proche\n",
    "            min_colors = {}\n",
    "            for key, name_ in webcolors.CSS3_HEX_TO_NAMES.items():\n",
    "                r_c, g_c, b_c = webcolors.hex_to_rgb(key)\n",
    "                rd = (r_c - rgb[0]) ** 2\n",
    "                gd = (g_c - rgb[1]) ** 2\n",
    "                bd = (b_c - rgb[2]) ** 2\n",
    "                min_colors[(rd + gd + bd)] = name_\n",
    "            color_name = min_colors[min(min_colors.keys())]\n",
    "        \n",
    "        \n",
    "        img_data[name]['couleur'][color_name] = rgb\n"
   ]
  },
  {
   "cell_type": "markdown",
   "id": "f498394c-af02-4b6f-bc62-b65d24a175a2",
   "metadata": {},
   "source": [
    "## *3. All Meta* "
   ]
  },
  {
   "cell_type": "code",
   "execution_count": 6,
   "id": "69250fd9-f23f-4c54-9385-8960ae2a69aa",
   "metadata": {
    "tags": []
   },
   "outputs": [],
   "source": [
    "def openImgGetMeta(name): #name = 'img.jpg'\n",
    "    try:\n",
    "        with Image.open(\"images/\"+name) as imgfile:\n",
    "            #print(imgfile.size, imgfile.format)\n",
    "            name = name.split(\".\")[0]\n",
    "            getMetaImg(name, imgfile)\n",
    "\n",
    "        imgfile.close()\n",
    "        return True\n",
    "    except FileNotFoundError as e:\n",
    "        print('Impossible de trouver le fichier {}: {}'.format(\"images/\"+name, e))\n",
    "        return False\n",
    "    except Exception as e:\n",
    "        print('Erreur lors de l\\'ouverture de l\\'image {}: {}'.format(\"images/\"+name, e))\n",
    "        removeImage(name)\n",
    "        return False\n",
    "        \n",
    "#Obtenir les metas de toutes nos images    \n",
    "def openGetMetaAllImg(namefolder='images'):\n",
    "    for image in os.listdir(namefolder):\n",
    "        openImgGetMeta(image)\n",
    "\n",
    "openGetMetaAllImg()"
   ]
  },
  {
   "cell_type": "markdown",
   "id": "bbaf2bcb-997a-40b0-8f1f-c1dc733f004c",
   "metadata": {},
   "source": [
    "## *4. Export to JSON* "
   ]
  },
  {
   "cell_type": "code",
   "execution_count": 7,
   "id": "ebcaf4e1-a319-499b-89fe-0c889705c89b",
   "metadata": {
    "tags": []
   },
   "outputs": [
    {
     "name": "stdout",
     "output_type": "stream",
     "text": [
      "done\n"
     ]
    }
   ],
   "source": [
    "#Enregistre les metadonnées des images dans un JSON\n",
    "def exportToJSON(data,name='img_data.json'):\n",
    "    with open(name, 'w', encoding='utf-8') as f:\n",
    "        json.dump(data, f, ensure_ascii=False, indent=4)\n",
    "    print(\"done\")\n",
    "        \n",
    "exportToJSON(data=img_data)"
   ]
  },
  {
   "cell_type": "markdown",
   "id": "aed00cd7-cee7-41f7-8dde-00b9dd8bb303",
   "metadata": {},
   "source": [
    "## *5. Open JSON* "
   ]
  },
  {
   "cell_type": "code",
   "execution_count": 8,
   "id": "2781acfe-157f-4dea-b33e-b953cfa3ffed",
   "metadata": {},
   "outputs": [],
   "source": [
    "\n",
    "def openJSON(file=\"img_data.json\"):\n",
    "    # Ouvrir le fichier JSON en mode lecture (fermé automatiquement)\n",
    "    with open(file, 'r') as f:\n",
    "        data = json.load(f)\n",
    "    return data\n",
    "    "
   ]
  },
  {
   "cell_type": "markdown",
   "id": "0935a14c-e11d-468e-90d4-902f509740d5",
   "metadata": {},
   "source": [
    "## *6. Add categories* "
   ]
  },
  {
   "cell_type": "code",
   "execution_count": 9,
   "id": "73430ae5-a71b-4036-b20a-cffc85b784f5",
   "metadata": {
    "tags": []
   },
   "outputs": [
    {
     "name": "stdout",
     "output_type": "stream",
     "text": [
      "done\n"
     ]
    }
   ],
   "source": [
    "import requests\n",
    "import json\n",
    "\n",
    "\n",
    "def findTagsImg(image_id = \"Q7704028\"):\n",
    "\n",
    "    #requête API à Wikidata pour récupérer les catégories de l'image\n",
    "    response = requests.get(\"https://www.wikidata.org/w/api.php?action=wbgetentities&ids=\" + image_id + \"&props=claims&format=json\")\n",
    "    data = json.loads(response.text)\n",
    "    \n",
    "    categories = []\n",
    "    \n",
    "    # Trouvez les catégories dans la réponse de la requête API\n",
    "    if \"P910\" in data[\"entities\"][image_id][\"claims\"]:\n",
    "        category = [x[\"mainsnak\"][\"datavalue\"][\"value\"] for x in data[\"entities\"][image_id][\"claims\"][\"P910\"]]\n",
    "        categories += formatCategory(category)\n",
    "    if \"P373\" in data[\"entities\"][image_id][\"claims\"]:\n",
    "        category = [x[\"mainsnak\"][\"datavalue\"][\"value\"] for x in data[\"entities\"][image_id][\"claims\"][\"P373\"]]\n",
    "        categories += formatCategory(category)\n",
    "    \n",
    "    return categories\n",
    "\n",
    "\n",
    "def formatCategory(categories=[]):\n",
    "    categories_ = categories[:]\n",
    "    \n",
    "    replaceCar = ['(', ')']\n",
    "    splitCar = [',', ' ']\n",
    "    \n",
    "    for i,category in enumerate(categories_):\n",
    "        for car in replaceCar:\n",
    "            if car in category:\n",
    "                categories_[i] = categories_[i].replace(car, '')\n",
    "        for car in splitCar:\n",
    "            if car in category:\n",
    "                categories_.append(categories_[i].split(car)[1])\n",
    "                categories_[i] = categories_[i].split(car)[0]\n",
    "        categories_[i] = categories_[i].lower()\n",
    "    return categories_\n",
    "\n",
    "\n",
    "def addTagsJSON(image_id = \"Q7704028\", categories=[]):\n",
    "    data = openJSON(file=\"img_data.json\")\n",
    "    data[image_id]['tags'] = categories\n",
    "\n",
    "\n",
    "def addAllTagsJSON():\n",
    "    data = openJSON(file=\"img_data.json\")\n",
    "    for image_id in data:\n",
    "        data[image_id]['tags'] = findTagsImg(image_id)\n",
    "    return data\n",
    "\n",
    "data = addAllTagsJSON()\n",
    "exportToJSON(data)\n"
   ]
  },
  {
   "cell_type": "markdown",
   "id": "5fbc4519-c030-45e4-899a-1add2956594c",
   "metadata": {},
   "source": [
    "# **Data Analyses**"
   ]
  },
  {
   "cell_type": "markdown",
   "id": "bd883c81-b71a-48e1-9863-c6ea9ef42822",
   "metadata": {},
   "source": [
    "## *1. Class User* "
   ]
  },
  {
   "cell_type": "code",
   "execution_count": 10,
   "id": "7f3a0514-784a-46b2-a3d8-b79b12710839",
   "metadata": {
    "tags": []
   },
   "outputs": [],
   "source": [
    "class User:\n",
    "    def __init__(self, favorite_color, favorite_orientation, favorite_size, favorite_tags):\n",
    "        self._favorite_color = favorite_color\n",
    "        self._favorite_orientation = favorite_orientation\n",
    "        self._favorite_size = favorite_size\n",
    "        self._favorite_tags = favorite_tags\n",
    "\n",
    "    # getter and setter for favorite_color attribute\n",
    "    def get_favorite_color(self):\n",
    "        return self._favorite_color\n",
    "\n",
    "    def set_favorite_color(self, new_favorite_color):\n",
    "        self._favorite_color = new_favorite_color\n",
    "\n",
    "    # getter and setter for favorite_orientation attribute\n",
    "    def get_favorite_orientation(self):\n",
    "        return self._favorite_orientation\n",
    "\n",
    "    def set_favorite_orientation(self, new_favorite_orientation):\n",
    "        self._favorite_orientation = new_favorite_orientation\n",
    "\n",
    "    # getter and setter for favorite_size attribute\n",
    "    def get_favorite_size(self):\n",
    "        return self._favorite_size\n",
    "\n",
    "    def set_favorite_size(self, new_favorite_size):\n",
    "        self._favorite_size = new_favorite_size\n",
    "\n",
    "    # getter and setter for favorite_tags attribute\n",
    "    def get_favorite_tags(self):\n",
    "        return self._favorite_tags\n",
    "\n",
    "    def set_favorite_tags(self, new_favorite_tags):\n",
    "        self._favorite_tags = new_favorite_tags\n",
    "    \n",
    "    def __str__(self):\n",
    "        return f\"User with favorite color {self._favorite_color}, orientation {self._favorite_orientation}, size {self._favorite_size}, and tags {self._favorite_tags}\"\n",
    "    \n",
    "    \n",
    "class RandomUser(User):\n",
    "    # possible values for each attribute\n",
    "    colors = [\"red\", \"blue\", \"green\", \"yellow\", \"purple\", \"orange\"]\n",
    "    orientations = [\"portrait\", \"landscape\", \"square\"]\n",
    "    sizes = [\"small\", \"medium\", \"large\"]\n",
    "    tags = [\"nature\", \"food\", \"travel\", \"art\", \"music\", \"sports\"]\n",
    "\n",
    "    def __init__(self):\n",
    "        # call the parent constructor with random parameters\n",
    "        super().__init__(\n",
    "            favorite_color=random.choices(self.colors, k=2),\n",
    "            favorite_orientation=random.choice(self.orientations),\n",
    "            favorite_size=random.choice(self.sizes),\n",
    "            favorite_tags=random.sample(self.tags, k=3)\n",
    "        )"
   ]
  },
  {
   "cell_type": "code",
   "execution_count": 11,
   "id": "bce636c0-78f9-48a4-a17b-d77d149c786e",
   "metadata": {},
   "outputs": [
    {
     "name": "stdout",
     "output_type": "stream",
     "text": [
      "User with favorite color ['yellow', 'blue'], orientation landscape, size small, and tags ['nature', 'food', 'art']\n"
     ]
    }
   ],
   "source": [
    "# create a new random user\n",
    "user1 = RandomUser()\n",
    "\n",
    "# access the attributes of the user\n",
    "color = user1.get_favorite_color() # returns a random color\n",
    "orientation = user1.get_favorite_orientation() # returns a random orientation\n",
    "size = user1.get_favorite_size() # returns a random size\n",
    "tags = user1.get_favorite_tags() # returns a random list of tags\n",
    "\n",
    "print(user1)"
   ]
  },
  {
   "cell_type": "markdown",
   "id": "22e75ef5-7486-4276-be6c-1667d1764ccb",
   "metadata": {},
   "source": [
    "## *2. Analyse User* "
   ]
  },
  {
   "cell_type": "code",
   "execution_count": null,
   "id": "c021b9cd-9974-4f12-91a2-54ca6683b27d",
   "metadata": {},
   "outputs": [],
   "source": []
  },
  {
   "cell_type": "markdown",
   "id": "9e878f9e-c504-4b7e-b289-a2e839c1e1f5",
   "metadata": {},
   "source": [
    "# **Data Visualization**"
   ]
  },
  {
   "cell_type": "code",
   "execution_count": null,
   "id": "fb853080-9d42-4226-9741-ca060182275c",
   "metadata": {},
   "outputs": [],
   "source": []
  },
  {
   "cell_type": "markdown",
   "id": "abdfae49-a1b5-426b-99a2-44bd3b23052d",
   "metadata": {},
   "source": [
    "# **Recommendation System**\n"
   ]
  },
  {
   "cell_type": "code",
   "execution_count": null,
   "id": "189ea741-b840-4987-b953-46144ed58433",
   "metadata": {},
   "outputs": [],
   "source": []
  }
 ],
 "metadata": {
  "kernelspec": {
   "display_name": "Python 3",
   "language": "python",
   "name": "python3"
  },
  "language_info": {
   "codemirror_mode": {
    "name": "ipython",
    "version": 3
   },
   "file_extension": ".py",
   "mimetype": "text/x-python",
   "name": "python",
   "nbconvert_exporter": "python",
   "pygments_lexer": "ipython3",
   "version": "3.6.9"
  },
  "toc-showtags": false
 },
 "nbformat": 4,
 "nbformat_minor": 5
}
